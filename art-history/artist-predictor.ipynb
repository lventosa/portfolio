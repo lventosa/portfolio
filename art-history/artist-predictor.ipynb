{
 "cells": [
  {
   "cell_type": "markdown",
   "metadata": {},
   "source": [
    "# Who Painted What? Artist Identification Model"
   ]
  },
  {
   "cell_type": "markdown",
   "metadata": {},
   "source": [
    "This project has two differentiated parts. Firstly, it explores a dataset with information about famous artists and their paintings. Secondly, a model is built to be able to identify the name of the author given a painting. "
   ]
  },
  {
   "cell_type": "markdown",
   "metadata": {},
   "source": [
    "## Table of contents\n",
    "- [Importing Dataset and Libraries](#importing)\n",
    "- [Data Analysis](#analysis)\n",
    "- [Artist Predition Model](#prediction) --> Work in progress"
   ]
  },
  {
   "cell_type": "markdown",
   "metadata": {},
   "source": [
    "## Importing Dataset and Libraries <a name=\"exploration\"></a>"
   ]
  },
  {
   "cell_type": "code",
   "execution_count": 163,
   "metadata": {},
   "outputs": [],
   "source": [
    "import pandas as pd\n",
    "import numpy as np\n",
    "import seaborn as sns\n",
    "import matplotlib.pyplot as plt"
   ]
  },
  {
   "cell_type": "code",
   "execution_count": 164,
   "metadata": {},
   "outputs": [],
   "source": [
    "artists = pd.read_csv('../art-history/datasets_130081_310927_artists.csv')"
   ]
  },
  {
   "cell_type": "markdown",
   "metadata": {},
   "source": [
    "## Data Analysis <a name=\"analysis\"></a>"
   ]
  },
  {
   "cell_type": "code",
   "execution_count": 165,
   "metadata": {},
   "outputs": [
    {
     "data": {
      "text/html": [
       "<div>\n",
       "<style scoped>\n",
       "    .dataframe tbody tr th:only-of-type {\n",
       "        vertical-align: middle;\n",
       "    }\n",
       "\n",
       "    .dataframe tbody tr th {\n",
       "        vertical-align: top;\n",
       "    }\n",
       "\n",
       "    .dataframe thead th {\n",
       "        text-align: right;\n",
       "    }\n",
       "</style>\n",
       "<table border=\"1\" class=\"dataframe\">\n",
       "  <thead>\n",
       "    <tr style=\"text-align: right;\">\n",
       "      <th></th>\n",
       "      <th>id</th>\n",
       "      <th>name</th>\n",
       "      <th>years</th>\n",
       "      <th>genre</th>\n",
       "      <th>nationality</th>\n",
       "      <th>bio</th>\n",
       "      <th>wikipedia</th>\n",
       "      <th>paintings</th>\n",
       "    </tr>\n",
       "  </thead>\n",
       "  <tbody>\n",
       "    <tr>\n",
       "      <th>0</th>\n",
       "      <td>0</td>\n",
       "      <td>Amedeo Modigliani</td>\n",
       "      <td>1884 - 1920</td>\n",
       "      <td>Expressionism</td>\n",
       "      <td>Italian</td>\n",
       "      <td>Amedeo Clemente Modigliani (Italian pronunciat...</td>\n",
       "      <td>http://en.wikipedia.org/wiki/Amedeo_Modigliani</td>\n",
       "      <td>193</td>\n",
       "    </tr>\n",
       "    <tr>\n",
       "      <th>1</th>\n",
       "      <td>1</td>\n",
       "      <td>Vasiliy Kandinskiy</td>\n",
       "      <td>1866 - 1944</td>\n",
       "      <td>Expressionism,Abstractionism</td>\n",
       "      <td>Russian</td>\n",
       "      <td>Wassily Wassilyevich Kandinsky (Russian: Васи́...</td>\n",
       "      <td>http://en.wikipedia.org/wiki/Wassily_Kandinsky</td>\n",
       "      <td>88</td>\n",
       "    </tr>\n",
       "    <tr>\n",
       "      <th>2</th>\n",
       "      <td>2</td>\n",
       "      <td>Diego Rivera</td>\n",
       "      <td>1886 - 1957</td>\n",
       "      <td>Social Realism,Muralism</td>\n",
       "      <td>Mexican</td>\n",
       "      <td>Diego María de la Concepción Juan Nepomuceno E...</td>\n",
       "      <td>http://en.wikipedia.org/wiki/Diego_Rivera</td>\n",
       "      <td>70</td>\n",
       "    </tr>\n",
       "    <tr>\n",
       "      <th>3</th>\n",
       "      <td>3</td>\n",
       "      <td>Claude Monet</td>\n",
       "      <td>1840 - 1926</td>\n",
       "      <td>Impressionism</td>\n",
       "      <td>French</td>\n",
       "      <td>Oscar-Claude Monet (; French: [klod mɔnɛ]; 14 ...</td>\n",
       "      <td>http://en.wikipedia.org/wiki/Claude_Monet</td>\n",
       "      <td>73</td>\n",
       "    </tr>\n",
       "    <tr>\n",
       "      <th>4</th>\n",
       "      <td>4</td>\n",
       "      <td>Rene Magritte</td>\n",
       "      <td>1898 - 1967</td>\n",
       "      <td>Surrealism,Impressionism</td>\n",
       "      <td>Belgian</td>\n",
       "      <td>René François Ghislain Magritte (French: [ʁəne...</td>\n",
       "      <td>http://en.wikipedia.org/wiki/René_Magritte</td>\n",
       "      <td>194</td>\n",
       "    </tr>\n",
       "  </tbody>\n",
       "</table>\n",
       "</div>"
      ],
      "text/plain": [
       "   id                name        years                         genre  \\\n",
       "0   0   Amedeo Modigliani  1884 - 1920                 Expressionism   \n",
       "1   1  Vasiliy Kandinskiy  1866 - 1944  Expressionism,Abstractionism   \n",
       "2   2        Diego Rivera  1886 - 1957       Social Realism,Muralism   \n",
       "3   3        Claude Monet  1840 - 1926                 Impressionism   \n",
       "4   4       Rene Magritte  1898 - 1967      Surrealism,Impressionism   \n",
       "\n",
       "  nationality                                                bio  \\\n",
       "0     Italian  Amedeo Clemente Modigliani (Italian pronunciat...   \n",
       "1     Russian  Wassily Wassilyevich Kandinsky (Russian: Васи́...   \n",
       "2     Mexican  Diego María de la Concepción Juan Nepomuceno E...   \n",
       "3      French  Oscar-Claude Monet (; French: [klod mɔnɛ]; 14 ...   \n",
       "4     Belgian  René François Ghislain Magritte (French: [ʁəne...   \n",
       "\n",
       "                                        wikipedia  paintings  \n",
       "0  http://en.wikipedia.org/wiki/Amedeo_Modigliani        193  \n",
       "1  http://en.wikipedia.org/wiki/Wassily_Kandinsky         88  \n",
       "2       http://en.wikipedia.org/wiki/Diego_Rivera         70  \n",
       "3       http://en.wikipedia.org/wiki/Claude_Monet         73  \n",
       "4      http://en.wikipedia.org/wiki/René_Magritte        194  "
      ]
     },
     "execution_count": 165,
     "metadata": {},
     "output_type": "execute_result"
    }
   ],
   "source": [
    "artists.head()"
   ]
  },
  {
   "cell_type": "code",
   "execution_count": 166,
   "metadata": {},
   "outputs": [
    {
     "data": {
      "text/plain": [
       "(50, 8)"
      ]
     },
     "execution_count": 166,
     "metadata": {},
     "output_type": "execute_result"
    }
   ],
   "source": [
    "artists.shape"
   ]
  },
  {
   "cell_type": "code",
   "execution_count": 167,
   "metadata": {},
   "outputs": [
    {
     "data": {
      "text/plain": [
       "id              int64\n",
       "name           object\n",
       "years          object\n",
       "genre          object\n",
       "nationality    object\n",
       "bio            object\n",
       "wikipedia      object\n",
       "paintings       int64\n",
       "dtype: object"
      ]
     },
     "execution_count": 167,
     "metadata": {},
     "output_type": "execute_result"
    }
   ],
   "source": [
    "artists.dtypes"
   ]
  },
  {
   "cell_type": "code",
   "execution_count": 168,
   "metadata": {},
   "outputs": [
    {
     "data": {
      "text/plain": [
       "['Abstract Expressionism',\n",
       " 'Baroque',\n",
       " 'Byzantine Art',\n",
       " 'Cubism',\n",
       " 'Early Renaissance',\n",
       " 'Expressionism',\n",
       " 'Expressionism,Abstractionism',\n",
       " 'Expressionism,Abstractionism,Surrealism',\n",
       " 'High Renaissance',\n",
       " 'High Renaissance,Mannerism',\n",
       " 'Impressionism',\n",
       " 'Impressionism,Post-Impressionism',\n",
       " 'Mannerism',\n",
       " 'Neoplasticism',\n",
       " 'Northern Renaissance',\n",
       " 'Pop Art',\n",
       " 'Post-Impressionism',\n",
       " 'Primitivism',\n",
       " 'Primitivism,Surrealism',\n",
       " 'Proto Renaissance',\n",
       " 'Realism',\n",
       " 'Realism,Impressionism',\n",
       " 'Romanticism',\n",
       " 'Social Realism,Muralism',\n",
       " 'Suprematism',\n",
       " 'Surrealism',\n",
       " 'Surrealism,Impressionism',\n",
       " 'Symbolism',\n",
       " 'Symbolism,Art Nouveau',\n",
       " 'Symbolism,Expressionism',\n",
       " 'Symbolism,Post-Impressionism']"
      ]
     },
     "execution_count": 168,
     "metadata": {},
     "output_type": "execute_result"
    }
   ],
   "source": [
    "genre = artists['genre'].astype('category').cat.categories.tolist()\n",
    "genre"
   ]
  },
  {
   "cell_type": "markdown",
   "metadata": {},
   "source": [
    "As we can observe, some artists belong to more than one genre. By creating one binary variable for each existing genre we will be able to take this into account and obtain more precise insights when proceeding with the analysis. Prior to that, we eliminate the commas, blank spaces and dashes so that the names of the genres are easier to handle."
   ]
  },
  {
   "cell_type": "code",
   "execution_count": 169,
   "metadata": {},
   "outputs": [],
   "source": [
    "#artists['genre'] = artists['genre'].str.replace(\",\", \"\")\n",
    "artists['genre'] = artists['genre'].str.replace(\" \", \"\")\n",
    "artists['genre'] = artists['genre'].str.replace(\"-\", \"\")"
   ]
  },
  {
   "cell_type": "code",
   "execution_count": 170,
   "metadata": {},
   "outputs": [],
   "source": [
    "newdata = pd.get_dummies(artists, columns=['genre'])\n",
    "newdata['genre_Abstractionism'] = 0\n",
    "newdata['genre_SocialRealism'] = 0\n",
    "newdata['genre_Muralism'] = 0\n",
    "newdata['genre_Symbolism'] = 0\n",
    "newdata['genre_ArtNouveau'] = 0"
   ]
  },
  {
   "cell_type": "code",
   "execution_count": 172,
   "metadata": {},
   "outputs": [],
   "source": [
    "for i in range(0, len(artists)):\n",
    "    if newdata['genre_Expressionism,Abstractionism'][i] == 1:\n",
    "        newdata['genre_Expressionism'][i] == 1\n",
    "        newdata['genre_Abstractionism'][i] == 1\n",
    "    if newdata['genre_Expressionism,Abstractionism,Surrealism'][i] == 1:\n",
    "        newdata['genre_Expressionism'][i] == 1\n",
    "        newdata['genre_Abstractionism'][i] == 1\n",
    "        newdata['genre_Surrealism'][i] == 1\n",
    "    if newdata['genre_HighRenaissance,Mannerism'][i] == 1:\n",
    "        newdata['genre_HighRenaissance'][i] == 1\n",
    "        newdata['genre_Mannerism'][i] == 1\n",
    "    if newdata['genre_Impressionism,PostImpressionism'][i] == 1:\n",
    "        newdata['genre_Impressionism'][i] == 1\n",
    "        newdata['genre_PostImpressionism'][i] == 1\n",
    "    if newdata['genre_SocialRealism,Muralism'][i] == 1:\n",
    "        newdata['genre_SocialRealism'][i] == 1\n",
    "        newdata['genre_Muralism'][i] == 1\n",
    "    if newdata['genre_Surrealism,Impressionism'][i] == 1:\n",
    "        newdata['genre_Surrealism'][i] == 1\n",
    "        newdata['genre_Impressionism'][i] == 1\n",
    "    if newdata['genre_Realism,Impressionism'][i] == 1:\n",
    "        newdata['genre_Realism'][i] == 1\n",
    "        newdata['genre_Impressionism'][i] == 1\n",
    "    if newdata['genre_Symbolism,ArtNouveau'][i] == 1:\n",
    "        newdata['genre_Symbolism'][i] == 1\n",
    "        newdata['genre_ArtNouveau'][i] == 1\n",
    "    if newdata['genre_Primitivism,Surrealism'][i] == 1:\n",
    "        newdata['genre_Primitivism'][i] == 1\n",
    "        newdata['genre_Surrealism'][i] == 1\n",
    "    if newdata['genre_Symbolism,Expressionism'][i] == 1:\n",
    "        newdata['genre_Symbolism'][i] == 1\n",
    "        newdata['genre_Expressionism'][i] == 1\n",
    "    if newdata['genre_Symbolism,PostImpressionism'][i] == 1:\n",
    "        newdata['genre_Symbolism'][i] == 1\n",
    "        newdata['genre_PostImpressionism'][i] == 1\n",
    "newdata = newdata.drop(['genre_Expressionism,Abstractionism', 'genre_Expressionism,Abstractionism,Surrealism', 'genre_HighRenaissance,Mannerism', 'genre_Impressionism,PostImpressionism', 'genre_SocialRealism,Muralism', 'genre_Surrealism,Impressionism', 'genre_Realism,Impressionism', 'genre_Symbolism,ArtNouveau', 'genre_Primitivism,Surrealism', 'genre_Symbolism,Expressionism', 'genre_Symbolism,PostImpressionism'], axis=1)"
   ]
  },
  {
   "cell_type": "markdown",
   "metadata": {},
   "source": [
    "ANALISI ESTADISTICA GENERE SOBRE QUADRES PINTATS"
   ]
  },
  {
   "cell_type": "code",
   "execution_count": 154,
   "metadata": {
    "scrolled": true
   },
   "outputs": [
    {
     "data": {
      "text/html": [
       "<div>\n",
       "<style scoped>\n",
       "    .dataframe tbody tr th:only-of-type {\n",
       "        vertical-align: middle;\n",
       "    }\n",
       "\n",
       "    .dataframe tbody tr th {\n",
       "        vertical-align: top;\n",
       "    }\n",
       "\n",
       "    .dataframe thead th {\n",
       "        text-align: right;\n",
       "    }\n",
       "</style>\n",
       "<table border=\"1\" class=\"dataframe\">\n",
       "  <thead>\n",
       "    <tr style=\"text-align: right;\">\n",
       "      <th></th>\n",
       "      <th>name</th>\n",
       "      <th>paintings</th>\n",
       "    </tr>\n",
       "  </thead>\n",
       "  <tbody>\n",
       "    <tr>\n",
       "      <th>8</th>\n",
       "      <td>Vincent van Gogh</td>\n",
       "      <td>877</td>\n",
       "    </tr>\n",
       "    <tr>\n",
       "      <th>30</th>\n",
       "      <td>Edgar Degas</td>\n",
       "      <td>702</td>\n",
       "    </tr>\n",
       "    <tr>\n",
       "      <th>13</th>\n",
       "      <td>Pablo Picasso</td>\n",
       "      <td>439</td>\n",
       "    </tr>\n",
       "    <tr>\n",
       "      <th>15</th>\n",
       "      <td>Pierre-Auguste Renoir</td>\n",
       "      <td>336</td>\n",
       "    </tr>\n",
       "    <tr>\n",
       "      <th>19</th>\n",
       "      <td>Albrecht Dürer</td>\n",
       "      <td>328</td>\n",
       "    </tr>\n",
       "  </tbody>\n",
       "</table>\n",
       "</div>"
      ],
      "text/plain": [
       "                     name  paintings\n",
       "8        Vincent van Gogh        877\n",
       "30            Edgar Degas        702\n",
       "13          Pablo Picasso        439\n",
       "15  Pierre-Auguste Renoir        336\n",
       "19         Albrecht Dürer        328"
      ]
     },
     "execution_count": 154,
     "metadata": {},
     "output_type": "execute_result"
    }
   ],
   "source": [
    "paintings_df = artists.drop(['id', 'genre', 'years', 'nationality', 'bio', 'wikipedia'], axis=1)\n",
    "paintings_df_sorted = paintings_df.sort_values('paintings', ascending=False)\n",
    "paintings_df_sorted.head()"
   ]
  },
  {
   "cell_type": "markdown",
   "metadata": {},
   "source": [
    "The above table shows the artists with the highest number of paintings. The first five positions correspond to Van Gogh, Degas, Picasso, Renoir and Dürer, respectively. "
   ]
  },
  {
   "cell_type": "code",
   "execution_count": 155,
   "metadata": {},
   "outputs": [
    {
     "data": {
      "text/html": [
       "<div>\n",
       "<style scoped>\n",
       "    .dataframe tbody tr th:only-of-type {\n",
       "        vertical-align: middle;\n",
       "    }\n",
       "\n",
       "    .dataframe tbody tr th {\n",
       "        vertical-align: top;\n",
       "    }\n",
       "\n",
       "    .dataframe thead th {\n",
       "        text-align: right;\n",
       "    }\n",
       "</style>\n",
       "<table border=\"1\" class=\"dataframe\">\n",
       "  <thead>\n",
       "    <tr style=\"text-align: right;\">\n",
       "      <th></th>\n",
       "      <th>name</th>\n",
       "      <th>paintings</th>\n",
       "    </tr>\n",
       "  </thead>\n",
       "  <tbody>\n",
       "    <tr>\n",
       "      <th>48</th>\n",
       "      <td>Michelangelo</td>\n",
       "      <td>49</td>\n",
       "    </tr>\n",
       "    <tr>\n",
       "      <th>38</th>\n",
       "      <td>Paul Cezanne</td>\n",
       "      <td>47</td>\n",
       "    </tr>\n",
       "    <tr>\n",
       "      <th>41</th>\n",
       "      <td>Georges Seurat</td>\n",
       "      <td>43</td>\n",
       "    </tr>\n",
       "    <tr>\n",
       "      <th>39</th>\n",
       "      <td>Eugene Delacroix</td>\n",
       "      <td>31</td>\n",
       "    </tr>\n",
       "    <tr>\n",
       "      <th>49</th>\n",
       "      <td>Jackson Pollock</td>\n",
       "      <td>24</td>\n",
       "    </tr>\n",
       "  </tbody>\n",
       "</table>\n",
       "</div>"
      ],
      "text/plain": [
       "                name  paintings\n",
       "48      Michelangelo         49\n",
       "38      Paul Cezanne         47\n",
       "41    Georges Seurat         43\n",
       "39  Eugene Delacroix         31\n",
       "49   Jackson Pollock         24"
      ]
     },
     "execution_count": 155,
     "metadata": {},
     "output_type": "execute_result"
    }
   ],
   "source": [
    "paintings_df_sorted.tail()"
   ]
  },
  {
   "cell_type": "markdown",
   "metadata": {},
   "source": [
    "Similarly, the artists with the fewest paintings are, in this order, Pollock, Delacroix, Seurat, Cezanne and Michelangelo. In the following barplot we can observe the amount of paintings per artist in our data set. "
   ]
  },
  {
   "cell_type": "code",
   "execution_count": 156,
   "metadata": {},
   "outputs": [
    {
     "ename": "SyntaxError",
     "evalue": "invalid syntax (<ipython-input-156-22386a68f214>, line 1)",
     "output_type": "error",
     "traceback": [
      "\u001b[0;36m  File \u001b[0;32m\"<ipython-input-156-22386a68f214>\"\u001b[0;36m, line \u001b[0;32m1\u001b[0m\n\u001b[0;31m    .sns.set_context('talk')\u001b[0m\n\u001b[0m    ^\u001b[0m\n\u001b[0;31mSyntaxError\u001b[0m\u001b[0;31m:\u001b[0m invalid syntax\n"
     ]
    }
   ],
   "source": [
    "sns.set_context('talk')\n",
    "plt.figure(figsize=(28,35))\n",
    "barplot = sns.barplot(x='paintings', y='name', data=artists, orient='h', saturation=0.7)\n",
    "barplot.axes.set_title('Paintings per Artist', fontsize=20, y=1.01)\n",
    "barplot.set(xlabel='Number of Paintings', ylabel='Artist');"
   ]
  },
  {
   "cell_type": "code",
   "execution_count": 157,
   "metadata": {},
   "outputs": [
    {
     "data": {
      "text/plain": [
       "count     50.000000\n",
       "mean     168.920000\n",
       "std      157.451105\n",
       "min       24.000000\n",
       "25%       81.000000\n",
       "50%      123.000000\n",
       "75%      191.750000\n",
       "max      877.000000\n",
       "Name: paintings, dtype: float64"
      ]
     },
     "execution_count": 157,
     "metadata": {},
     "output_type": "execute_result"
    }
   ],
   "source": [
    "artists['paintings'].describe()"
   ]
  },
  {
   "cell_type": "markdown",
   "metadata": {},
   "source": [
    "From the output above, we can observe that the average number of paintings per artist in our data set is approximately 169. Consistent to what we have seen in the tables and plot above, the maximum number of paintings an artist in our data set has painted is 877 and the minimum is 24."
   ]
  },
  {
   "cell_type": "code",
   "execution_count": 158,
   "metadata": {},
   "outputs": [
    {
     "data": {
      "image/png": "[encoded data removed]",
      "text/plain": [
       "<Figure size 432x288 with 1 Axes>"
      ]
     },
     "metadata": {
      "needs_background": "light"
     },
     "output_type": "display_data"
    }
   ],
   "source": [
    "sns.boxplot(y=artists['paintings'], color='bisque');\n",
    "plt.show()"
   ]
  },
  {
   "cell_type": "markdown",
   "metadata": {},
   "source": [
    "This boxplot shows the overall distribution of paintings per artist, locating the mean at approximately 169, as we noted before. Moreover, three outliers can be observed. In particular, these values correspond to the three artists that authored more paintings."
   ]
  },
  {
   "cell_type": "code",
   "execution_count": 159,
   "metadata": {},
   "outputs": [
    {
     "data": {
      "text/plain": [
       "['American',\n",
       " 'Austrian',\n",
       " 'Belgian',\n",
       " 'British',\n",
       " 'Dutch',\n",
       " 'Flemish',\n",
       " 'French',\n",
       " 'French,British',\n",
       " 'French,Jewish,Belarusian',\n",
       " 'German',\n",
       " 'German,Swiss',\n",
       " 'Italian',\n",
       " 'Mexican',\n",
       " 'Norwegian',\n",
       " 'Russian',\n",
       " 'Spanish',\n",
       " 'Spanish,Greek']"
      ]
     },
     "execution_count": 159,
     "metadata": {},
     "output_type": "execute_result"
    }
   ],
   "source": [
    "nationality = newdata['nationality'].astype('category').cat.categories.tolist()\n",
    "nationality "
   ]
  },
  {
   "cell_type": "markdown",
   "metadata": {},
   "source": [
    "Similarly to what happened with some artists belonging to different genres, now we encounter that some artists had more than two nationalities. We will fix this issue the same way we fixed it for the genres:"
   ]
  },
  {
   "cell_type": "code",
   "execution_count": 160,
   "metadata": {},
   "outputs": [],
   "source": [
    "newdata = pd.get_dummies(artists, columns=['nationality'])\n",
    "newdata['nationality_Jewish'] = 0\n",
    "newdata['nationality_Belarussian'] = 0\n",
    "newdata['nationality_Swiss'] = 0\n",
    "newdata['nationality_Greek'] = 0"
   ]
  },
  {
   "cell_type": "code",
   "execution_count": 162,
   "metadata": {},
   "outputs": [],
   "source": [
    "for i in range(0, len(newdata)):\n",
    "    if newdata['nationality_French,British'][i] == 1:\n",
    "        newdata['nationality_French'][i] == 1\n",
    "        newdata['nationality_British'][i] == 1\n",
    "    if newdata['nationality_French,Jewish,Belarusian'][i] == 1:\n",
    "        newdata['nationality_French'][i] == 1\n",
    "        newdata['nationality_Jewish'][i] == 1\n",
    "        newdata['nationality_Belarussian'][i] == 1\n",
    "    if newdata['nationality_German,Swiss'][i] == 1:\n",
    "        newdata['nationality_German'][i] == 1\n",
    "        newdata['nationality_Swiss'][i] == 1\n",
    "    if newdata['nationality_Spanish,Greek'][i] == 1:\n",
    "        newdata['nationality_Spanish'][i] == 1\n",
    "        newdata['nationality_Greek'][i] == 1\n",
    "newdata = newdata.drop(['nationality_French,British', 'nationality_French,Jewish,Belarusian', 'nationality_German,Swiss', 'nationality_Spanish,Greek'], axis=1)"
   ]
  },
  {
   "cell_type": "markdown",
   "metadata": {},
   "source": [
    "ANALISI ESTADISTICA NATIONALITY SOBRE QUADRES PINTATS"
   ]
  },
  {
   "cell_type": "markdown",
   "metadata": {},
   "source": [
    "## Artist Prediction Model <a name=\"prediction\"></a>"
   ]
  },
  {
   "cell_type": "markdown",
   "metadata": {},
   "source": [
    "WORK IN PROGRESS"
   ]
  }
 ],
 "metadata": {
  "kernelspec": {
   "display_name": "Python 3",
   "language": "python",
   "name": "python3"
  },
  "language_info": {
   "codemirror_mode": {
    "name": "ipython",
    "version": 3
   },
   "file_extension": ".py",
   "mimetype": "text/x-python",
   "name": "python",
   "nbconvert_exporter": "python",
   "pygments_lexer": "ipython3",
   "version": "3.8.2"
  }
 },
 "nbformat": 4,
 "nbformat_minor": 2
}
