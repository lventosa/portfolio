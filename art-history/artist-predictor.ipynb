{
 "cells": [
  {
   "cell_type": "markdown",
   "metadata": {},
   "source": [
    "# Who Painted What? Artist Identification Model"
   ]
  },
  {
   "cell_type": "markdown",
   "metadata": {},
   "source": [
    "This project has two differentiated parts. Firstly, it explores a dataset with information about famous artists and their paintings. Secondly, a predictive model is built to be able to identify the name of the author given a painting. "
   ]
  },
  {
   "cell_type": "markdown",
   "metadata": {},
   "source": [
    "## Table of contents\n",
    "- [Importing Dataset and Libraries](#importing)\n",
    "- [Analysis of the Data](#analysis)\n",
    "    - [General Exploration and Plots](#exploration)\n",
    "    - [Impact of Genre on Paintings](#genre)\n",
    "    - [Impact of Nationality on Paintings](#nationality)\n",
    "    - [Relationship between Nationality and Genre](#correlation)\n",
    "- [Artist Predition Model](#prediction) (work in progress)"
   ]
  },
  {
   "cell_type": "markdown",
   "metadata": {},
   "source": [
    "## Importing Dataset and Libraries <a name=\"exploration\"></a>"
   ]
  },
  {
   "cell_type": "code",
   "execution_count": 213,
   "metadata": {},
   "outputs": [],
   "source": [
    "import pandas as pd\n",
    "import numpy as np\n",
    "import seaborn as sns\n",
    "import matplotlib.pyplot as plt\n",
    "import scipy as st\n",
    "import statsmodels.api as sm\n",
    "import statsmodels.formula.api as smf\n",
    "from sklearn.metrics import mean_squared_error\n",
    "from math import sqrt"
   ]
  },
  {
   "cell_type": "code",
   "execution_count": 214,
   "metadata": {},
   "outputs": [],
   "source": [
    "artists = pd.read_csv('../art-history/datasets_130081_310927_artists.csv')"
   ]
  },
  {
   "cell_type": "markdown",
   "metadata": {},
   "source": [
    "## Analysis of the Data <a name=\"analysis\"></a>"
   ]
  },
  {
   "cell_type": "markdown",
   "metadata": {},
   "source": [
    "### General Exploration and Plots <a name=\"exploration\"></a>"
   ]
  },
  {
   "cell_type": "code",
   "execution_count": 215,
   "metadata": {},
   "outputs": [
    {
     "data": {
      "text/html": [
       "<div>\n",
       "<style scoped>\n",
       "    .dataframe tbody tr th:only-of-type {\n",
       "        vertical-align: middle;\n",
       "    }\n",
       "\n",
       "    .dataframe tbody tr th {\n",
       "        vertical-align: top;\n",
       "    }\n",
       "\n",
       "    .dataframe thead th {\n",
       "        text-align: right;\n",
       "    }\n",
       "</style>\n",
       "<table border=\"1\" class=\"dataframe\">\n",
       "  <thead>\n",
       "    <tr style=\"text-align: right;\">\n",
       "      <th></th>\n",
       "      <th>id</th>\n",
       "      <th>name</th>\n",
       "      <th>years</th>\n",
       "      <th>genre</th>\n",
       "      <th>nationality</th>\n",
       "      <th>bio</th>\n",
       "      <th>wikipedia</th>\n",
       "      <th>paintings</th>\n",
       "    </tr>\n",
       "  </thead>\n",
       "  <tbody>\n",
       "    <tr>\n",
       "      <th>0</th>\n",
       "      <td>0</td>\n",
       "      <td>Amedeo Modigliani</td>\n",
       "      <td>1884 - 1920</td>\n",
       "      <td>Expressionism</td>\n",
       "      <td>Italian</td>\n",
       "      <td>Amedeo Clemente Modigliani (Italian pronunciat...</td>\n",
       "      <td>http://en.wikipedia.org/wiki/Amedeo_Modigliani</td>\n",
       "      <td>193</td>\n",
       "    </tr>\n",
       "    <tr>\n",
       "      <th>1</th>\n",
       "      <td>1</td>\n",
       "      <td>Vasiliy Kandinskiy</td>\n",
       "      <td>1866 - 1944</td>\n",
       "      <td>Expressionism,Abstractionism</td>\n",
       "      <td>Russian</td>\n",
       "      <td>Wassily Wassilyevich Kandinsky (Russian: Васи́...</td>\n",
       "      <td>http://en.wikipedia.org/wiki/Wassily_Kandinsky</td>\n",
       "      <td>88</td>\n",
       "    </tr>\n",
       "    <tr>\n",
       "      <th>2</th>\n",
       "      <td>2</td>\n",
       "      <td>Diego Rivera</td>\n",
       "      <td>1886 - 1957</td>\n",
       "      <td>Social Realism,Muralism</td>\n",
       "      <td>Mexican</td>\n",
       "      <td>Diego María de la Concepción Juan Nepomuceno E...</td>\n",
       "      <td>http://en.wikipedia.org/wiki/Diego_Rivera</td>\n",
       "      <td>70</td>\n",
       "    </tr>\n",
       "    <tr>\n",
       "      <th>3</th>\n",
       "      <td>3</td>\n",
       "      <td>Claude Monet</td>\n",
       "      <td>1840 - 1926</td>\n",
       "      <td>Impressionism</td>\n",
       "      <td>French</td>\n",
       "      <td>Oscar-Claude Monet (; French: [klod mɔnɛ]; 14 ...</td>\n",
       "      <td>http://en.wikipedia.org/wiki/Claude_Monet</td>\n",
       "      <td>73</td>\n",
       "    </tr>\n",
       "    <tr>\n",
       "      <th>4</th>\n",
       "      <td>4</td>\n",
       "      <td>Rene Magritte</td>\n",
       "      <td>1898 - 1967</td>\n",
       "      <td>Surrealism,Impressionism</td>\n",
       "      <td>Belgian</td>\n",
       "      <td>René François Ghislain Magritte (French: [ʁəne...</td>\n",
       "      <td>http://en.wikipedia.org/wiki/René_Magritte</td>\n",
       "      <td>194</td>\n",
       "    </tr>\n",
       "  </tbody>\n",
       "</table>\n",
       "</div>"
      ],
      "text/plain": [
       "   id                name        years                         genre  \\\n",
       "0   0   Amedeo Modigliani  1884 - 1920                 Expressionism   \n",
       "1   1  Vasiliy Kandinskiy  1866 - 1944  Expressionism,Abstractionism   \n",
       "2   2        Diego Rivera  1886 - 1957       Social Realism,Muralism   \n",
       "3   3        Claude Monet  1840 - 1926                 Impressionism   \n",
       "4   4       Rene Magritte  1898 - 1967      Surrealism,Impressionism   \n",
       "\n",
       "  nationality                                                bio  \\\n",
       "0     Italian  Amedeo Clemente Modigliani (Italian pronunciat...   \n",
       "1     Russian  Wassily Wassilyevich Kandinsky (Russian: Васи́...   \n",
       "2     Mexican  Diego María de la Concepción Juan Nepomuceno E...   \n",
       "3      French  Oscar-Claude Monet (; French: [klod mɔnɛ]; 14 ...   \n",
       "4     Belgian  René François Ghislain Magritte (French: [ʁəne...   \n",
       "\n",
       "                                        wikipedia  paintings  \n",
       "0  http://en.wikipedia.org/wiki/Amedeo_Modigliani        193  \n",
       "1  http://en.wikipedia.org/wiki/Wassily_Kandinsky         88  \n",
       "2       http://en.wikipedia.org/wiki/Diego_Rivera         70  \n",
       "3       http://en.wikipedia.org/wiki/Claude_Monet         73  \n",
       "4      http://en.wikipedia.org/wiki/René_Magritte        194  "
      ]
     },
     "execution_count": 215,
     "metadata": {},
     "output_type": "execute_result"
    }
   ],
   "source": [
    "artists.head()"
   ]
  },
  {
   "cell_type": "code",
   "execution_count": 216,
   "metadata": {},
   "outputs": [
    {
     "data": {
      "text/plain": [
       "(50, 8)"
      ]
     },
     "execution_count": 216,
     "metadata": {},
     "output_type": "execute_result"
    }
   ],
   "source": [
    "artists.shape"
   ]
  },
  {
   "cell_type": "code",
   "execution_count": 217,
   "metadata": {},
   "outputs": [
    {
     "data": {
      "text/plain": [
       "id              int64\n",
       "name           object\n",
       "years          object\n",
       "genre          object\n",
       "nationality    object\n",
       "bio            object\n",
       "wikipedia      object\n",
       "paintings       int64\n",
       "dtype: object"
      ]
     },
     "execution_count": 217,
     "metadata": {},
     "output_type": "execute_result"
    }
   ],
   "source": [
    "artists.dtypes"
   ]
  },
  {
   "cell_type": "code",
   "execution_count": 218,
   "metadata": {
    "scrolled": true
   },
   "outputs": [
    {
     "data": {
      "text/html": [
       "<div>\n",
       "<style scoped>\n",
       "    .dataframe tbody tr th:only-of-type {\n",
       "        vertical-align: middle;\n",
       "    }\n",
       "\n",
       "    .dataframe tbody tr th {\n",
       "        vertical-align: top;\n",
       "    }\n",
       "\n",
       "    .dataframe thead th {\n",
       "        text-align: right;\n",
       "    }\n",
       "</style>\n",
       "<table border=\"1\" class=\"dataframe\">\n",
       "  <thead>\n",
       "    <tr style=\"text-align: right;\">\n",
       "      <th></th>\n",
       "      <th>name</th>\n",
       "      <th>paintings</th>\n",
       "    </tr>\n",
       "  </thead>\n",
       "  <tbody>\n",
       "    <tr>\n",
       "      <th>8</th>\n",
       "      <td>Vincent van Gogh</td>\n",
       "      <td>877</td>\n",
       "    </tr>\n",
       "    <tr>\n",
       "      <th>30</th>\n",
       "      <td>Edgar Degas</td>\n",
       "      <td>702</td>\n",
       "    </tr>\n",
       "    <tr>\n",
       "      <th>13</th>\n",
       "      <td>Pablo Picasso</td>\n",
       "      <td>439</td>\n",
       "    </tr>\n",
       "    <tr>\n",
       "      <th>15</th>\n",
       "      <td>Pierre-Auguste Renoir</td>\n",
       "      <td>336</td>\n",
       "    </tr>\n",
       "    <tr>\n",
       "      <th>19</th>\n",
       "      <td>Albrecht Dürer</td>\n",
       "      <td>328</td>\n",
       "    </tr>\n",
       "  </tbody>\n",
       "</table>\n",
       "</div>"
      ],
      "text/plain": [
       "                     name  paintings\n",
       "8        Vincent van Gogh        877\n",
       "30            Edgar Degas        702\n",
       "13          Pablo Picasso        439\n",
       "15  Pierre-Auguste Renoir        336\n",
       "19         Albrecht Dürer        328"
      ]
     },
     "execution_count": 218,
     "metadata": {},
     "output_type": "execute_result"
    }
   ],
   "source": [
    "paintings_df = artists.drop(['id', 'genre', 'years', 'nationality', 'bio', 'wikipedia'], axis=1)\n",
    "paintings_df_sorted = paintings_df.sort_values('paintings', ascending=False)\n",
    "paintings_df_sorted.head()"
   ]
  },
  {
   "cell_type": "markdown",
   "metadata": {},
   "source": [
    "The above table shows the artists with the highest number of paintings. The first five positions correspond to Van Gogh, Degas, Picasso, Renoir and Dürer, respectively. "
   ]
  },
  {
   "cell_type": "code",
   "execution_count": 219,
   "metadata": {},
   "outputs": [
    {
     "data": {
      "text/html": [
       "<div>\n",
       "<style scoped>\n",
       "    .dataframe tbody tr th:only-of-type {\n",
       "        vertical-align: middle;\n",
       "    }\n",
       "\n",
       "    .dataframe tbody tr th {\n",
       "        vertical-align: top;\n",
       "    }\n",
       "\n",
       "    .dataframe thead th {\n",
       "        text-align: right;\n",
       "    }\n",
       "</style>\n",
       "<table border=\"1\" class=\"dataframe\">\n",
       "  <thead>\n",
       "    <tr style=\"text-align: right;\">\n",
       "      <th></th>\n",
       "      <th>name</th>\n",
       "      <th>paintings</th>\n",
       "    </tr>\n",
       "  </thead>\n",
       "  <tbody>\n",
       "    <tr>\n",
       "      <th>48</th>\n",
       "      <td>Michelangelo</td>\n",
       "      <td>49</td>\n",
       "    </tr>\n",
       "    <tr>\n",
       "      <th>38</th>\n",
       "      <td>Paul Cezanne</td>\n",
       "      <td>47</td>\n",
       "    </tr>\n",
       "    <tr>\n",
       "      <th>41</th>\n",
       "      <td>Georges Seurat</td>\n",
       "      <td>43</td>\n",
       "    </tr>\n",
       "    <tr>\n",
       "      <th>39</th>\n",
       "      <td>Eugene Delacroix</td>\n",
       "      <td>31</td>\n",
       "    </tr>\n",
       "    <tr>\n",
       "      <th>49</th>\n",
       "      <td>Jackson Pollock</td>\n",
       "      <td>24</td>\n",
       "    </tr>\n",
       "  </tbody>\n",
       "</table>\n",
       "</div>"
      ],
      "text/plain": [
       "                name  paintings\n",
       "48      Michelangelo         49\n",
       "38      Paul Cezanne         47\n",
       "41    Georges Seurat         43\n",
       "39  Eugene Delacroix         31\n",
       "49   Jackson Pollock         24"
      ]
     },
     "execution_count": 219,
     "metadata": {},
     "output_type": "execute_result"
    }
   ],
   "source": [
    "paintings_df_sorted.tail()"
   ]
  },
  {
   "cell_type": "markdown",
   "metadata": {},
   "source": [
    "Similarly, the artists with the fewest paintings are, in this order, Pollock, Delacroix, Seurat, Cezanne and Michelangelo. In the following barplot we can observe the amount of paintings per artist in our data set. "
   ]
  },
  {
   "cell_type": "code",
   "execution_count": 220,
   "metadata": {},
   "outputs": [
    {
     "data": {
      "image/png": "[encoded data removed]",
      "text/plain": [
       "<Figure size 2016x2520 with 1 Axes>"
      ]
     },
     "metadata": {
      "needs_background": "light"
     },
     "output_type": "display_data"
    }
   ],
   "source": [
    "sns.set_context('talk')\n",
    "plt.figure(figsize=(28,35))\n",
    "barplot = sns.barplot(x='paintings', y='name', data=artists, orient='h', saturation=0.7)\n",
    "barplot.axes.set_title('Paintings per Artist', fontsize=20, y=1.01)\n",
    "barplot.set(xlabel='Number of Paintings', ylabel='Artist');"
   ]
  },
  {
   "cell_type": "code",
   "execution_count": 221,
   "metadata": {},
   "outputs": [
    {
     "data": {
      "text/plain": [
       "count     50.000000\n",
       "mean     168.920000\n",
       "std      157.451105\n",
       "min       24.000000\n",
       "25%       81.000000\n",
       "50%      123.000000\n",
       "75%      191.750000\n",
       "max      877.000000\n",
       "Name: paintings, dtype: float64"
      ]
     },
     "execution_count": 221,
     "metadata": {},
     "output_type": "execute_result"
    }
   ],
   "source": [
    "artists['paintings'].describe()"
   ]
  },
  {
   "cell_type": "markdown",
   "metadata": {},
   "source": [
    "From the output above, we can observe that the average number of paintings per artist in our data set is approximately 169. Consistent to what we have seen in the tables and plot above, the maximum number of paintings an artist in our data set has painted is 877 and the minimum is 24."
   ]
  },
  {
   "cell_type": "code",
   "execution_count": 222,
   "metadata": {},
   "outputs": [
    {
     "data": {
      "image/png": "[encoded data removed]",
      "text/plain": [
       "<Figure size 432x288 with 1 Axes>"
      ]
     },
     "metadata": {
      "needs_background": "light"
     },
     "output_type": "display_data"
    }
   ],
   "source": [
    "sns.boxplot(y=artists['paintings'], color='bisque');\n",
    "plt.show()"
   ]
  },
  {
   "cell_type": "markdown",
   "metadata": {},
   "source": [
    "This boxplot shows the overall distribution of paintings per artist, locating the mean at approximately 169, as we noted before. Moreover, three outliers can be observed. In particular, these values correspond to the three artists that authored more paintings."
   ]
  },
  {
   "cell_type": "markdown",
   "metadata": {},
   "source": [
    "### Impact of Genre on Paintings <a name=\"genre\"></a>"
   ]
  },
  {
   "cell_type": "markdown",
   "metadata": {},
   "source": [
    "In this section we want to explore the impact of genre on the number of paitings (i.e. if the artists belonging to a specific genre ended up painting more art works than the artists belonging to another genre). We start by eliminating blank spaces and dashes so that the names of the genres are easier to handle."
   ]
  },
  {
   "cell_type": "code",
   "execution_count": 261,
   "metadata": {},
   "outputs": [],
   "source": [
    "artists['genre'] = artists['genre'].str.replace(\" \", \"\")\n",
    "artists['genre'] = artists['genre'].str.replace(\"-\", \"\")"
   ]
  },
  {
   "cell_type": "code",
   "execution_count": 262,
   "metadata": {},
   "outputs": [
    {
     "data": {
      "text/plain": [
       "['AbstractExpressionism',\n",
       " 'Baroque',\n",
       " 'ByzantineArt',\n",
       " 'Cubism',\n",
       " 'EarlyRenaissance',\n",
       " 'Expressionism',\n",
       " 'Expressionism,Abstractionism',\n",
       " 'Expressionism,Abstractionism,Surrealism',\n",
       " 'HighRenaissance',\n",
       " 'HighRenaissance,Mannerism',\n",
       " 'Impressionism',\n",
       " 'Impressionism,PostImpressionism',\n",
       " 'Mannerism',\n",
       " 'Neoplasticism',\n",
       " 'NorthernRenaissance',\n",
       " 'PopArt',\n",
       " 'PostImpressionism',\n",
       " 'Primitivism',\n",
       " 'Primitivism,Surrealism',\n",
       " 'ProtoRenaissance',\n",
       " 'Realism',\n",
       " 'Realism,Impressionism',\n",
       " 'Romanticism',\n",
       " 'SocialRealism,Muralism',\n",
       " 'Suprematism',\n",
       " 'Surrealism',\n",
       " 'Surrealism,Impressionism',\n",
       " 'Symbolism',\n",
       " 'Symbolism,ArtNouveau',\n",
       " 'Symbolism,Expressionism',\n",
       " 'Symbolism,PostImpressionism']"
      ]
     },
     "execution_count": 262,
     "metadata": {},
     "output_type": "execute_result"
    }
   ],
   "source": [
    "genre = artists['genre'].astype('category').cat.categories.tolist()\n",
    "genre"
   ]
  },
  {
   "cell_type": "markdown",
   "metadata": {},
   "source": [
    "As we can observe, some artists belong to more than one genre. By creating one binary variable for each existing genre we will be able to take this into account and obtain more precise insights when proceeding with the analysis. "
   ]
  },
  {
   "cell_type": "code",
   "execution_count": 263,
   "metadata": {},
   "outputs": [],
   "source": [
    "newdata = pd.get_dummies(artists, columns=['genre'])\n",
    "newdata['genre_Abstractionism'] = 0\n",
    "newdata['genre_SocialRealism'] = 0\n",
    "newdata['genre_Muralism'] = 0\n",
    "newdata['genre_Symbolism'] = 0\n",
    "newdata['genre_ArtNouveau'] = 0"
   ]
  },
  {
   "cell_type": "code",
   "execution_count": 264,
   "metadata": {},
   "outputs": [],
   "source": [
    "for i in range(0, len(artists)):\n",
    "    if newdata['genre_Expressionism,Abstractionism'][i] == 1:\n",
    "        newdata['genre_Expressionism'][i] == 1\n",
    "        newdata['genre_Abstractionism'][i] == 1\n",
    "    if newdata['genre_Expressionism,Abstractionism,Surrealism'][i] == 1:\n",
    "        newdata['genre_Expressionism'][i] == 1\n",
    "        newdata['genre_Abstractionism'][i] == 1\n",
    "        newdata['genre_Surrealism'][i] == 1\n",
    "    if newdata['genre_HighRenaissance,Mannerism'][i] == 1:\n",
    "        newdata['genre_HighRenaissance'][i] == 1\n",
    "        newdata['genre_Mannerism'][i] == 1\n",
    "    if newdata['genre_Impressionism,PostImpressionism'][i] == 1:\n",
    "        newdata['genre_Impressionism'][i] == 1\n",
    "        newdata['genre_PostImpressionism'][i] == 1\n",
    "    if newdata['genre_SocialRealism,Muralism'][i] == 1:\n",
    "        newdata['genre_SocialRealism'][i] == 1\n",
    "        newdata['genre_Muralism'][i] == 1\n",
    "    if newdata['genre_Surrealism,Impressionism'][i] == 1:\n",
    "        newdata['genre_Surrealism'][i] == 1\n",
    "        newdata['genre_Impressionism'][i] == 1\n",
    "    if newdata['genre_Realism,Impressionism'][i] == 1:\n",
    "        newdata['genre_Realism'][i] == 1\n",
    "        newdata['genre_Impressionism'][i] == 1\n",
    "    if newdata['genre_Symbolism,ArtNouveau'][i] == 1:\n",
    "        newdata['genre_Symbolism'][i] == 1\n",
    "        newdata['genre_ArtNouveau'][i] == 1\n",
    "    if newdata['genre_Primitivism,Surrealism'][i] == 1:\n",
    "        newdata['genre_Primitivism'][i] == 1\n",
    "        newdata['genre_Surrealism'][i] == 1\n",
    "    if newdata['genre_Symbolism,Expressionism'][i] == 1:\n",
    "        newdata['genre_Symbolism'][i] == 1\n",
    "        newdata['genre_Expressionism'][i] == 1\n",
    "    if newdata['genre_Symbolism,PostImpressionism'][i] == 1:\n",
    "        newdata['genre_Symbolism'][i] == 1\n",
    "        newdata['genre_PostImpressionism'][i] == 1\n",
    "newdata = newdata.drop(['genre_Expressionism,Abstractionism', 'genre_Expressionism,Abstractionism,Surrealism', \n",
    "                        'genre_HighRenaissance,Mannerism', 'genre_Impressionism,PostImpressionism', \n",
    "                        'genre_SocialRealism,Muralism', 'genre_Surrealism,Impressionism', \n",
    "                        'genre_Realism,Impressionism', 'genre_Symbolism,ArtNouveau', \n",
    "                        'genre_Primitivism,Surrealism', 'genre_Symbolism,Expressionism', \n",
    "                        'genre_Symbolism,PostImpressionism'], axis=1)"
   ]
  },
  {
   "cell_type": "code",
   "execution_count": 265,
   "metadata": {},
   "outputs": [
    {
     "data": {
      "text/plain": [
       "Index(['id', 'name', 'years', 'nationality', 'bio', 'wikipedia', 'paintings',\n",
       "       'genre_AbstractExpressionism', 'genre_Baroque', 'genre_ByzantineArt',\n",
       "       'genre_Cubism', 'genre_EarlyRenaissance', 'genre_Expressionism',\n",
       "       'genre_HighRenaissance', 'genre_Impressionism', 'genre_Mannerism',\n",
       "       'genre_Neoplasticism', 'genre_NorthernRenaissance', 'genre_PopArt',\n",
       "       'genre_PostImpressionism', 'genre_Primitivism',\n",
       "       'genre_ProtoRenaissance', 'genre_Realism', 'genre_Romanticism',\n",
       "       'genre_Suprematism', 'genre_Surrealism', 'genre_Symbolism',\n",
       "       'genre_Abstractionism', 'genre_SocialRealism', 'genre_Muralism',\n",
       "       'genre_ArtNouveau'],\n",
       "      dtype='object')"
      ]
     },
     "execution_count": 265,
     "metadata": {},
     "output_type": "execute_result"
    }
   ],
   "source": [
    "newdata.columns"
   ]
  },
  {
   "cell_type": "markdown",
   "metadata": {},
   "source": [
    "With our data ready we can now start running and testing regressions. As we are trying to model the number of paintings, it makes sense to use a **Poisson model** for count data. Hence, we proceed with a GLM (generalized linear model) belonging to the Poisson family:"
   ]
  },
  {
   "cell_type": "code",
   "execution_count": 266,
   "metadata": {},
   "outputs": [
    {
     "data": {
      "text/html": [
       "<table class=\"simpletable\">\n",
       "<caption>Generalized Linear Model Regression Results</caption>\n",
       "<tr>\n",
       "  <th>Dep. Variable:</th>       <td>paintings</td>    <th>  No. Observations:  </th>  <td>    50</td> \n",
       "</tr>\n",
       "<tr>\n",
       "  <th>Model:</th>                  <td>GLM</td>       <th>  Df Residuals:      </th>  <td>    30</td> \n",
       "</tr>\n",
       "<tr>\n",
       "  <th>Model Family:</th>         <td>Poisson</td>     <th>  Df Model:          </th>  <td>    19</td> \n",
       "</tr>\n",
       "<tr>\n",
       "  <th>Link Function:</th>          <td>log</td>       <th>  Scale:             </th> <td>  1.0000</td>\n",
       "</tr>\n",
       "<tr>\n",
       "  <th>Method:</th>                <td>IRLS</td>       <th>  Log-Likelihood:    </th> <td> -1895.9</td>\n",
       "</tr>\n",
       "<tr>\n",
       "  <th>Date:</th>            <td>Mon, 14 Sep 2020</td> <th>  Deviance:          </th> <td>  3457.6</td>\n",
       "</tr>\n",
       "<tr>\n",
       "  <th>Time:</th>                <td>14:24:45</td>     <th>  Pearson chi2:      </th> <td>3.80e+03</td>\n",
       "</tr>\n",
       "<tr>\n",
       "  <th>No. Iterations:</th>          <td>6</td>        <th>                     </th>     <td> </td>   \n",
       "</tr>\n",
       "<tr>\n",
       "  <th>Covariance Type:</th>     <td>nonrobust</td>    <th>                     </th>     <td> </td>   \n",
       "</tr>\n",
       "</table>\n",
       "<table class=\"simpletable\">\n",
       "<tr>\n",
       "               <td></td>                  <th>coef</th>     <th>std err</th>      <th>z</th>      <th>P>|z|</th>  <th>[0.025</th>    <th>0.975]</th>  \n",
       "</tr>\n",
       "<tr>\n",
       "  <th>Intercept</th>                   <td>    5.0096</td> <td>    0.023</td> <td>  221.105</td> <td> 0.000</td> <td>    4.965</td> <td>    5.054</td>\n",
       "</tr>\n",
       "<tr>\n",
       "  <th>genre_Symbolism</th>             <td>  4.69e-16</td> <td> 3.01e-17</td> <td>   15.586</td> <td> 0.000</td> <td>  4.1e-16</td> <td> 5.28e-16</td>\n",
       "</tr>\n",
       "<tr>\n",
       "  <th>genre_Abstractionism</th>        <td>-5.808e-16</td> <td> 4.31e-17</td> <td>  -13.466</td> <td> 0.000</td> <td>-6.65e-16</td> <td>-4.96e-16</td>\n",
       "</tr>\n",
       "<tr>\n",
       "  <th>genre_ArtNouveau</th>            <td>-4.077e-17</td> <td> 3.23e-17</td> <td>   -1.262</td> <td> 0.207</td> <td>-1.04e-16</td> <td> 2.26e-17</td>\n",
       "</tr>\n",
       "<tr>\n",
       "  <th>genre_Muralism</th>              <td>-1.074e-16</td> <td> 3.68e-17</td> <td>   -2.920</td> <td> 0.003</td> <td> -1.8e-16</td> <td>-3.53e-17</td>\n",
       "</tr>\n",
       "<tr>\n",
       "  <th>genre_SocialRealism</th>         <td> 2.367e-16</td> <td> 3.73e-17</td> <td>    6.338</td> <td> 0.000</td> <td> 1.63e-16</td> <td>  3.1e-16</td>\n",
       "</tr>\n",
       "<tr>\n",
       "  <th>genre_AbstractExpressionism</th> <td>   -1.8316</td> <td>    0.205</td> <td>   -8.918</td> <td> 0.000</td> <td>   -2.234</td> <td>   -1.429</td>\n",
       "</tr>\n",
       "<tr>\n",
       "  <th>genre_Baroque</th>               <td>   -0.0226</td> <td>    0.047</td> <td>   -0.479</td> <td> 0.632</td> <td>   -0.115</td> <td>    0.070</td>\n",
       "</tr>\n",
       "<tr>\n",
       "  <th>genre_ByzantineArt</th>          <td>   -0.4145</td> <td>    0.103</td> <td>   -4.023</td> <td> 0.000</td> <td>   -0.616</td> <td>   -0.213</td>\n",
       "</tr>\n",
       "<tr>\n",
       "  <th>genre_Cubism</th>                <td>    1.0749</td> <td>    0.053</td> <td>   20.345</td> <td> 0.000</td> <td>    0.971</td> <td>    1.178</td>\n",
       "</tr>\n",
       "<tr>\n",
       "  <th>genre_EarlyRenaissance</th>      <td>    0.0903</td> <td>    0.081</td> <td>    1.110</td> <td> 0.267</td> <td>   -0.069</td> <td>    0.250</td>\n",
       "</tr>\n",
       "<tr>\n",
       "  <th>genre_Expressionism</th>         <td>    0.2531</td> <td>    0.075</td> <td>    3.354</td> <td> 0.001</td> <td>    0.105</td> <td>    0.401</td>\n",
       "</tr>\n",
       "<tr>\n",
       "  <th>genre_HighRenaissance</th>       <td>   -0.4011</td> <td>    0.062</td> <td>   -6.477</td> <td> 0.000</td> <td>   -0.522</td> <td>   -0.280</td>\n",
       "</tr>\n",
       "<tr>\n",
       "  <th>genre_Impressionism</th>         <td>    0.8267</td> <td>    0.035</td> <td>   23.445</td> <td> 0.000</td> <td>    0.758</td> <td>    0.896</td>\n",
       "</tr>\n",
       "<tr>\n",
       "  <th>genre_Mannerism</th>             <td>   -0.5437</td> <td>    0.110</td> <td>   -4.962</td> <td> 0.000</td> <td>   -0.758</td> <td>   -0.329</td>\n",
       "</tr>\n",
       "<tr>\n",
       "  <th>genre_Neoplasticism</th>         <td>   -0.5788</td> <td>    0.111</td> <td>   -5.194</td> <td> 0.000</td> <td>   -0.797</td> <td>   -0.360</td>\n",
       "</tr>\n",
       "<tr>\n",
       "  <th>genre_NorthernRenaissance</th>   <td>    0.1262</td> <td>    0.045</td> <td>    2.833</td> <td> 0.005</td> <td>    0.039</td> <td>    0.213</td>\n",
       "</tr>\n",
       "<tr>\n",
       "  <th>genre_PopArt</th>                <td>    0.1889</td> <td>    0.078</td> <td>    2.431</td> <td> 0.015</td> <td>    0.037</td> <td>    0.341</td>\n",
       "</tr>\n",
       "<tr>\n",
       "  <th>genre_PostImpressionism</th>     <td>    0.5587</td> <td>    0.038</td> <td>   14.585</td> <td> 0.000</td> <td>    0.484</td> <td>    0.634</td>\n",
       "</tr>\n",
       "<tr>\n",
       "  <th>genre_Primitivism</th>           <td>    0.0306</td> <td>    0.061</td> <td>    0.499</td> <td> 0.617</td> <td>   -0.089</td> <td>    0.151</td>\n",
       "</tr>\n",
       "<tr>\n",
       "  <th>genre_ProtoRenaissance</th>      <td>   -0.2305</td> <td>    0.094</td> <td>   -2.441</td> <td> 0.015</td> <td>   -0.416</td> <td>   -0.045</td>\n",
       "</tr>\n",
       "<tr>\n",
       "  <th>genre_Realism</th>               <td>   -0.9321</td> <td>    0.132</td> <td>   -7.053</td> <td> 0.000</td> <td>   -1.191</td> <td>   -0.673</td>\n",
       "</tr>\n",
       "<tr>\n",
       "  <th>genre_Romanticism</th>           <td>   -0.1472</td> <td>    0.056</td> <td>   -2.648</td> <td> 0.008</td> <td>   -0.256</td> <td>   -0.038</td>\n",
       "</tr>\n",
       "<tr>\n",
       "  <th>genre_Suprematism</th>           <td>   -0.1733</td> <td>    0.092</td> <td>   -1.886</td> <td> 0.059</td> <td>   -0.353</td> <td>    0.007</td>\n",
       "</tr>\n",
       "<tr>\n",
       "  <th>genre_Surrealism</th>            <td>   -0.2180</td> <td>    0.068</td> <td>   -3.192</td> <td> 0.001</td> <td>   -0.352</td> <td>   -0.084</td>\n",
       "</tr>\n",
       "</table>"
      ],
      "text/plain": [
       "<class 'statsmodels.iolib.summary.Summary'>\n",
       "\"\"\"\n",
       "                 Generalized Linear Model Regression Results                  \n",
       "==============================================================================\n",
       "Dep. Variable:              paintings   No. Observations:                   50\n",
       "Model:                            GLM   Df Residuals:                       30\n",
       "Model Family:                 Poisson   Df Model:                           19\n",
       "Link Function:                    log   Scale:                          1.0000\n",
       "Method:                          IRLS   Log-Likelihood:                -1895.9\n",
       "Date:                Mon, 14 Sep 2020   Deviance:                       3457.6\n",
       "Time:                        14:24:45   Pearson chi2:                 3.80e+03\n",
       "No. Iterations:                     6                                         \n",
       "Covariance Type:            nonrobust                                         \n",
       "===============================================================================================\n",
       "                                  coef    std err          z      P>|z|      [0.025      0.975]\n",
       "-----------------------------------------------------------------------------------------------\n",
       "Intercept                       5.0096      0.023    221.105      0.000       4.965       5.054\n",
       "genre_Symbolism               4.69e-16   3.01e-17     15.586      0.000     4.1e-16    5.28e-16\n",
       "genre_Abstractionism        -5.808e-16   4.31e-17    -13.466      0.000   -6.65e-16   -4.96e-16\n",
       "genre_ArtNouveau            -4.077e-17   3.23e-17     -1.262      0.207   -1.04e-16    2.26e-17\n",
       "genre_Muralism              -1.074e-16   3.68e-17     -2.920      0.003    -1.8e-16   -3.53e-17\n",
       "genre_SocialRealism          2.367e-16   3.73e-17      6.338      0.000    1.63e-16     3.1e-16\n",
       "genre_AbstractExpressionism    -1.8316      0.205     -8.918      0.000      -2.234      -1.429\n",
       "genre_Baroque                  -0.0226      0.047     -0.479      0.632      -0.115       0.070\n",
       "genre_ByzantineArt             -0.4145      0.103     -4.023      0.000      -0.616      -0.213\n",
       "genre_Cubism                    1.0749      0.053     20.345      0.000       0.971       1.178\n",
       "genre_EarlyRenaissance          0.0903      0.081      1.110      0.267      -0.069       0.250\n",
       "genre_Expressionism             0.2531      0.075      3.354      0.001       0.105       0.401\n",
       "genre_HighRenaissance          -0.4011      0.062     -6.477      0.000      -0.522      -0.280\n",
       "genre_Impressionism             0.8267      0.035     23.445      0.000       0.758       0.896\n",
       "genre_Mannerism                -0.5437      0.110     -4.962      0.000      -0.758      -0.329\n",
       "genre_Neoplasticism            -0.5788      0.111     -5.194      0.000      -0.797      -0.360\n",
       "genre_NorthernRenaissance       0.1262      0.045      2.833      0.005       0.039       0.213\n",
       "genre_PopArt                    0.1889      0.078      2.431      0.015       0.037       0.341\n",
       "genre_PostImpressionism         0.5587      0.038     14.585      0.000       0.484       0.634\n",
       "genre_Primitivism               0.0306      0.061      0.499      0.617      -0.089       0.151\n",
       "genre_ProtoRenaissance         -0.2305      0.094     -2.441      0.015      -0.416      -0.045\n",
       "genre_Realism                  -0.9321      0.132     -7.053      0.000      -1.191      -0.673\n",
       "genre_Romanticism              -0.1472      0.056     -2.648      0.008      -0.256      -0.038\n",
       "genre_Suprematism              -0.1733      0.092     -1.886      0.059      -0.353       0.007\n",
       "genre_Surrealism               -0.2180      0.068     -3.192      0.001      -0.352      -0.084\n",
       "===============================================================================================\n",
       "\"\"\""
      ]
     },
     "execution_count": 266,
     "metadata": {},
     "output_type": "execute_result"
    }
   ],
   "source": [
    "reg = 'paintings ~ genre_Symbolism + genre_Abstractionism + genre_ArtNouveau + genre_Muralism + genre_SocialRealism + genre_AbstractExpressionism + genre_Baroque + genre_ByzantineArt + genre_Cubism + genre_EarlyRenaissance + genre_Expressionism + genre_HighRenaissance + genre_Impressionism + genre_Mannerism + genre_Neoplasticism + genre_NorthernRenaissance + genre_PopArt + genre_PostImpressionism + genre_Primitivism + genre_ProtoRenaissance + genre_Realism + genre_Romanticism + genre_Suprematism + genre_Surrealism'   \n",
    "\n",
    "model = smf.glm(formula = reg, data = newdata, family = sm.families.Poisson()).fit()\n",
    "model.summary()"
   ]
  },
  {
   "cell_type": "code",
   "execution_count": 267,
   "metadata": {},
   "outputs": [
    {
     "data": {
      "text/plain": [
       "126.76472719595672"
      ]
     },
     "execution_count": 267,
     "metadata": {},
     "output_type": "execute_result"
    }
   ],
   "source": [
    "model.pearson_chi2/model.df_resid"
   ]
  },
  {
   "cell_type": "markdown",
   "metadata": {},
   "source": [
    "The ratio we just computed shows the model presents overdispersion, as it is larger than 1. In other words, the variance does not equal the mean (what we would expect with data being Poisson-distributed) but rather too much variability. When this is the case, one can try to model a **Negative Binomial model**, which is a generalization of the Poisson regression but without the restrictive assumption that the variance is equal to the mean. "
   ]
  },
  {
   "cell_type": "code",
   "execution_count": 268,
   "metadata": {},
   "outputs": [
    {
     "data": {
      "text/html": [
       "<table class=\"simpletable\">\n",
       "<caption>Generalized Linear Model Regression Results</caption>\n",
       "<tr>\n",
       "  <th>Dep. Variable:</th>       <td>paintings</td>    <th>  No. Observations:  </th>  <td>    50</td> \n",
       "</tr>\n",
       "<tr>\n",
       "  <th>Model:</th>                  <td>GLM</td>       <th>  Df Residuals:      </th>  <td>    30</td> \n",
       "</tr>\n",
       "<tr>\n",
       "  <th>Model Family:</th>    <td>NegativeBinomial</td> <th>  Df Model:          </th>  <td>    19</td> \n",
       "</tr>\n",
       "<tr>\n",
       "  <th>Link Function:</th>          <td>log</td>       <th>  Scale:             </th> <td>  1.0000</td>\n",
       "</tr>\n",
       "<tr>\n",
       "  <th>Method:</th>                <td>IRLS</td>       <th>  Log-Likelihood:    </th> <td> -301.51</td>\n",
       "</tr>\n",
       "<tr>\n",
       "  <th>Date:</th>            <td>Mon, 14 Sep 2020</td> <th>  Deviance:          </th> <td>  18.185</td>\n",
       "</tr>\n",
       "<tr>\n",
       "  <th>Time:</th>                <td>14:24:46</td>     <th>  Pearson chi2:      </th>  <td>  17.8</td> \n",
       "</tr>\n",
       "<tr>\n",
       "  <th>No. Iterations:</th>          <td>6</td>        <th>                     </th>     <td> </td>   \n",
       "</tr>\n",
       "<tr>\n",
       "  <th>Covariance Type:</th>     <td>nonrobust</td>    <th>                     </th>     <td> </td>   \n",
       "</tr>\n",
       "</table>\n",
       "<table class=\"simpletable\">\n",
       "<tr>\n",
       "               <td></td>                  <th>coef</th>     <th>std err</th>      <th>z</th>      <th>P>|z|</th>  <th>[0.025</th>    <th>0.975]</th>  \n",
       "</tr>\n",
       "<tr>\n",
       "  <th>Intercept</th>                   <td>    5.0096</td> <td>    0.278</td> <td>   18.002</td> <td> 0.000</td> <td>    4.464</td> <td>    5.555</td>\n",
       "</tr>\n",
       "<tr>\n",
       "  <th>genre_Symbolism</th>             <td>-2.978e-17</td> <td> 4.69e-16</td> <td>   -0.064</td> <td> 0.949</td> <td>-9.48e-16</td> <td> 8.89e-16</td>\n",
       "</tr>\n",
       "<tr>\n",
       "  <th>genre_Abstractionism</th>        <td> 1.149e-16</td> <td> 5.71e-16</td> <td>    0.201</td> <td> 0.841</td> <td>   -1e-15</td> <td> 1.23e-15</td>\n",
       "</tr>\n",
       "<tr>\n",
       "  <th>genre_ArtNouveau</th>            <td> 3.957e-16</td> <td> 6.34e-16</td> <td>    0.624</td> <td> 0.533</td> <td>-8.47e-16</td> <td> 1.64e-15</td>\n",
       "</tr>\n",
       "<tr>\n",
       "  <th>genre_Muralism</th>              <td> 1.407e-16</td> <td> 2.94e-16</td> <td>    0.479</td> <td> 0.632</td> <td>-4.35e-16</td> <td> 7.16e-16</td>\n",
       "</tr>\n",
       "<tr>\n",
       "  <th>genre_SocialRealism</th>         <td>-4.402e-16</td> <td> 5.38e-16</td> <td>   -0.818</td> <td> 0.413</td> <td>-1.49e-15</td> <td> 6.14e-16</td>\n",
       "</tr>\n",
       "<tr>\n",
       "  <th>genre_AbstractExpressionism</th> <td>   -1.8316</td> <td>    1.058</td> <td>   -1.731</td> <td> 0.083</td> <td>   -3.905</td> <td>    0.242</td>\n",
       "</tr>\n",
       "<tr>\n",
       "  <th>genre_Baroque</th>               <td>   -0.0226</td> <td>    0.574</td> <td>   -0.039</td> <td> 0.969</td> <td>   -1.147</td> <td>    1.102</td>\n",
       "</tr>\n",
       "<tr>\n",
       "  <th>genre_ByzantineArt</th>          <td>   -0.4145</td> <td>    1.043</td> <td>   -0.397</td> <td> 0.691</td> <td>   -2.458</td> <td>    1.629</td>\n",
       "</tr>\n",
       "<tr>\n",
       "  <th>genre_Cubism</th>                <td>    1.0749</td> <td>    1.039</td> <td>    1.034</td> <td> 0.301</td> <td>   -0.962</td> <td>    3.111</td>\n",
       "</tr>\n",
       "<tr>\n",
       "  <th>genre_EarlyRenaissance</th>      <td>    0.0903</td> <td>    1.041</td> <td>    0.087</td> <td> 0.931</td> <td>   -1.950</td> <td>    2.130</td>\n",
       "</tr>\n",
       "<tr>\n",
       "  <th>genre_Expressionism</th>         <td>    0.2531</td> <td>    1.040</td> <td>    0.243</td> <td> 0.808</td> <td>   -1.786</td> <td>    2.292</td>\n",
       "</tr>\n",
       "<tr>\n",
       "  <th>genre_HighRenaissance</th>       <td>   -0.4011</td> <td>    0.643</td> <td>   -0.623</td> <td> 0.533</td> <td>   -1.662</td> <td>    0.860</td>\n",
       "</tr>\n",
       "<tr>\n",
       "  <th>genre_Impressionism</th>         <td>    0.8267</td> <td>    0.573</td> <td>    1.443</td> <td> 0.149</td> <td>   -0.296</td> <td>    1.949</td>\n",
       "</tr>\n",
       "<tr>\n",
       "  <th>genre_Mannerism</th>             <td>   -0.5437</td> <td>    1.044</td> <td>   -0.521</td> <td> 0.602</td> <td>   -2.589</td> <td>    1.502</td>\n",
       "</tr>\n",
       "<tr>\n",
       "  <th>genre_Neoplasticism</th>         <td>   -0.5788</td> <td>    1.044</td> <td>   -0.555</td> <td> 0.579</td> <td>   -2.624</td> <td>    1.467</td>\n",
       "</tr>\n",
       "<tr>\n",
       "  <th>genre_NorthernRenaissance</th>   <td>    0.1262</td> <td>    0.574</td> <td>    0.220</td> <td> 0.826</td> <td>   -0.998</td> <td>    1.250</td>\n",
       "</tr>\n",
       "<tr>\n",
       "  <th>genre_PopArt</th>                <td>    0.1889</td> <td>    1.041</td> <td>    0.182</td> <td> 0.856</td> <td>   -1.851</td> <td>    2.229</td>\n",
       "</tr>\n",
       "<tr>\n",
       "  <th>genre_PostImpressionism</th>     <td>    0.5587</td> <td>    0.573</td> <td>    0.975</td> <td> 0.330</td> <td>   -0.564</td> <td>    1.682</td>\n",
       "</tr>\n",
       "<tr>\n",
       "  <th>genre_Primitivism</th>           <td>    0.0306</td> <td>    0.762</td> <td>    0.040</td> <td> 0.968</td> <td>   -1.463</td> <td>    1.524</td>\n",
       "</tr>\n",
       "<tr>\n",
       "  <th>genre_ProtoRenaissance</th>      <td>   -0.2305</td> <td>    1.042</td> <td>   -0.221</td> <td> 0.825</td> <td>   -2.273</td> <td>    1.812</td>\n",
       "</tr>\n",
       "<tr>\n",
       "  <th>genre_Realism</th>               <td>   -0.9321</td> <td>    1.046</td> <td>   -0.891</td> <td> 0.373</td> <td>   -2.982</td> <td>    1.118</td>\n",
       "</tr>\n",
       "<tr>\n",
       "  <th>genre_Romanticism</th>           <td>   -0.1472</td> <td>    0.643</td> <td>   -0.229</td> <td> 0.819</td> <td>   -1.407</td> <td>    1.113</td>\n",
       "</tr>\n",
       "<tr>\n",
       "  <th>genre_Suprematism</th>           <td>   -0.1733</td> <td>    1.042</td> <td>   -0.166</td> <td> 0.868</td> <td>   -2.215</td> <td>    1.869</td>\n",
       "</tr>\n",
       "<tr>\n",
       "  <th>genre_Surrealism</th>            <td>   -0.2180</td> <td>    0.763</td> <td>   -0.286</td> <td> 0.775</td> <td>   -1.713</td> <td>    1.277</td>\n",
       "</tr>\n",
       "</table>"
      ],
      "text/plain": [
       "<class 'statsmodels.iolib.summary.Summary'>\n",
       "\"\"\"\n",
       "                 Generalized Linear Model Regression Results                  \n",
       "==============================================================================\n",
       "Dep. Variable:              paintings   No. Observations:                   50\n",
       "Model:                            GLM   Df Residuals:                       30\n",
       "Model Family:        NegativeBinomial   Df Model:                           19\n",
       "Link Function:                    log   Scale:                          1.0000\n",
       "Method:                          IRLS   Log-Likelihood:                -301.51\n",
       "Date:                Mon, 14 Sep 2020   Deviance:                       18.185\n",
       "Time:                        14:24:46   Pearson chi2:                     17.8\n",
       "No. Iterations:                     6                                         \n",
       "Covariance Type:            nonrobust                                         \n",
       "===============================================================================================\n",
       "                                  coef    std err          z      P>|z|      [0.025      0.975]\n",
       "-----------------------------------------------------------------------------------------------\n",
       "Intercept                       5.0096      0.278     18.002      0.000       4.464       5.555\n",
       "genre_Symbolism             -2.978e-17   4.69e-16     -0.064      0.949   -9.48e-16    8.89e-16\n",
       "genre_Abstractionism         1.149e-16   5.71e-16      0.201      0.841      -1e-15    1.23e-15\n",
       "genre_ArtNouveau             3.957e-16   6.34e-16      0.624      0.533   -8.47e-16    1.64e-15\n",
       "genre_Muralism               1.407e-16   2.94e-16      0.479      0.632   -4.35e-16    7.16e-16\n",
       "genre_SocialRealism         -4.402e-16   5.38e-16     -0.818      0.413   -1.49e-15    6.14e-16\n",
       "genre_AbstractExpressionism    -1.8316      1.058     -1.731      0.083      -3.905       0.242\n",
       "genre_Baroque                  -0.0226      0.574     -0.039      0.969      -1.147       1.102\n",
       "genre_ByzantineArt             -0.4145      1.043     -0.397      0.691      -2.458       1.629\n",
       "genre_Cubism                    1.0749      1.039      1.034      0.301      -0.962       3.111\n",
       "genre_EarlyRenaissance          0.0903      1.041      0.087      0.931      -1.950       2.130\n",
       "genre_Expressionism             0.2531      1.040      0.243      0.808      -1.786       2.292\n",
       "genre_HighRenaissance          -0.4011      0.643     -0.623      0.533      -1.662       0.860\n",
       "genre_Impressionism             0.8267      0.573      1.443      0.149      -0.296       1.949\n",
       "genre_Mannerism                -0.5437      1.044     -0.521      0.602      -2.589       1.502\n",
       "genre_Neoplasticism            -0.5788      1.044     -0.555      0.579      -2.624       1.467\n",
       "genre_NorthernRenaissance       0.1262      0.574      0.220      0.826      -0.998       1.250\n",
       "genre_PopArt                    0.1889      1.041      0.182      0.856      -1.851       2.229\n",
       "genre_PostImpressionism         0.5587      0.573      0.975      0.330      -0.564       1.682\n",
       "genre_Primitivism               0.0306      0.762      0.040      0.968      -1.463       1.524\n",
       "genre_ProtoRenaissance         -0.2305      1.042     -0.221      0.825      -2.273       1.812\n",
       "genre_Realism                  -0.9321      1.046     -0.891      0.373      -2.982       1.118\n",
       "genre_Romanticism              -0.1472      0.643     -0.229      0.819      -1.407       1.113\n",
       "genre_Suprematism              -0.1733      1.042     -0.166      0.868      -2.215       1.869\n",
       "genre_Surrealism               -0.2180      0.763     -0.286      0.775      -1.713       1.277\n",
       "===============================================================================================\n",
       "\"\"\""
      ]
     },
     "execution_count": 268,
     "metadata": {},
     "output_type": "execute_result"
    }
   ],
   "source": [
    "model = smf.glm(formula = reg, data = newdata, family = sm.families.NegativeBinomial()).fit()\n",
    "model.summary()"
   ]
  },
  {
   "cell_type": "code",
   "execution_count": 269,
   "metadata": {},
   "outputs": [
    {
     "data": {
      "text/plain": [
       "134.0887784746379"
      ]
     },
     "execution_count": 269,
     "metadata": {},
     "output_type": "execute_result"
    }
   ],
   "source": [
    "pred_val = model.fittedvalues.copy()\n",
    "obs_val = newdata['paintings'].values.copy()\n",
    "sqrt(mean_squared_error(obs_val, pred_val))"
   ]
  },
  {
   "cell_type": "markdown",
   "metadata": {},
   "source": [
    "Comparing both log-likelihoods, we can see that the Negative Binomial model performs better than the Poisson model. However, the RMSE (root mean squared error) corresponding to the latter regression model is too high. \n",
    "\n",
    "One may say that such disappointing results may be because we are ignoring the fact that some artists belonged to more than one genre. By not including interaction terms in our regression we may be losing a lot of information. We now model a Poisson model including those interaction terms:"
   ]
  },
  {
   "cell_type": "code",
   "execution_count": 270,
   "metadata": {},
   "outputs": [
    {
     "data": {
      "text/html": [
       "<table class=\"simpletable\">\n",
       "<caption>Generalized Linear Model Regression Results</caption>\n",
       "<tr>\n",
       "  <th>Dep. Variable:</th>       <td>paintings</td>    <th>  No. Observations:  </th>  <td>    50</td> \n",
       "</tr>\n",
       "<tr>\n",
       "  <th>Model:</th>                  <td>GLM</td>       <th>  Df Residuals:      </th>  <td>    30</td> \n",
       "</tr>\n",
       "<tr>\n",
       "  <th>Model Family:</th>         <td>Poisson</td>     <th>  Df Model:          </th>  <td>    19</td> \n",
       "</tr>\n",
       "<tr>\n",
       "  <th>Link Function:</th>          <td>log</td>       <th>  Scale:             </th> <td>  1.0000</td>\n",
       "</tr>\n",
       "<tr>\n",
       "  <th>Method:</th>                <td>IRLS</td>       <th>  Log-Likelihood:    </th> <td> -1895.9</td>\n",
       "</tr>\n",
       "<tr>\n",
       "  <th>Date:</th>            <td>Mon, 14 Sep 2020</td> <th>  Deviance:          </th> <td>  3457.6</td>\n",
       "</tr>\n",
       "<tr>\n",
       "  <th>Time:</th>                <td>14:24:47</td>     <th>  Pearson chi2:      </th> <td>3.80e+03</td>\n",
       "</tr>\n",
       "<tr>\n",
       "  <th>No. Iterations:</th>          <td>6</td>        <th>                     </th>     <td> </td>   \n",
       "</tr>\n",
       "<tr>\n",
       "  <th>Covariance Type:</th>     <td>nonrobust</td>    <th>                     </th>     <td> </td>   \n",
       "</tr>\n",
       "</table>\n",
       "<table class=\"simpletable\">\n",
       "<tr>\n",
       "                       <td></td>                          <th>coef</th>     <th>std err</th>      <th>z</th>      <th>P>|z|</th>  <th>[0.025</th>    <th>0.975]</th>  \n",
       "</tr>\n",
       "<tr>\n",
       "  <th>Intercept</th>                                   <td>    5.0096</td> <td>    0.023</td> <td>  221.105</td> <td> 0.000</td> <td>    4.965</td> <td>    5.054</td>\n",
       "</tr>\n",
       "<tr>\n",
       "  <th>genre_Symbolism</th>                             <td>-4.006e-16</td> <td>  4.7e-17</td> <td>   -8.523</td> <td> 0.000</td> <td>-4.93e-16</td> <td>-3.09e-16</td>\n",
       "</tr>\n",
       "<tr>\n",
       "  <th>genre_PostImpressionism</th>                     <td>    0.5587</td> <td>    0.038</td> <td>   14.585</td> <td> 0.000</td> <td>    0.484</td> <td>    0.634</td>\n",
       "</tr>\n",
       "<tr>\n",
       "  <th>genre_Symbolism:genre_PostImpressionism</th>     <td> -8.22e-16</td> <td> 8.66e-17</td> <td>   -9.495</td> <td> 0.000</td> <td>-9.92e-16</td> <td>-6.52e-16</td>\n",
       "</tr>\n",
       "<tr>\n",
       "  <th>genre_HighRenaissance</th>                       <td>   -0.4011</td> <td>    0.062</td> <td>   -6.477</td> <td> 0.000</td> <td>   -0.522</td> <td>   -0.280</td>\n",
       "</tr>\n",
       "<tr>\n",
       "  <th>genre_Mannerism</th>                             <td>   -0.5437</td> <td>    0.110</td> <td>   -4.962</td> <td> 0.000</td> <td>   -0.758</td> <td>   -0.329</td>\n",
       "</tr>\n",
       "<tr>\n",
       "  <th>genre_HighRenaissance:genre_Mannerism</th>       <td> 4.002e-16</td> <td>  3.5e-17</td> <td>   11.440</td> <td> 0.000</td> <td> 3.32e-16</td> <td> 4.69e-16</td>\n",
       "</tr>\n",
       "<tr>\n",
       "  <th>genre_Expressionism</th>                         <td>    0.2531</td> <td>    0.075</td> <td>    3.354</td> <td> 0.001</td> <td>    0.105</td> <td>    0.401</td>\n",
       "</tr>\n",
       "<tr>\n",
       "  <th>genre_Symbolism:genre_Expressionism</th>         <td>-4.986e-16</td> <td> 5.11e-17</td> <td>   -9.757</td> <td> 0.000</td> <td>-5.99e-16</td> <td>-3.98e-16</td>\n",
       "</tr>\n",
       "<tr>\n",
       "  <th>genre_Impressionism</th>                         <td>    0.8267</td> <td>    0.035</td> <td>   23.445</td> <td> 0.000</td> <td>    0.758</td> <td>    0.896</td>\n",
       "</tr>\n",
       "<tr>\n",
       "  <th>genre_Impressionism:genre_PostImpressionism</th> <td>-4.625e-16</td> <td> 4.98e-17</td> <td>   -9.279</td> <td> 0.000</td> <td> -5.6e-16</td> <td>-3.65e-16</td>\n",
       "</tr>\n",
       "<tr>\n",
       "  <th>genre_Primitivism</th>                           <td>    0.0306</td> <td>    0.061</td> <td>    0.499</td> <td> 0.617</td> <td>   -0.089</td> <td>    0.151</td>\n",
       "</tr>\n",
       "<tr>\n",
       "  <th>genre_Surrealism</th>                            <td>   -0.2180</td> <td>    0.068</td> <td>   -3.192</td> <td> 0.001</td> <td>   -0.352</td> <td>   -0.084</td>\n",
       "</tr>\n",
       "<tr>\n",
       "  <th>genre_Primitivism:genre_Surrealism</th>          <td> 1.157e-17</td> <td> 2.47e-17</td> <td>    0.469</td> <td> 0.639</td> <td>-3.68e-17</td> <td> 5.99e-17</td>\n",
       "</tr>\n",
       "<tr>\n",
       "  <th>genre_ArtNouveau</th>                            <td>-8.256e-18</td> <td> 1.43e-17</td> <td>   -0.576</td> <td> 0.565</td> <td>-3.64e-17</td> <td> 1.98e-17</td>\n",
       "</tr>\n",
       "<tr>\n",
       "  <th>genre_Symbolism:genre_ArtNouveau</th>            <td>-3.105e-17</td> <td> 1.82e-17</td> <td>   -1.706</td> <td> 0.088</td> <td>-6.67e-17</td> <td> 4.63e-18</td>\n",
       "</tr>\n",
       "<tr>\n",
       "  <th>genre_Realism</th>                               <td>   -0.9321</td> <td>    0.132</td> <td>   -7.053</td> <td> 0.000</td> <td>   -1.191</td> <td>   -0.673</td>\n",
       "</tr>\n",
       "<tr>\n",
       "  <th>genre_Realism:genre_Impressionism</th>           <td> 2.025e-17</td> <td> 2.26e-17</td> <td>    0.897</td> <td> 0.370</td> <td> -2.4e-17</td> <td> 6.45e-17</td>\n",
       "</tr>\n",
       "<tr>\n",
       "  <th>genre_Abstractionism</th>                        <td> 4.303e-17</td> <td> 2.77e-17</td> <td>    1.555</td> <td> 0.120</td> <td>-1.12e-17</td> <td> 9.73e-17</td>\n",
       "</tr>\n",
       "<tr>\n",
       "  <th>genre_Expressionism:genre_Abstractionism</th>    <td>-1.404e-17</td> <td> 7.62e-18</td> <td>   -1.842</td> <td> 0.065</td> <td> -2.9e-17</td> <td> 8.99e-19</td>\n",
       "</tr>\n",
       "<tr>\n",
       "  <th>genre_Expressionism:genre_Surrealism</th>        <td>         0</td> <td>        0</td> <td>      nan</td> <td>   nan</td> <td>        0</td> <td>        0</td>\n",
       "</tr>\n",
       "<tr>\n",
       "  <th>genre_SocialRealism</th>                         <td>         0</td> <td>        0</td> <td>      nan</td> <td>   nan</td> <td>        0</td> <td>        0</td>\n",
       "</tr>\n",
       "<tr>\n",
       "  <th>genre_Muralism</th>                              <td>         0</td> <td>        0</td> <td>      nan</td> <td>   nan</td> <td>        0</td> <td>        0</td>\n",
       "</tr>\n",
       "<tr>\n",
       "  <th>genre_SocialRealism:genre_Muralism</th>          <td>         0</td> <td>        0</td> <td>      nan</td> <td>   nan</td> <td>        0</td> <td>        0</td>\n",
       "</tr>\n",
       "<tr>\n",
       "  <th>genre_Surrealism:genre_Impressionism</th>        <td>         0</td> <td>        0</td> <td>      nan</td> <td>   nan</td> <td>        0</td> <td>        0</td>\n",
       "</tr>\n",
       "<tr>\n",
       "  <th>genre_AbstractExpressionism</th>                 <td>   -1.8316</td> <td>    0.205</td> <td>   -8.918</td> <td> 0.000</td> <td>   -2.234</td> <td>   -1.429</td>\n",
       "</tr>\n",
       "<tr>\n",
       "  <th>genre_Baroque</th>                               <td>   -0.0226</td> <td>    0.047</td> <td>   -0.479</td> <td> 0.632</td> <td>   -0.115</td> <td>    0.070</td>\n",
       "</tr>\n",
       "<tr>\n",
       "  <th>genre_ByzantineArt</th>                          <td>   -0.4145</td> <td>    0.103</td> <td>   -4.023</td> <td> 0.000</td> <td>   -0.616</td> <td>   -0.213</td>\n",
       "</tr>\n",
       "<tr>\n",
       "  <th>genre_Cubism</th>                                <td>    1.0749</td> <td>    0.053</td> <td>   20.345</td> <td> 0.000</td> <td>    0.971</td> <td>    1.178</td>\n",
       "</tr>\n",
       "<tr>\n",
       "  <th>genre_EarlyRenaissance</th>                      <td>    0.0903</td> <td>    0.081</td> <td>    1.110</td> <td> 0.267</td> <td>   -0.069</td> <td>    0.250</td>\n",
       "</tr>\n",
       "<tr>\n",
       "  <th>genre_Neoplasticism</th>                         <td>   -0.5788</td> <td>    0.111</td> <td>   -5.194</td> <td> 0.000</td> <td>   -0.797</td> <td>   -0.360</td>\n",
       "</tr>\n",
       "<tr>\n",
       "  <th>genre_NorthernRenaissance</th>                   <td>    0.1262</td> <td>    0.045</td> <td>    2.833</td> <td> 0.005</td> <td>    0.039</td> <td>    0.213</td>\n",
       "</tr>\n",
       "<tr>\n",
       "  <th>genre_PopArt</th>                                <td>    0.1889</td> <td>    0.078</td> <td>    2.431</td> <td> 0.015</td> <td>    0.037</td> <td>    0.341</td>\n",
       "</tr>\n",
       "<tr>\n",
       "  <th>genre_ProtoRenaissance</th>                      <td>   -0.2305</td> <td>    0.094</td> <td>   -2.441</td> <td> 0.015</td> <td>   -0.416</td> <td>   -0.045</td>\n",
       "</tr>\n",
       "<tr>\n",
       "  <th>genre_Romanticism</th>                           <td>   -0.1472</td> <td>    0.056</td> <td>   -2.648</td> <td> 0.008</td> <td>   -0.256</td> <td>   -0.038</td>\n",
       "</tr>\n",
       "<tr>\n",
       "  <th>genre_Suprematism</th>                           <td>   -0.1733</td> <td>    0.092</td> <td>   -1.886</td> <td> 0.059</td> <td>   -0.353</td> <td>    0.007</td>\n",
       "</tr>\n",
       "</table>"
      ],
      "text/plain": [
       "<class 'statsmodels.iolib.summary.Summary'>\n",
       "\"\"\"\n",
       "                 Generalized Linear Model Regression Results                  \n",
       "==============================================================================\n",
       "Dep. Variable:              paintings   No. Observations:                   50\n",
       "Model:                            GLM   Df Residuals:                       30\n",
       "Model Family:                 Poisson   Df Model:                           19\n",
       "Link Function:                    log   Scale:                          1.0000\n",
       "Method:                          IRLS   Log-Likelihood:                -1895.9\n",
       "Date:                Mon, 14 Sep 2020   Deviance:                       3457.6\n",
       "Time:                        14:24:47   Pearson chi2:                 3.80e+03\n",
       "No. Iterations:                     6                                         \n",
       "Covariance Type:            nonrobust                                         \n",
       "===============================================================================================================\n",
       "                                                  coef    std err          z      P>|z|      [0.025      0.975]\n",
       "---------------------------------------------------------------------------------------------------------------\n",
       "Intercept                                       5.0096      0.023    221.105      0.000       4.965       5.054\n",
       "genre_Symbolism                             -4.006e-16    4.7e-17     -8.523      0.000   -4.93e-16   -3.09e-16\n",
       "genre_PostImpressionism                         0.5587      0.038     14.585      0.000       0.484       0.634\n",
       "genre_Symbolism:genre_PostImpressionism      -8.22e-16   8.66e-17     -9.495      0.000   -9.92e-16   -6.52e-16\n",
       "genre_HighRenaissance                          -0.4011      0.062     -6.477      0.000      -0.522      -0.280\n",
       "genre_Mannerism                                -0.5437      0.110     -4.962      0.000      -0.758      -0.329\n",
       "genre_HighRenaissance:genre_Mannerism        4.002e-16    3.5e-17     11.440      0.000    3.32e-16    4.69e-16\n",
       "genre_Expressionism                             0.2531      0.075      3.354      0.001       0.105       0.401\n",
       "genre_Symbolism:genre_Expressionism         -4.986e-16   5.11e-17     -9.757      0.000   -5.99e-16   -3.98e-16\n",
       "genre_Impressionism                             0.8267      0.035     23.445      0.000       0.758       0.896\n",
       "genre_Impressionism:genre_PostImpressionism -4.625e-16   4.98e-17     -9.279      0.000    -5.6e-16   -3.65e-16\n",
       "genre_Primitivism                               0.0306      0.061      0.499      0.617      -0.089       0.151\n",
       "genre_Surrealism                               -0.2180      0.068     -3.192      0.001      -0.352      -0.084\n",
       "genre_Primitivism:genre_Surrealism           1.157e-17   2.47e-17      0.469      0.639   -3.68e-17    5.99e-17\n",
       "genre_ArtNouveau                            -8.256e-18   1.43e-17     -0.576      0.565   -3.64e-17    1.98e-17\n",
       "genre_Symbolism:genre_ArtNouveau            -3.105e-17   1.82e-17     -1.706      0.088   -6.67e-17    4.63e-18\n",
       "genre_Realism                                  -0.9321      0.132     -7.053      0.000      -1.191      -0.673\n",
       "genre_Realism:genre_Impressionism            2.025e-17   2.26e-17      0.897      0.370    -2.4e-17    6.45e-17\n",
       "genre_Abstractionism                         4.303e-17   2.77e-17      1.555      0.120   -1.12e-17    9.73e-17\n",
       "genre_Expressionism:genre_Abstractionism    -1.404e-17   7.62e-18     -1.842      0.065    -2.9e-17    8.99e-19\n",
       "genre_Expressionism:genre_Surrealism                 0          0        nan        nan           0           0\n",
       "genre_SocialRealism                                  0          0        nan        nan           0           0\n",
       "genre_Muralism                                       0          0        nan        nan           0           0\n",
       "genre_SocialRealism:genre_Muralism                   0          0        nan        nan           0           0\n",
       "genre_Surrealism:genre_Impressionism                 0          0        nan        nan           0           0\n",
       "genre_AbstractExpressionism                    -1.8316      0.205     -8.918      0.000      -2.234      -1.429\n",
       "genre_Baroque                                  -0.0226      0.047     -0.479      0.632      -0.115       0.070\n",
       "genre_ByzantineArt                             -0.4145      0.103     -4.023      0.000      -0.616      -0.213\n",
       "genre_Cubism                                    1.0749      0.053     20.345      0.000       0.971       1.178\n",
       "genre_EarlyRenaissance                          0.0903      0.081      1.110      0.267      -0.069       0.250\n",
       "genre_Neoplasticism                            -0.5788      0.111     -5.194      0.000      -0.797      -0.360\n",
       "genre_NorthernRenaissance                       0.1262      0.045      2.833      0.005       0.039       0.213\n",
       "genre_PopArt                                    0.1889      0.078      2.431      0.015       0.037       0.341\n",
       "genre_ProtoRenaissance                         -0.2305      0.094     -2.441      0.015      -0.416      -0.045\n",
       "genre_Romanticism                              -0.1472      0.056     -2.648      0.008      -0.256      -0.038\n",
       "genre_Suprematism                              -0.1733      0.092     -1.886      0.059      -0.353       0.007\n",
       "===============================================================================================================\n",
       "\"\"\""
      ]
     },
     "execution_count": 270,
     "metadata": {},
     "output_type": "execute_result"
    }
   ],
   "source": [
    "reg = 'paintings ~ genre_Symbolism*genre_PostImpressionism + genre_HighRenaissance*genre_Mannerism + genre_Symbolism*genre_Expressionism + genre_Impressionism*genre_PostImpressionism + genre_Primitivism*genre_Surrealism + genre_Symbolism*genre_ArtNouveau + genre_Realism*genre_Impressionism + genre_Expressionism*genre_Abstractionism + genre_Expressionism*genre_Surrealism + genre_SocialRealism*genre_Muralism + genre_Surrealism*genre_Impressionism + genre_AbstractExpressionism + genre_Baroque + genre_ByzantineArt + genre_Cubism + genre_EarlyRenaissance + genre_Expressionism + genre_HighRenaissance + genre_Impressionism + genre_Mannerism + genre_Neoplasticism + genre_NorthernRenaissance + genre_PopArt + genre_PostImpressionism + genre_Primitivism + genre_ProtoRenaissance + genre_Realism + genre_Romanticism + genre_Suprematism + genre_Surrealism'   \n",
    "\n",
    "model = smf.glm(formula = reg, data = newdata, family = sm.families.Poisson()).fit()\n",
    "model.summary()"
   ]
  },
  {
   "cell_type": "code",
   "execution_count": 271,
   "metadata": {},
   "outputs": [
    {
     "data": {
      "text/plain": [
       "126.76472719595658"
      ]
     },
     "execution_count": 271,
     "metadata": {},
     "output_type": "execute_result"
    }
   ],
   "source": [
    "model.pearson_chi2/model.df_resid"
   ]
  },
  {
   "cell_type": "markdown",
   "metadata": {},
   "source": [
    "We can observe that some of the new regressors present multicollinearity, making it impossible to compute their coefficients and evaluate their impact on the total number of paintings. Again, the ratio between the Pearson Chi Squared test value and the residual degrees of freedom shows overdispersion in our data so we model a Negative Binomial model:"
   ]
  },
  {
   "cell_type": "code",
   "execution_count": 272,
   "metadata": {},
   "outputs": [
    {
     "data": {
      "text/html": [
       "<table class=\"simpletable\">\n",
       "<caption>Generalized Linear Model Regression Results</caption>\n",
       "<tr>\n",
       "  <th>Dep. Variable:</th>       <td>paintings</td>    <th>  No. Observations:  </th>  <td>    50</td> \n",
       "</tr>\n",
       "<tr>\n",
       "  <th>Model:</th>                  <td>GLM</td>       <th>  Df Residuals:      </th>  <td>    30</td> \n",
       "</tr>\n",
       "<tr>\n",
       "  <th>Model Family:</th>    <td>NegativeBinomial</td> <th>  Df Model:          </th>  <td>    19</td> \n",
       "</tr>\n",
       "<tr>\n",
       "  <th>Link Function:</th>          <td>log</td>       <th>  Scale:             </th> <td>  1.0000</td>\n",
       "</tr>\n",
       "<tr>\n",
       "  <th>Method:</th>                <td>IRLS</td>       <th>  Log-Likelihood:    </th> <td> -301.51</td>\n",
       "</tr>\n",
       "<tr>\n",
       "  <th>Date:</th>            <td>Mon, 14 Sep 2020</td> <th>  Deviance:          </th> <td>  18.185</td>\n",
       "</tr>\n",
       "<tr>\n",
       "  <th>Time:</th>                <td>14:24:47</td>     <th>  Pearson chi2:      </th>  <td>  17.8</td> \n",
       "</tr>\n",
       "<tr>\n",
       "  <th>No. Iterations:</th>          <td>6</td>        <th>                     </th>     <td> </td>   \n",
       "</tr>\n",
       "<tr>\n",
       "  <th>Covariance Type:</th>     <td>nonrobust</td>    <th>                     </th>     <td> </td>   \n",
       "</tr>\n",
       "</table>\n",
       "<table class=\"simpletable\">\n",
       "<tr>\n",
       "                       <td></td>                          <th>coef</th>     <th>std err</th>      <th>z</th>      <th>P>|z|</th>  <th>[0.025</th>    <th>0.975]</th>  \n",
       "</tr>\n",
       "<tr>\n",
       "  <th>Intercept</th>                                   <td>    5.0096</td> <td>    0.278</td> <td>   18.002</td> <td> 0.000</td> <td>    4.464</td> <td>    5.555</td>\n",
       "</tr>\n",
       "<tr>\n",
       "  <th>genre_Symbolism</th>                             <td> 6.756e-16</td> <td>  7.9e-16</td> <td>    0.855</td> <td> 0.392</td> <td>-8.73e-16</td> <td> 2.22e-15</td>\n",
       "</tr>\n",
       "<tr>\n",
       "  <th>genre_PostImpressionism</th>                     <td>    0.5587</td> <td>    0.573</td> <td>    0.975</td> <td> 0.330</td> <td>   -0.564</td> <td>    1.682</td>\n",
       "</tr>\n",
       "<tr>\n",
       "  <th>genre_Symbolism:genre_PostImpressionism</th>     <td> 2.764e-17</td> <td> 5.64e-16</td> <td>    0.049</td> <td> 0.961</td> <td>-1.08e-15</td> <td> 1.13e-15</td>\n",
       "</tr>\n",
       "<tr>\n",
       "  <th>genre_HighRenaissance</th>                       <td>   -0.4011</td> <td>    0.643</td> <td>   -0.623</td> <td> 0.533</td> <td>   -1.662</td> <td>    0.860</td>\n",
       "</tr>\n",
       "<tr>\n",
       "  <th>genre_Mannerism</th>                             <td>   -0.5437</td> <td>    1.044</td> <td>   -0.521</td> <td> 0.602</td> <td>   -2.589</td> <td>    1.502</td>\n",
       "</tr>\n",
       "<tr>\n",
       "  <th>genre_HighRenaissance:genre_Mannerism</th>       <td>-6.737e-16</td> <td> 3.48e-16</td> <td>   -1.937</td> <td> 0.053</td> <td>-1.36e-15</td> <td> 7.98e-18</td>\n",
       "</tr>\n",
       "<tr>\n",
       "  <th>genre_Expressionism</th>                         <td>    0.2531</td> <td>    1.040</td> <td>    0.243</td> <td> 0.808</td> <td>   -1.786</td> <td>    2.292</td>\n",
       "</tr>\n",
       "<tr>\n",
       "  <th>genre_Symbolism:genre_Expressionism</th>         <td>-5.981e-18</td> <td> 2.85e-16</td> <td>   -0.021</td> <td> 0.983</td> <td>-5.64e-16</td> <td> 5.52e-16</td>\n",
       "</tr>\n",
       "<tr>\n",
       "  <th>genre_Impressionism</th>                         <td>    0.8267</td> <td>    0.573</td> <td>    1.443</td> <td> 0.149</td> <td>   -0.296</td> <td>    1.949</td>\n",
       "</tr>\n",
       "<tr>\n",
       "  <th>genre_Impressionism:genre_PostImpressionism</th> <td> 1.548e-16</td> <td> 2.83e-16</td> <td>    0.547</td> <td> 0.585</td> <td>   -4e-16</td> <td>  7.1e-16</td>\n",
       "</tr>\n",
       "<tr>\n",
       "  <th>genre_Primitivism</th>                           <td>    0.0306</td> <td>    0.762</td> <td>    0.040</td> <td> 0.968</td> <td>   -1.463</td> <td>    1.524</td>\n",
       "</tr>\n",
       "<tr>\n",
       "  <th>genre_Surrealism</th>                            <td>   -0.2180</td> <td>    0.763</td> <td>   -0.286</td> <td> 0.775</td> <td>   -1.713</td> <td>    1.277</td>\n",
       "</tr>\n",
       "<tr>\n",
       "  <th>genre_Primitivism:genre_Surrealism</th>          <td>-1.883e-16</td> <td> 2.49e-16</td> <td>   -0.757</td> <td> 0.449</td> <td>-6.76e-16</td> <td> 2.99e-16</td>\n",
       "</tr>\n",
       "<tr>\n",
       "  <th>genre_ArtNouveau</th>                            <td> 5.673e-17</td> <td>  3.1e-16</td> <td>    0.183</td> <td> 0.855</td> <td>-5.52e-16</td> <td> 6.65e-16</td>\n",
       "</tr>\n",
       "<tr>\n",
       "  <th>genre_Symbolism:genre_ArtNouveau</th>            <td>-1.716e-17</td> <td> 1.63e-16</td> <td>   -0.105</td> <td> 0.916</td> <td>-3.37e-16</td> <td> 3.03e-16</td>\n",
       "</tr>\n",
       "<tr>\n",
       "  <th>genre_Realism</th>                               <td>   -0.9321</td> <td>    1.046</td> <td>   -0.891</td> <td> 0.373</td> <td>   -2.982</td> <td>    1.118</td>\n",
       "</tr>\n",
       "<tr>\n",
       "  <th>genre_Realism:genre_Impressionism</th>           <td> 7.343e-17</td> <td> 2.01e-16</td> <td>    0.365</td> <td> 0.715</td> <td>-3.21e-16</td> <td> 4.68e-16</td>\n",
       "</tr>\n",
       "<tr>\n",
       "  <th>genre_Abstractionism</th>                        <td>-9.233e-17</td> <td> 1.77e-16</td> <td>   -0.523</td> <td> 0.601</td> <td>-4.38e-16</td> <td> 2.54e-16</td>\n",
       "</tr>\n",
       "<tr>\n",
       "  <th>genre_Expressionism:genre_Abstractionism</th>    <td>-8.178e-18</td> <td> 1.59e-16</td> <td>   -0.051</td> <td> 0.959</td> <td> -3.2e-16</td> <td> 3.04e-16</td>\n",
       "</tr>\n",
       "<tr>\n",
       "  <th>genre_Expressionism:genre_Surrealism</th>        <td>         0</td> <td>        0</td> <td>      nan</td> <td>   nan</td> <td>        0</td> <td>        0</td>\n",
       "</tr>\n",
       "<tr>\n",
       "  <th>genre_SocialRealism</th>                         <td>         0</td> <td>        0</td> <td>      nan</td> <td>   nan</td> <td>        0</td> <td>        0</td>\n",
       "</tr>\n",
       "<tr>\n",
       "  <th>genre_Muralism</th>                              <td>         0</td> <td>        0</td> <td>      nan</td> <td>   nan</td> <td>        0</td> <td>        0</td>\n",
       "</tr>\n",
       "<tr>\n",
       "  <th>genre_SocialRealism:genre_Muralism</th>          <td>         0</td> <td>        0</td> <td>      nan</td> <td>   nan</td> <td>        0</td> <td>        0</td>\n",
       "</tr>\n",
       "<tr>\n",
       "  <th>genre_Surrealism:genre_Impressionism</th>        <td>         0</td> <td>        0</td> <td>      nan</td> <td>   nan</td> <td>        0</td> <td>        0</td>\n",
       "</tr>\n",
       "<tr>\n",
       "  <th>genre_AbstractExpressionism</th>                 <td>   -1.8316</td> <td>    1.058</td> <td>   -1.731</td> <td> 0.083</td> <td>   -3.905</td> <td>    0.242</td>\n",
       "</tr>\n",
       "<tr>\n",
       "  <th>genre_Baroque</th>                               <td>   -0.0226</td> <td>    0.574</td> <td>   -0.039</td> <td> 0.969</td> <td>   -1.147</td> <td>    1.102</td>\n",
       "</tr>\n",
       "<tr>\n",
       "  <th>genre_ByzantineArt</th>                          <td>   -0.4145</td> <td>    1.043</td> <td>   -0.397</td> <td> 0.691</td> <td>   -2.458</td> <td>    1.629</td>\n",
       "</tr>\n",
       "<tr>\n",
       "  <th>genre_Cubism</th>                                <td>    1.0749</td> <td>    1.039</td> <td>    1.034</td> <td> 0.301</td> <td>   -0.962</td> <td>    3.111</td>\n",
       "</tr>\n",
       "<tr>\n",
       "  <th>genre_EarlyRenaissance</th>                      <td>    0.0903</td> <td>    1.041</td> <td>    0.087</td> <td> 0.931</td> <td>   -1.950</td> <td>    2.130</td>\n",
       "</tr>\n",
       "<tr>\n",
       "  <th>genre_Neoplasticism</th>                         <td>   -0.5788</td> <td>    1.044</td> <td>   -0.555</td> <td> 0.579</td> <td>   -2.624</td> <td>    1.467</td>\n",
       "</tr>\n",
       "<tr>\n",
       "  <th>genre_NorthernRenaissance</th>                   <td>    0.1262</td> <td>    0.574</td> <td>    0.220</td> <td> 0.826</td> <td>   -0.998</td> <td>    1.250</td>\n",
       "</tr>\n",
       "<tr>\n",
       "  <th>genre_PopArt</th>                                <td>    0.1889</td> <td>    1.041</td> <td>    0.182</td> <td> 0.856</td> <td>   -1.851</td> <td>    2.229</td>\n",
       "</tr>\n",
       "<tr>\n",
       "  <th>genre_ProtoRenaissance</th>                      <td>   -0.2305</td> <td>    1.042</td> <td>   -0.221</td> <td> 0.825</td> <td>   -2.273</td> <td>    1.812</td>\n",
       "</tr>\n",
       "<tr>\n",
       "  <th>genre_Romanticism</th>                           <td>   -0.1472</td> <td>    0.643</td> <td>   -0.229</td> <td> 0.819</td> <td>   -1.407</td> <td>    1.113</td>\n",
       "</tr>\n",
       "<tr>\n",
       "  <th>genre_Suprematism</th>                           <td>   -0.1733</td> <td>    1.042</td> <td>   -0.166</td> <td> 0.868</td> <td>   -2.215</td> <td>    1.869</td>\n",
       "</tr>\n",
       "</table>"
      ],
      "text/plain": [
       "<class 'statsmodels.iolib.summary.Summary'>\n",
       "\"\"\"\n",
       "                 Generalized Linear Model Regression Results                  \n",
       "==============================================================================\n",
       "Dep. Variable:              paintings   No. Observations:                   50\n",
       "Model:                            GLM   Df Residuals:                       30\n",
       "Model Family:        NegativeBinomial   Df Model:                           19\n",
       "Link Function:                    log   Scale:                          1.0000\n",
       "Method:                          IRLS   Log-Likelihood:                -301.51\n",
       "Date:                Mon, 14 Sep 2020   Deviance:                       18.185\n",
       "Time:                        14:24:47   Pearson chi2:                     17.8\n",
       "No. Iterations:                     6                                         \n",
       "Covariance Type:            nonrobust                                         \n",
       "===============================================================================================================\n",
       "                                                  coef    std err          z      P>|z|      [0.025      0.975]\n",
       "---------------------------------------------------------------------------------------------------------------\n",
       "Intercept                                       5.0096      0.278     18.002      0.000       4.464       5.555\n",
       "genre_Symbolism                              6.756e-16    7.9e-16      0.855      0.392   -8.73e-16    2.22e-15\n",
       "genre_PostImpressionism                         0.5587      0.573      0.975      0.330      -0.564       1.682\n",
       "genre_Symbolism:genre_PostImpressionism      2.764e-17   5.64e-16      0.049      0.961   -1.08e-15    1.13e-15\n",
       "genre_HighRenaissance                          -0.4011      0.643     -0.623      0.533      -1.662       0.860\n",
       "genre_Mannerism                                -0.5437      1.044     -0.521      0.602      -2.589       1.502\n",
       "genre_HighRenaissance:genre_Mannerism       -6.737e-16   3.48e-16     -1.937      0.053   -1.36e-15    7.98e-18\n",
       "genre_Expressionism                             0.2531      1.040      0.243      0.808      -1.786       2.292\n",
       "genre_Symbolism:genre_Expressionism         -5.981e-18   2.85e-16     -0.021      0.983   -5.64e-16    5.52e-16\n",
       "genre_Impressionism                             0.8267      0.573      1.443      0.149      -0.296       1.949\n",
       "genre_Impressionism:genre_PostImpressionism  1.548e-16   2.83e-16      0.547      0.585      -4e-16     7.1e-16\n",
       "genre_Primitivism                               0.0306      0.762      0.040      0.968      -1.463       1.524\n",
       "genre_Surrealism                               -0.2180      0.763     -0.286      0.775      -1.713       1.277\n",
       "genre_Primitivism:genre_Surrealism          -1.883e-16   2.49e-16     -0.757      0.449   -6.76e-16    2.99e-16\n",
       "genre_ArtNouveau                             5.673e-17    3.1e-16      0.183      0.855   -5.52e-16    6.65e-16\n",
       "genre_Symbolism:genre_ArtNouveau            -1.716e-17   1.63e-16     -0.105      0.916   -3.37e-16    3.03e-16\n",
       "genre_Realism                                  -0.9321      1.046     -0.891      0.373      -2.982       1.118\n",
       "genre_Realism:genre_Impressionism            7.343e-17   2.01e-16      0.365      0.715   -3.21e-16    4.68e-16\n",
       "genre_Abstractionism                        -9.233e-17   1.77e-16     -0.523      0.601   -4.38e-16    2.54e-16\n",
       "genre_Expressionism:genre_Abstractionism    -8.178e-18   1.59e-16     -0.051      0.959    -3.2e-16    3.04e-16\n",
       "genre_Expressionism:genre_Surrealism                 0          0        nan        nan           0           0\n",
       "genre_SocialRealism                                  0          0        nan        nan           0           0\n",
       "genre_Muralism                                       0          0        nan        nan           0           0\n",
       "genre_SocialRealism:genre_Muralism                   0          0        nan        nan           0           0\n",
       "genre_Surrealism:genre_Impressionism                 0          0        nan        nan           0           0\n",
       "genre_AbstractExpressionism                    -1.8316      1.058     -1.731      0.083      -3.905       0.242\n",
       "genre_Baroque                                  -0.0226      0.574     -0.039      0.969      -1.147       1.102\n",
       "genre_ByzantineArt                             -0.4145      1.043     -0.397      0.691      -2.458       1.629\n",
       "genre_Cubism                                    1.0749      1.039      1.034      0.301      -0.962       3.111\n",
       "genre_EarlyRenaissance                          0.0903      1.041      0.087      0.931      -1.950       2.130\n",
       "genre_Neoplasticism                            -0.5788      1.044     -0.555      0.579      -2.624       1.467\n",
       "genre_NorthernRenaissance                       0.1262      0.574      0.220      0.826      -0.998       1.250\n",
       "genre_PopArt                                    0.1889      1.041      0.182      0.856      -1.851       2.229\n",
       "genre_ProtoRenaissance                         -0.2305      1.042     -0.221      0.825      -2.273       1.812\n",
       "genre_Romanticism                              -0.1472      0.643     -0.229      0.819      -1.407       1.113\n",
       "genre_Suprematism                              -0.1733      1.042     -0.166      0.868      -2.215       1.869\n",
       "===============================================================================================================\n",
       "\"\"\""
      ]
     },
     "execution_count": 272,
     "metadata": {},
     "output_type": "execute_result"
    }
   ],
   "source": [
    "model = smf.glm(formula = reg, data = newdata, family = sm.families.NegativeBinomial()).fit()\n",
    "model.summary()"
   ]
  },
  {
   "cell_type": "code",
   "execution_count": 273,
   "metadata": {},
   "outputs": [
    {
     "data": {
      "text/plain": [
       "134.08877847463788"
      ]
     },
     "execution_count": 273,
     "metadata": {},
     "output_type": "execute_result"
    }
   ],
   "source": [
    "pred_val = model.fittedvalues.copy()\n",
    "obs_val = newdata['paintings'].values.copy()\n",
    "sqrt(mean_squared_error(obs_val, pred_val))"
   ]
  },
  {
   "cell_type": "markdown",
   "metadata": {},
   "source": [
    "The above Negative Binomial model also shows multicollinearity among some of the new regressors that try to capture the interaction between two genres. In addition, the RMSE takes a very large value.\n",
    "\n",
    "Looking at all four models we can argue that belonging to one genre or another (or even multiple of them) does not have a statistically significant impact on the number of paintings an artist authors and maybe more information would be useful to extract reliable conclusions from the data."
   ]
  },
  {
   "cell_type": "markdown",
   "metadata": {},
   "source": [
    "### Impact of Nationality on Paintings <a name=\"nationality\"></a>"
   ]
  },
  {
   "cell_type": "markdown",
   "metadata": {},
   "source": [
    "We are now interested in knowing the impact of nationality on the number of paitings (i.e. if artists of a given nationality ended up painting more art works than artists of another nationality). "
   ]
  },
  {
   "cell_type": "code",
   "execution_count": 274,
   "metadata": {},
   "outputs": [
    {
     "data": {
      "text/plain": [
       "['American',\n",
       " 'Austrian',\n",
       " 'Belgian',\n",
       " 'British',\n",
       " 'Dutch',\n",
       " 'Flemish',\n",
       " 'French',\n",
       " 'French,British',\n",
       " 'French,Jewish,Belarusian',\n",
       " 'German',\n",
       " 'German,Swiss',\n",
       " 'Italian',\n",
       " 'Mexican',\n",
       " 'Norwegian',\n",
       " 'Russian',\n",
       " 'Spanish',\n",
       " 'Spanish,Greek']"
      ]
     },
     "execution_count": 274,
     "metadata": {},
     "output_type": "execute_result"
    }
   ],
   "source": [
    "nationality = artists['nationality'].astype('category').cat.categories.tolist()\n",
    "nationality "
   ]
  },
  {
   "cell_type": "markdown",
   "metadata": {},
   "source": [
    "Similarly to what happened with some artists belonging to different genres, now we encounter that some artists had more than two nationalities. We will fix this issue the same way we fixed it for the genres:"
   ]
  },
  {
   "cell_type": "code",
   "execution_count": 275,
   "metadata": {},
   "outputs": [],
   "source": [
    "newdata = pd.get_dummies(artists, columns=['nationality'])\n",
    "newdata['nationality_Jewish'] = 0\n",
    "newdata['nationality_Belarussian'] = 0\n",
    "newdata['nationality_Swiss'] = 0\n",
    "newdata['nationality_Greek'] = 0"
   ]
  },
  {
   "cell_type": "code",
   "execution_count": 276,
   "metadata": {},
   "outputs": [],
   "source": [
    "for i in range(0, len(newdata)):\n",
    "    if newdata['nationality_French,British'][i] == 1:\n",
    "        newdata['nationality_French'][i] == 1\n",
    "        newdata['nationality_British'][i] == 1\n",
    "    if newdata['nationality_French,Jewish,Belarusian'][i] == 1:\n",
    "        newdata['nationality_French'][i] == 1\n",
    "        newdata['nationality_Jewish'][i] == 1\n",
    "        newdata['nationality_Belarussian'][i] == 1\n",
    "    if newdata['nationality_German,Swiss'][i] == 1:\n",
    "        newdata['nationality_German'][i] == 1\n",
    "        newdata['nationality_Swiss'][i] == 1\n",
    "    if newdata['nationality_Spanish,Greek'][i] == 1:\n",
    "        newdata['nationality_Spanish'][i] == 1\n",
    "        newdata['nationality_Greek'][i] == 1\n",
    "newdata = newdata.drop(['nationality_French,British', 'nationality_French,Jewish,Belarusian',\n",
    "                        'nationality_German,Swiss', 'nationality_Spanish,Greek'], axis=1)"
   ]
  },
  {
   "cell_type": "code",
   "execution_count": 277,
   "metadata": {},
   "outputs": [
    {
     "data": {
      "text/plain": [
       "Index(['id', 'name', 'years', 'genre', 'bio', 'wikipedia', 'paintings',\n",
       "       'nationality_American', 'nationality_Austrian', 'nationality_Belgian',\n",
       "       'nationality_British', 'nationality_Dutch', 'nationality_Flemish',\n",
       "       'nationality_French', 'nationality_German', 'nationality_Italian',\n",
       "       'nationality_Mexican', 'nationality_Norwegian', 'nationality_Russian',\n",
       "       'nationality_Spanish', 'nationality_Jewish', 'nationality_Belarussian',\n",
       "       'nationality_Swiss', 'nationality_Greek'],\n",
       "      dtype='object')"
      ]
     },
     "execution_count": 277,
     "metadata": {},
     "output_type": "execute_result"
    }
   ],
   "source": [
    "newdata.columns"
   ]
  },
  {
   "cell_type": "markdown",
   "metadata": {},
   "source": [
    "As in the previous section, our dependent variable (number of paintings) is a count variable. Consequently, we start by running a Poisson regression and checking for overdispersion:"
   ]
  },
  {
   "cell_type": "code",
   "execution_count": 278,
   "metadata": {
    "scrolled": true
   },
   "outputs": [
    {
     "data": {
      "text/html": [
       "<table class=\"simpletable\">\n",
       "<caption>Generalized Linear Model Regression Results</caption>\n",
       "<tr>\n",
       "  <th>Dep. Variable:</th>       <td>paintings</td>    <th>  No. Observations:  </th>  <td>    50</td> \n",
       "</tr>\n",
       "<tr>\n",
       "  <th>Model:</th>                  <td>GLM</td>       <th>  Df Residuals:      </th>  <td>    36</td> \n",
       "</tr>\n",
       "<tr>\n",
       "  <th>Model Family:</th>         <td>Poisson</td>     <th>  Df Model:          </th>  <td>    13</td> \n",
       "</tr>\n",
       "<tr>\n",
       "  <th>Link Function:</th>          <td>log</td>       <th>  Scale:             </th> <td>  1.0000</td>\n",
       "</tr>\n",
       "<tr>\n",
       "  <th>Method:</th>                <td>IRLS</td>       <th>  Log-Likelihood:    </th> <td> -2126.1</td>\n",
       "</tr>\n",
       "<tr>\n",
       "  <th>Date:</th>            <td>Mon, 14 Sep 2020</td> <th>  Deviance:          </th> <td>  3918.1</td>\n",
       "</tr>\n",
       "<tr>\n",
       "  <th>Time:</th>                <td>14:24:49</td>     <th>  Pearson chi2:      </th> <td>4.73e+03</td>\n",
       "</tr>\n",
       "<tr>\n",
       "  <th>No. Iterations:</th>          <td>5</td>        <th>                     </th>     <td> </td>   \n",
       "</tr>\n",
       "<tr>\n",
       "  <th>Covariance Type:</th>     <td>nonrobust</td>    <th>                     </th>     <td> </td>   \n",
       "</tr>\n",
       "</table>\n",
       "<table class=\"simpletable\">\n",
       "<tr>\n",
       "             <td></td>                <th>coef</th>     <th>std err</th>      <th>z</th>      <th>P>|z|</th>  <th>[0.025</th>    <th>0.975]</th>  \n",
       "</tr>\n",
       "<tr>\n",
       "  <th>Intercept</th>               <td>    5.2640</td> <td>    0.036</td> <td>  146.354</td> <td> 0.000</td> <td>    5.193</td> <td>    5.334</td>\n",
       "</tr>\n",
       "<tr>\n",
       "  <th>nationality_American</th>    <td>   -0.6341</td> <td>    0.079</td> <td>   -8.072</td> <td> 0.000</td> <td>   -0.788</td> <td>   -0.480</td>\n",
       "</tr>\n",
       "<tr>\n",
       "  <th>nationality_Austrian</th>    <td>   -0.5018</td> <td>    0.099</td> <td>   -5.059</td> <td> 0.000</td> <td>   -0.696</td> <td>   -0.307</td>\n",
       "</tr>\n",
       "<tr>\n",
       "  <th>nationality_Belgian</th>     <td>    0.0039</td> <td>    0.080</td> <td>    0.048</td> <td> 0.962</td> <td>   -0.154</td> <td>    0.161</td>\n",
       "</tr>\n",
       "<tr>\n",
       "  <th>nationality_British</th>     <td>   -1.0743</td> <td>    0.128</td> <td>   -8.378</td> <td> 0.000</td> <td>   -1.326</td> <td>   -0.823</td>\n",
       "</tr>\n",
       "<tr>\n",
       "  <th>nationality_Dutch</th>       <td>    0.5650</td> <td>    0.045</td> <td>   12.542</td> <td> 0.000</td> <td>    0.477</td> <td>    0.653</td>\n",
       "</tr>\n",
       "<tr>\n",
       "  <th>nationality_Flemish</th>     <td>   -0.4877</td> <td>    0.064</td> <td>   -7.614</td> <td> 0.000</td> <td>   -0.613</td> <td>   -0.362</td>\n",
       "</tr>\n",
       "<tr>\n",
       "  <th>nationality_French</th>      <td>   -0.1698</td> <td>    0.042</td> <td>   -4.040</td> <td> 0.000</td> <td>   -0.252</td> <td>   -0.087</td>\n",
       "</tr>\n",
       "<tr>\n",
       "  <th>nationality_German</th>      <td>    0.5290</td> <td>    0.066</td> <td>    8.028</td> <td> 0.000</td> <td>    0.400</td> <td>    0.658</td>\n",
       "</tr>\n",
       "<tr>\n",
       "  <th>nationality_Italian</th>     <td>   -0.3522</td> <td>    0.047</td> <td>   -7.487</td> <td> 0.000</td> <td>   -0.444</td> <td>   -0.260</td>\n",
       "</tr>\n",
       "<tr>\n",
       "  <th>nationality_Mexican</th>     <td>   -0.7101</td> <td>    0.081</td> <td>   -8.770</td> <td> 0.000</td> <td>   -0.869</td> <td>   -0.551</td>\n",
       "</tr>\n",
       "<tr>\n",
       "  <th>nationality_Norwegian</th>   <td>   -1.0593</td> <td>    0.127</td> <td>   -8.318</td> <td> 0.000</td> <td>   -1.309</td> <td>   -0.810</td>\n",
       "</tr>\n",
       "<tr>\n",
       "  <th>nationality_Russian</th>     <td>   -0.4682</td> <td>    0.058</td> <td>   -8.077</td> <td> 0.000</td> <td>   -0.582</td> <td>   -0.355</td>\n",
       "</tr>\n",
       "<tr>\n",
       "  <th>nationality_Spanish</th>     <td>    0.1287</td> <td>    0.047</td> <td>    2.742</td> <td> 0.006</td> <td>    0.037</td> <td>    0.221</td>\n",
       "</tr>\n",
       "<tr>\n",
       "  <th>nationality_Jewish</th>      <td>         0</td> <td>        0</td> <td>      nan</td> <td>   nan</td> <td>        0</td> <td>        0</td>\n",
       "</tr>\n",
       "<tr>\n",
       "  <th>nationality_Belarussian</th> <td>         0</td> <td>        0</td> <td>      nan</td> <td>   nan</td> <td>        0</td> <td>        0</td>\n",
       "</tr>\n",
       "<tr>\n",
       "  <th>nationality_Swiss</th>       <td>         0</td> <td>        0</td> <td>      nan</td> <td>   nan</td> <td>        0</td> <td>        0</td>\n",
       "</tr>\n",
       "<tr>\n",
       "  <th>nationality_Greek</th>       <td>         0</td> <td>        0</td> <td>      nan</td> <td>   nan</td> <td>        0</td> <td>        0</td>\n",
       "</tr>\n",
       "</table>"
      ],
      "text/plain": [
       "<class 'statsmodels.iolib.summary.Summary'>\n",
       "\"\"\"\n",
       "                 Generalized Linear Model Regression Results                  \n",
       "==============================================================================\n",
       "Dep. Variable:              paintings   No. Observations:                   50\n",
       "Model:                            GLM   Df Residuals:                       36\n",
       "Model Family:                 Poisson   Df Model:                           13\n",
       "Link Function:                    log   Scale:                          1.0000\n",
       "Method:                          IRLS   Log-Likelihood:                -2126.1\n",
       "Date:                Mon, 14 Sep 2020   Deviance:                       3918.1\n",
       "Time:                        14:24:49   Pearson chi2:                 4.73e+03\n",
       "No. Iterations:                     5                                         \n",
       "Covariance Type:            nonrobust                                         \n",
       "===========================================================================================\n",
       "                              coef    std err          z      P>|z|      [0.025      0.975]\n",
       "-------------------------------------------------------------------------------------------\n",
       "Intercept                   5.2640      0.036    146.354      0.000       5.193       5.334\n",
       "nationality_American       -0.6341      0.079     -8.072      0.000      -0.788      -0.480\n",
       "nationality_Austrian       -0.5018      0.099     -5.059      0.000      -0.696      -0.307\n",
       "nationality_Belgian         0.0039      0.080      0.048      0.962      -0.154       0.161\n",
       "nationality_British        -1.0743      0.128     -8.378      0.000      -1.326      -0.823\n",
       "nationality_Dutch           0.5650      0.045     12.542      0.000       0.477       0.653\n",
       "nationality_Flemish        -0.4877      0.064     -7.614      0.000      -0.613      -0.362\n",
       "nationality_French         -0.1698      0.042     -4.040      0.000      -0.252      -0.087\n",
       "nationality_German          0.5290      0.066      8.028      0.000       0.400       0.658\n",
       "nationality_Italian        -0.3522      0.047     -7.487      0.000      -0.444      -0.260\n",
       "nationality_Mexican        -0.7101      0.081     -8.770      0.000      -0.869      -0.551\n",
       "nationality_Norwegian      -1.0593      0.127     -8.318      0.000      -1.309      -0.810\n",
       "nationality_Russian        -0.4682      0.058     -8.077      0.000      -0.582      -0.355\n",
       "nationality_Spanish         0.1287      0.047      2.742      0.006       0.037       0.221\n",
       "nationality_Jewish               0          0        nan        nan           0           0\n",
       "nationality_Belarussian          0          0        nan        nan           0           0\n",
       "nationality_Swiss                0          0        nan        nan           0           0\n",
       "nationality_Greek                0          0        nan        nan           0           0\n",
       "===========================================================================================\n",
       "\"\"\""
      ]
     },
     "execution_count": 278,
     "metadata": {},
     "output_type": "execute_result"
    }
   ],
   "source": [
    "reg = 'paintings ~ nationality_American + nationality_Austrian + nationality_Belgian + nationality_British + nationality_Dutch + nationality_Flemish + nationality_French + nationality_German + nationality_Italian + nationality_Mexican + nationality_Norwegian + nationality_Russian + nationality_Spanish + nationality_Jewish + nationality_Belarussian + nationality_Swiss + nationality_Greek'\n",
    "\n",
    "model = smf.glm(formula = reg, data = newdata, family = sm.families.Poisson()).fit()\n",
    "model.summary()"
   ]
  },
  {
   "cell_type": "code",
   "execution_count": 279,
   "metadata": {},
   "outputs": [
    {
     "data": {
      "text/plain": [
       "131.40897518621807"
      ]
     },
     "execution_count": 279,
     "metadata": {},
     "output_type": "execute_result"
    }
   ],
   "source": [
    "model.pearson_chi2/model.df_resid"
   ]
  },
  {
   "cell_type": "markdown",
   "metadata": {},
   "source": [
    "The above ratio shows this model presents too much variability so our data is not Poisson-distributed so maybe a Negative Binomial model may be more adequate:"
   ]
  },
  {
   "cell_type": "code",
   "execution_count": 280,
   "metadata": {},
   "outputs": [
    {
     "data": {
      "text/html": [
       "<table class=\"simpletable\">\n",
       "<caption>Generalized Linear Model Regression Results</caption>\n",
       "<tr>\n",
       "  <th>Dep. Variable:</th>       <td>paintings</td>    <th>  No. Observations:  </th>  <td>    50</td> \n",
       "</tr>\n",
       "<tr>\n",
       "  <th>Model:</th>                  <td>GLM</td>       <th>  Df Residuals:      </th>  <td>    36</td> \n",
       "</tr>\n",
       "<tr>\n",
       "  <th>Model Family:</th>    <td>NegativeBinomial</td> <th>  Df Model:          </th>  <td>    13</td> \n",
       "</tr>\n",
       "<tr>\n",
       "  <th>Link Function:</th>          <td>log</td>       <th>  Scale:             </th> <td>  1.0000</td>\n",
       "</tr>\n",
       "<tr>\n",
       "  <th>Method:</th>                <td>IRLS</td>       <th>  Log-Likelihood:    </th> <td> -303.12</td>\n",
       "</tr>\n",
       "<tr>\n",
       "  <th>Date:</th>            <td>Mon, 14 Sep 2020</td> <th>  Deviance:          </th> <td>  21.414</td>\n",
       "</tr>\n",
       "<tr>\n",
       "  <th>Time:</th>                <td>14:24:50</td>     <th>  Pearson chi2:      </th>  <td>  25.3</td> \n",
       "</tr>\n",
       "<tr>\n",
       "  <th>No. Iterations:</th>          <td>5</td>        <th>                     </th>     <td> </td>   \n",
       "</tr>\n",
       "<tr>\n",
       "  <th>Covariance Type:</th>     <td>nonrobust</td>    <th>                     </th>     <td> </td>   \n",
       "</tr>\n",
       "</table>\n",
       "<table class=\"simpletable\">\n",
       "<tr>\n",
       "             <td></td>                <th>coef</th>     <th>std err</th>      <th>z</th>      <th>P>|z|</th>  <th>[0.025</th>    <th>0.975]</th>  \n",
       "</tr>\n",
       "<tr>\n",
       "  <th>Intercept</th>               <td>    5.2640</td> <td>    0.501</td> <td>   10.501</td> <td> 0.000</td> <td>    4.281</td> <td>    6.246</td>\n",
       "</tr>\n",
       "<tr>\n",
       "  <th>nationality_American</th>    <td>   -0.6341</td> <td>    0.870</td> <td>   -0.729</td> <td> 0.466</td> <td>   -2.338</td> <td>    1.070</td>\n",
       "</tr>\n",
       "<tr>\n",
       "  <th>nationality_Austrian</th>    <td>   -0.5018</td> <td>    1.122</td> <td>   -0.447</td> <td> 0.655</td> <td>   -2.702</td> <td>    1.698</td>\n",
       "</tr>\n",
       "<tr>\n",
       "  <th>nationality_Belgian</th>     <td>    0.0039</td> <td>    1.121</td> <td>    0.003</td> <td> 0.997</td> <td>   -2.193</td> <td>    2.201</td>\n",
       "</tr>\n",
       "<tr>\n",
       "  <th>nationality_British</th>     <td>   -1.0743</td> <td>    1.125</td> <td>   -0.955</td> <td> 0.340</td> <td>   -3.280</td> <td>    1.131</td>\n",
       "</tr>\n",
       "<tr>\n",
       "  <th>nationality_Dutch</th>       <td>    0.5650</td> <td>    0.709</td> <td>    0.797</td> <td> 0.425</td> <td>   -0.824</td> <td>    1.954</td>\n",
       "</tr>\n",
       "<tr>\n",
       "  <th>nationality_Flemish</th>     <td>   -0.4877</td> <td>    0.766</td> <td>   -0.636</td> <td> 0.525</td> <td>   -1.990</td> <td>    1.015</td>\n",
       "</tr>\n",
       "<tr>\n",
       "  <th>nationality_French</th>      <td>   -0.1698</td> <td>    0.573</td> <td>   -0.296</td> <td> 0.767</td> <td>   -1.293</td> <td>    0.954</td>\n",
       "</tr>\n",
       "<tr>\n",
       "  <th>nationality_German</th>      <td>    0.5290</td> <td>    1.120</td> <td>    0.472</td> <td> 0.637</td> <td>   -1.666</td> <td>    2.724</td>\n",
       "</tr>\n",
       "<tr>\n",
       "  <th>nationality_Italian</th>     <td>   -0.3522</td> <td>    0.614</td> <td>   -0.574</td> <td> 0.566</td> <td>   -1.556</td> <td>    0.852</td>\n",
       "</tr>\n",
       "<tr>\n",
       "  <th>nationality_Mexican</th>     <td>   -0.7101</td> <td>    0.870</td> <td>   -0.816</td> <td> 0.414</td> <td>   -2.415</td> <td>    0.995</td>\n",
       "</tr>\n",
       "<tr>\n",
       "  <th>nationality_Norwegian</th>   <td>   -1.0593</td> <td>    1.125</td> <td>   -0.941</td> <td> 0.347</td> <td>   -3.265</td> <td>    1.146</td>\n",
       "</tr>\n",
       "<tr>\n",
       "  <th>nationality_Russian</th>     <td>   -0.4682</td> <td>    0.709</td> <td>   -0.660</td> <td> 0.509</td> <td>   -1.859</td> <td>    0.922</td>\n",
       "</tr>\n",
       "<tr>\n",
       "  <th>nationality_Spanish</th>     <td>    0.1287</td> <td>    0.672</td> <td>    0.191</td> <td> 0.848</td> <td>   -1.189</td> <td>    1.447</td>\n",
       "</tr>\n",
       "<tr>\n",
       "  <th>nationality_Jewish</th>      <td>         0</td> <td>        0</td> <td>      nan</td> <td>   nan</td> <td>        0</td> <td>        0</td>\n",
       "</tr>\n",
       "<tr>\n",
       "  <th>nationality_Belarussian</th> <td>         0</td> <td>        0</td> <td>      nan</td> <td>   nan</td> <td>        0</td> <td>        0</td>\n",
       "</tr>\n",
       "<tr>\n",
       "  <th>nationality_Swiss</th>       <td>         0</td> <td>        0</td> <td>      nan</td> <td>   nan</td> <td>        0</td> <td>        0</td>\n",
       "</tr>\n",
       "<tr>\n",
       "  <th>nationality_Greek</th>       <td>         0</td> <td>        0</td> <td>      nan</td> <td>   nan</td> <td>        0</td> <td>        0</td>\n",
       "</tr>\n",
       "</table>"
      ],
      "text/plain": [
       "<class 'statsmodels.iolib.summary.Summary'>\n",
       "\"\"\"\n",
       "                 Generalized Linear Model Regression Results                  \n",
       "==============================================================================\n",
       "Dep. Variable:              paintings   No. Observations:                   50\n",
       "Model:                            GLM   Df Residuals:                       36\n",
       "Model Family:        NegativeBinomial   Df Model:                           13\n",
       "Link Function:                    log   Scale:                          1.0000\n",
       "Method:                          IRLS   Log-Likelihood:                -303.12\n",
       "Date:                Mon, 14 Sep 2020   Deviance:                       21.414\n",
       "Time:                        14:24:50   Pearson chi2:                     25.3\n",
       "No. Iterations:                     5                                         \n",
       "Covariance Type:            nonrobust                                         \n",
       "===========================================================================================\n",
       "                              coef    std err          z      P>|z|      [0.025      0.975]\n",
       "-------------------------------------------------------------------------------------------\n",
       "Intercept                   5.2640      0.501     10.501      0.000       4.281       6.246\n",
       "nationality_American       -0.6341      0.870     -0.729      0.466      -2.338       1.070\n",
       "nationality_Austrian       -0.5018      1.122     -0.447      0.655      -2.702       1.698\n",
       "nationality_Belgian         0.0039      1.121      0.003      0.997      -2.193       2.201\n",
       "nationality_British        -1.0743      1.125     -0.955      0.340      -3.280       1.131\n",
       "nationality_Dutch           0.5650      0.709      0.797      0.425      -0.824       1.954\n",
       "nationality_Flemish        -0.4877      0.766     -0.636      0.525      -1.990       1.015\n",
       "nationality_French         -0.1698      0.573     -0.296      0.767      -1.293       0.954\n",
       "nationality_German          0.5290      1.120      0.472      0.637      -1.666       2.724\n",
       "nationality_Italian        -0.3522      0.614     -0.574      0.566      -1.556       0.852\n",
       "nationality_Mexican        -0.7101      0.870     -0.816      0.414      -2.415       0.995\n",
       "nationality_Norwegian      -1.0593      1.125     -0.941      0.347      -3.265       1.146\n",
       "nationality_Russian        -0.4682      0.709     -0.660      0.509      -1.859       0.922\n",
       "nationality_Spanish         0.1287      0.672      0.191      0.848      -1.189       1.447\n",
       "nationality_Jewish               0          0        nan        nan           0           0\n",
       "nationality_Belarussian          0          0        nan        nan           0           0\n",
       "nationality_Swiss                0          0        nan        nan           0           0\n",
       "nationality_Greek                0          0        nan        nan           0           0\n",
       "===========================================================================================\n",
       "\"\"\""
      ]
     },
     "execution_count": 280,
     "metadata": {},
     "output_type": "execute_result"
    }
   ],
   "source": [
    "model = smf.glm(formula = reg, data = newdata, family = sm.families.NegativeBinomial()).fit()\n",
    "model.summary()"
   ]
  },
  {
   "cell_type": "code",
   "execution_count": 281,
   "metadata": {},
   "outputs": [
    {
     "data": {
      "text/plain": [
       "140.50355972313224"
      ]
     },
     "execution_count": 281,
     "metadata": {},
     "output_type": "execute_result"
    }
   ],
   "source": [
    "pred_val = model.fittedvalues.copy()\n",
    "obs_val = newdata['paintings'].values.copy()\n",
    "sqrt(mean_squared_error(obs_val, pred_val))"
   ]
  },
  {
   "cell_type": "markdown",
   "metadata": {},
   "source": [
    "After running a Negative Binomial model, we can observe that some regressors present multicollinearity (as they also did in the previous Poisson model) and that the RMSE is too high, which indicates that this is not a very good model. \n",
    "\n",
    "Again, we have not taken into account that some artists hold more than one nationality. To take this into account in the following models, we include interaction terms."
   ]
  },
  {
   "cell_type": "code",
   "execution_count": 282,
   "metadata": {},
   "outputs": [
    {
     "data": {
      "text/html": [
       "<table class=\"simpletable\">\n",
       "<caption>Generalized Linear Model Regression Results</caption>\n",
       "<tr>\n",
       "  <th>Dep. Variable:</th>       <td>paintings</td>    <th>  No. Observations:  </th>  <td>    50</td> \n",
       "</tr>\n",
       "<tr>\n",
       "  <th>Model:</th>                  <td>GLM</td>       <th>  Df Residuals:      </th>  <td>    36</td> \n",
       "</tr>\n",
       "<tr>\n",
       "  <th>Model Family:</th>         <td>Poisson</td>     <th>  Df Model:          </th>  <td>    13</td> \n",
       "</tr>\n",
       "<tr>\n",
       "  <th>Link Function:</th>          <td>log</td>       <th>  Scale:             </th> <td>  1.0000</td>\n",
       "</tr>\n",
       "<tr>\n",
       "  <th>Method:</th>                <td>IRLS</td>       <th>  Log-Likelihood:    </th> <td> -2126.1</td>\n",
       "</tr>\n",
       "<tr>\n",
       "  <th>Date:</th>            <td>Mon, 14 Sep 2020</td> <th>  Deviance:          </th> <td>  3918.1</td>\n",
       "</tr>\n",
       "<tr>\n",
       "  <th>Time:</th>                <td>14:24:51</td>     <th>  Pearson chi2:      </th> <td>4.73e+03</td>\n",
       "</tr>\n",
       "<tr>\n",
       "  <th>No. Iterations:</th>          <td>5</td>        <th>                     </th>     <td> </td>   \n",
       "</tr>\n",
       "<tr>\n",
       "  <th>Covariance Type:</th>     <td>nonrobust</td>    <th>                     </th>     <td> </td>   \n",
       "</tr>\n",
       "</table>\n",
       "<table class=\"simpletable\">\n",
       "<tr>\n",
       "                                <td></td>                                   <th>coef</th>     <th>std err</th>      <th>z</th>      <th>P>|z|</th>  <th>[0.025</th>    <th>0.975]</th>  \n",
       "</tr>\n",
       "<tr>\n",
       "  <th>Intercept</th>                                                     <td>    5.2640</td> <td>    0.036</td> <td>  146.354</td> <td> 0.000</td> <td>    5.193</td> <td>    5.334</td>\n",
       "</tr>\n",
       "<tr>\n",
       "  <th>nationality_Greek</th>                                             <td> -6.97e-16</td> <td> 6.09e-17</td> <td>  -11.450</td> <td> 0.000</td> <td>-8.16e-16</td> <td>-5.78e-16</td>\n",
       "</tr>\n",
       "<tr>\n",
       "  <th>nationality_Spanish</th>                                           <td>    0.1287</td> <td>    0.047</td> <td>    2.742</td> <td> 0.006</td> <td>    0.037</td> <td>    0.221</td>\n",
       "</tr>\n",
       "<tr>\n",
       "  <th>nationality_Greek:nationality_Spanish</th>                         <td>   7.1e-16</td> <td> 4.66e-17</td> <td>   15.244</td> <td> 0.000</td> <td> 6.19e-16</td> <td> 8.01e-16</td>\n",
       "</tr>\n",
       "<tr>\n",
       "  <th>nationality_German</th>                                            <td>    0.5290</td> <td>    0.066</td> <td>    8.028</td> <td> 0.000</td> <td>    0.400</td> <td>    0.658</td>\n",
       "</tr>\n",
       "<tr>\n",
       "  <th>nationality_Swiss</th>                                             <td> 2.209e-16</td> <td> 2.43e-17</td> <td>    9.101</td> <td> 0.000</td> <td> 1.73e-16</td> <td> 2.68e-16</td>\n",
       "</tr>\n",
       "<tr>\n",
       "  <th>nationality_German:nationality_Swiss</th>                          <td>-5.971e-16</td> <td> 4.76e-17</td> <td>  -12.539</td> <td> 0.000</td> <td> -6.9e-16</td> <td>-5.04e-16</td>\n",
       "</tr>\n",
       "<tr>\n",
       "  <th>nationality_Jewish</th>                                            <td> 2.704e-16</td> <td> 3.04e-17</td> <td>    8.882</td> <td> 0.000</td> <td> 2.11e-16</td> <td>  3.3e-16</td>\n",
       "</tr>\n",
       "<tr>\n",
       "  <th>nationality_French</th>                                            <td>   -0.1698</td> <td>    0.042</td> <td>   -4.040</td> <td> 0.000</td> <td>   -0.252</td> <td>   -0.087</td>\n",
       "</tr>\n",
       "<tr>\n",
       "  <th>nationality_Jewish:nationality_French</th>                         <td>-8.586e-17</td> <td>  3.1e-17</td> <td>   -2.770</td> <td> 0.006</td> <td>-1.47e-16</td> <td>-2.51e-17</td>\n",
       "</tr>\n",
       "<tr>\n",
       "  <th>nationality_Belarussian</th>                                       <td>-4.962e-16</td> <td> 3.48e-17</td> <td>  -14.245</td> <td> 0.000</td> <td>-5.64e-16</td> <td>-4.28e-16</td>\n",
       "</tr>\n",
       "<tr>\n",
       "  <th>nationality_Jewish:nationality_Belarussian</th>                    <td> 1.072e-16</td> <td> 2.45e-17</td> <td>    4.384</td> <td> 0.000</td> <td> 5.93e-17</td> <td> 1.55e-16</td>\n",
       "</tr>\n",
       "<tr>\n",
       "  <th>nationality_French:nationality_Belarussian</th>                    <td>  1.81e-17</td> <td> 2.75e-17</td> <td>    0.658</td> <td> 0.511</td> <td>-3.58e-17</td> <td>  7.2e-17</td>\n",
       "</tr>\n",
       "<tr>\n",
       "  <th>nationality_Jewish:nationality_French:nationality_Belarussian</th> <td> 6.807e-17</td> <td> 1.12e-17</td> <td>    6.059</td> <td> 0.000</td> <td>  4.6e-17</td> <td> 9.01e-17</td>\n",
       "</tr>\n",
       "<tr>\n",
       "  <th>nationality_British</th>                                           <td>   -1.0743</td> <td>    0.128</td> <td>   -8.378</td> <td> 0.000</td> <td>   -1.326</td> <td>   -0.823</td>\n",
       "</tr>\n",
       "<tr>\n",
       "  <th>nationality_French:nationality_British</th>                        <td>         0</td> <td>        0</td> <td>      nan</td> <td>   nan</td> <td>        0</td> <td>        0</td>\n",
       "</tr>\n",
       "<tr>\n",
       "  <th>nationality_American</th>                                          <td>   -0.6341</td> <td>    0.079</td> <td>   -8.072</td> <td> 0.000</td> <td>   -0.788</td> <td>   -0.480</td>\n",
       "</tr>\n",
       "<tr>\n",
       "  <th>nationality_Austrian</th>                                          <td>   -0.5018</td> <td>    0.099</td> <td>   -5.059</td> <td> 0.000</td> <td>   -0.696</td> <td>   -0.307</td>\n",
       "</tr>\n",
       "<tr>\n",
       "  <th>nationality_Belgian</th>                                           <td>    0.0039</td> <td>    0.080</td> <td>    0.048</td> <td> 0.962</td> <td>   -0.154</td> <td>    0.161</td>\n",
       "</tr>\n",
       "<tr>\n",
       "  <th>nationality_Dutch</th>                                             <td>    0.5650</td> <td>    0.045</td> <td>   12.542</td> <td> 0.000</td> <td>    0.477</td> <td>    0.653</td>\n",
       "</tr>\n",
       "<tr>\n",
       "  <th>nationality_Flemish</th>                                           <td>   -0.4877</td> <td>    0.064</td> <td>   -7.614</td> <td> 0.000</td> <td>   -0.613</td> <td>   -0.362</td>\n",
       "</tr>\n",
       "<tr>\n",
       "  <th>nationality_Italian</th>                                           <td>   -0.3522</td> <td>    0.047</td> <td>   -7.487</td> <td> 0.000</td> <td>   -0.444</td> <td>   -0.260</td>\n",
       "</tr>\n",
       "<tr>\n",
       "  <th>nationality_Mexican</th>                                           <td>   -0.7101</td> <td>    0.081</td> <td>   -8.770</td> <td> 0.000</td> <td>   -0.869</td> <td>   -0.551</td>\n",
       "</tr>\n",
       "<tr>\n",
       "  <th>nationality_Norwegian</th>                                         <td>   -1.0593</td> <td>    0.127</td> <td>   -8.318</td> <td> 0.000</td> <td>   -1.309</td> <td>   -0.810</td>\n",
       "</tr>\n",
       "<tr>\n",
       "  <th>nationality_Russian</th>                                           <td>   -0.4682</td> <td>    0.058</td> <td>   -8.077</td> <td> 0.000</td> <td>   -0.582</td> <td>   -0.355</td>\n",
       "</tr>\n",
       "</table>"
      ],
      "text/plain": [
       "<class 'statsmodels.iolib.summary.Summary'>\n",
       "\"\"\"\n",
       "                 Generalized Linear Model Regression Results                  \n",
       "==============================================================================\n",
       "Dep. Variable:              paintings   No. Observations:                   50\n",
       "Model:                            GLM   Df Residuals:                       36\n",
       "Model Family:                 Poisson   Df Model:                           13\n",
       "Link Function:                    log   Scale:                          1.0000\n",
       "Method:                          IRLS   Log-Likelihood:                -2126.1\n",
       "Date:                Mon, 14 Sep 2020   Deviance:                       3918.1\n",
       "Time:                        14:24:51   Pearson chi2:                 4.73e+03\n",
       "No. Iterations:                     5                                         \n",
       "Covariance Type:            nonrobust                                         \n",
       "=================================================================================================================================\n",
       "                                                                    coef    std err          z      P>|z|      [0.025      0.975]\n",
       "---------------------------------------------------------------------------------------------------------------------------------\n",
       "Intercept                                                         5.2640      0.036    146.354      0.000       5.193       5.334\n",
       "nationality_Greek                                              -6.97e-16   6.09e-17    -11.450      0.000   -8.16e-16   -5.78e-16\n",
       "nationality_Spanish                                               0.1287      0.047      2.742      0.006       0.037       0.221\n",
       "nationality_Greek:nationality_Spanish                            7.1e-16   4.66e-17     15.244      0.000    6.19e-16    8.01e-16\n",
       "nationality_German                                                0.5290      0.066      8.028      0.000       0.400       0.658\n",
       "nationality_Swiss                                              2.209e-16   2.43e-17      9.101      0.000    1.73e-16    2.68e-16\n",
       "nationality_German:nationality_Swiss                          -5.971e-16   4.76e-17    -12.539      0.000    -6.9e-16   -5.04e-16\n",
       "nationality_Jewish                                             2.704e-16   3.04e-17      8.882      0.000    2.11e-16     3.3e-16\n",
       "nationality_French                                               -0.1698      0.042     -4.040      0.000      -0.252      -0.087\n",
       "nationality_Jewish:nationality_French                         -8.586e-17    3.1e-17     -2.770      0.006   -1.47e-16   -2.51e-17\n",
       "nationality_Belarussian                                       -4.962e-16   3.48e-17    -14.245      0.000   -5.64e-16   -4.28e-16\n",
       "nationality_Jewish:nationality_Belarussian                     1.072e-16   2.45e-17      4.384      0.000    5.93e-17    1.55e-16\n",
       "nationality_French:nationality_Belarussian                      1.81e-17   2.75e-17      0.658      0.511   -3.58e-17     7.2e-17\n",
       "nationality_Jewish:nationality_French:nationality_Belarussian  6.807e-17   1.12e-17      6.059      0.000     4.6e-17    9.01e-17\n",
       "nationality_British                                              -1.0743      0.128     -8.378      0.000      -1.326      -0.823\n",
       "nationality_French:nationality_British                                 0          0        nan        nan           0           0\n",
       "nationality_American                                             -0.6341      0.079     -8.072      0.000      -0.788      -0.480\n",
       "nationality_Austrian                                             -0.5018      0.099     -5.059      0.000      -0.696      -0.307\n",
       "nationality_Belgian                                               0.0039      0.080      0.048      0.962      -0.154       0.161\n",
       "nationality_Dutch                                                 0.5650      0.045     12.542      0.000       0.477       0.653\n",
       "nationality_Flemish                                              -0.4877      0.064     -7.614      0.000      -0.613      -0.362\n",
       "nationality_Italian                                              -0.3522      0.047     -7.487      0.000      -0.444      -0.260\n",
       "nationality_Mexican                                              -0.7101      0.081     -8.770      0.000      -0.869      -0.551\n",
       "nationality_Norwegian                                            -1.0593      0.127     -8.318      0.000      -1.309      -0.810\n",
       "nationality_Russian                                              -0.4682      0.058     -8.077      0.000      -0.582      -0.355\n",
       "=================================================================================================================================\n",
       "\"\"\""
      ]
     },
     "execution_count": 282,
     "metadata": {},
     "output_type": "execute_result"
    }
   ],
   "source": [
    "reg = 'paintings ~ nationality_Greek*nationality_Spanish + nationality_German*nationality_Swiss + nationality_Jewish*nationality_French*nationality_Belarussian + nationality_French*nationality_British + nationality_American + nationality_Austrian + nationality_Belgian + nationality_British + nationality_Dutch + nationality_Flemish + nationality_French + nationality_German + nationality_Italian + nationality_Mexican + nationality_Norwegian + nationality_Russian + nationality_Spanish + nationality_Jewish + nationality_Belarussian + nationality_Swiss + nationality_Greek'\n",
    "\n",
    "model = smf.glm(formula = reg, data = newdata, family = sm.families.Poisson()).fit()\n",
    "model.summary()"
   ]
  },
  {
   "cell_type": "code",
   "execution_count": 283,
   "metadata": {},
   "outputs": [
    {
     "data": {
      "text/plain": [
       "131.40897518621773"
      ]
     },
     "execution_count": 283,
     "metadata": {},
     "output_type": "execute_result"
    }
   ],
   "source": [
    "model.pearson_chi2/model.df_resid"
   ]
  },
  {
   "cell_type": "markdown",
   "metadata": {},
   "source": [
    "Once again, overdispersion is present in our data. Hence, a Negative Binomial model is run:"
   ]
  },
  {
   "cell_type": "code",
   "execution_count": 284,
   "metadata": {},
   "outputs": [
    {
     "data": {
      "text/html": [
       "<table class=\"simpletable\">\n",
       "<caption>Generalized Linear Model Regression Results</caption>\n",
       "<tr>\n",
       "  <th>Dep. Variable:</th>       <td>paintings</td>    <th>  No. Observations:  </th>  <td>    50</td> \n",
       "</tr>\n",
       "<tr>\n",
       "  <th>Model:</th>                  <td>GLM</td>       <th>  Df Residuals:      </th>  <td>    36</td> \n",
       "</tr>\n",
       "<tr>\n",
       "  <th>Model Family:</th>    <td>NegativeBinomial</td> <th>  Df Model:          </th>  <td>    13</td> \n",
       "</tr>\n",
       "<tr>\n",
       "  <th>Link Function:</th>          <td>log</td>       <th>  Scale:             </th> <td>  1.0000</td>\n",
       "</tr>\n",
       "<tr>\n",
       "  <th>Method:</th>                <td>IRLS</td>       <th>  Log-Likelihood:    </th> <td> -303.12</td>\n",
       "</tr>\n",
       "<tr>\n",
       "  <th>Date:</th>            <td>Mon, 14 Sep 2020</td> <th>  Deviance:          </th> <td>  21.414</td>\n",
       "</tr>\n",
       "<tr>\n",
       "  <th>Time:</th>                <td>14:24:51</td>     <th>  Pearson chi2:      </th>  <td>  25.3</td> \n",
       "</tr>\n",
       "<tr>\n",
       "  <th>No. Iterations:</th>          <td>5</td>        <th>                     </th>     <td> </td>   \n",
       "</tr>\n",
       "<tr>\n",
       "  <th>Covariance Type:</th>     <td>nonrobust</td>    <th>                     </th>     <td> </td>   \n",
       "</tr>\n",
       "</table>\n",
       "<table class=\"simpletable\">\n",
       "<tr>\n",
       "                                <td></td>                                   <th>coef</th>     <th>std err</th>      <th>z</th>      <th>P>|z|</th>  <th>[0.025</th>    <th>0.975]</th>  \n",
       "</tr>\n",
       "<tr>\n",
       "  <th>Intercept</th>                                                     <td>    5.2640</td> <td>    0.501</td> <td>   10.501</td> <td> 0.000</td> <td>    4.281</td> <td>    6.246</td>\n",
       "</tr>\n",
       "<tr>\n",
       "  <th>nationality_Greek</th>                                             <td> 1.175e-15</td> <td>    7e-16</td> <td>    1.680</td> <td> 0.093</td> <td>-1.96e-16</td> <td> 2.55e-15</td>\n",
       "</tr>\n",
       "<tr>\n",
       "  <th>nationality_Spanish</th>                                           <td>    0.1287</td> <td>    0.672</td> <td>    0.191</td> <td> 0.848</td> <td>   -1.189</td> <td>    1.447</td>\n",
       "</tr>\n",
       "<tr>\n",
       "  <th>nationality_Greek:nationality_Spanish</th>                         <td>-2.273e-17</td> <td> 1.22e-16</td> <td>   -0.186</td> <td> 0.853</td> <td>-2.62e-16</td> <td> 2.17e-16</td>\n",
       "</tr>\n",
       "<tr>\n",
       "  <th>nationality_German</th>                                            <td>    0.5290</td> <td>    1.120</td> <td>    0.472</td> <td> 0.637</td> <td>   -1.666</td> <td>    2.724</td>\n",
       "</tr>\n",
       "<tr>\n",
       "  <th>nationality_Swiss</th>                                             <td> -5.36e-16</td> <td> 4.17e-16</td> <td>   -1.285</td> <td> 0.199</td> <td>-1.35e-15</td> <td> 2.81e-16</td>\n",
       "</tr>\n",
       "<tr>\n",
       "  <th>nationality_German:nationality_Swiss</th>                          <td>-8.141e-17</td> <td> 3.65e-16</td> <td>   -0.223</td> <td> 0.824</td> <td>-7.97e-16</td> <td> 6.34e-16</td>\n",
       "</tr>\n",
       "<tr>\n",
       "  <th>nationality_Jewish</th>                                            <td>-1.488e-16</td> <td> 1.62e-16</td> <td>   -0.918</td> <td> 0.359</td> <td>-4.66e-16</td> <td> 1.69e-16</td>\n",
       "</tr>\n",
       "<tr>\n",
       "  <th>nationality_French</th>                                            <td>   -0.1698</td> <td>    0.573</td> <td>   -0.296</td> <td> 0.767</td> <td>   -1.293</td> <td>    0.954</td>\n",
       "</tr>\n",
       "<tr>\n",
       "  <th>nationality_Jewish:nationality_French</th>                         <td> 8.265e-17</td> <td> 1.26e-16</td> <td>    0.654</td> <td> 0.513</td> <td>-1.65e-16</td> <td>  3.3e-16</td>\n",
       "</tr>\n",
       "<tr>\n",
       "  <th>nationality_Belarussian</th>                                       <td>-4.833e-17</td> <td> 1.66e-16</td> <td>   -0.291</td> <td> 0.771</td> <td>-3.74e-16</td> <td> 2.78e-16</td>\n",
       "</tr>\n",
       "<tr>\n",
       "  <th>nationality_Jewish:nationality_Belarussian</th>                    <td> -3.68e-17</td> <td> 1.72e-16</td> <td>   -0.213</td> <td> 0.831</td> <td>-3.75e-16</td> <td> 3.01e-16</td>\n",
       "</tr>\n",
       "<tr>\n",
       "  <th>nationality_French:nationality_Belarussian</th>                    <td> 5.843e-17</td> <td> 1.28e-16</td> <td>    0.457</td> <td> 0.647</td> <td>-1.92e-16</td> <td> 3.09e-16</td>\n",
       "</tr>\n",
       "<tr>\n",
       "  <th>nationality_Jewish:nationality_French:nationality_Belarussian</th> <td> 1.378e-17</td> <td> 2.29e-16</td> <td>    0.060</td> <td> 0.952</td> <td>-4.35e-16</td> <td> 4.62e-16</td>\n",
       "</tr>\n",
       "<tr>\n",
       "  <th>nationality_British</th>                                           <td>   -1.0743</td> <td>    1.125</td> <td>   -0.955</td> <td> 0.340</td> <td>   -3.280</td> <td>    1.131</td>\n",
       "</tr>\n",
       "<tr>\n",
       "  <th>nationality_French:nationality_British</th>                        <td>         0</td> <td>        0</td> <td>      nan</td> <td>   nan</td> <td>        0</td> <td>        0</td>\n",
       "</tr>\n",
       "<tr>\n",
       "  <th>nationality_American</th>                                          <td>   -0.6341</td> <td>    0.870</td> <td>   -0.729</td> <td> 0.466</td> <td>   -2.338</td> <td>    1.070</td>\n",
       "</tr>\n",
       "<tr>\n",
       "  <th>nationality_Austrian</th>                                          <td>   -0.5018</td> <td>    1.122</td> <td>   -0.447</td> <td> 0.655</td> <td>   -2.702</td> <td>    1.698</td>\n",
       "</tr>\n",
       "<tr>\n",
       "  <th>nationality_Belgian</th>                                           <td>    0.0039</td> <td>    1.121</td> <td>    0.003</td> <td> 0.997</td> <td>   -2.193</td> <td>    2.201</td>\n",
       "</tr>\n",
       "<tr>\n",
       "  <th>nationality_Dutch</th>                                             <td>    0.5650</td> <td>    0.709</td> <td>    0.797</td> <td> 0.425</td> <td>   -0.824</td> <td>    1.954</td>\n",
       "</tr>\n",
       "<tr>\n",
       "  <th>nationality_Flemish</th>                                           <td>   -0.4877</td> <td>    0.766</td> <td>   -0.636</td> <td> 0.525</td> <td>   -1.990</td> <td>    1.015</td>\n",
       "</tr>\n",
       "<tr>\n",
       "  <th>nationality_Italian</th>                                           <td>   -0.3522</td> <td>    0.614</td> <td>   -0.574</td> <td> 0.566</td> <td>   -1.556</td> <td>    0.852</td>\n",
       "</tr>\n",
       "<tr>\n",
       "  <th>nationality_Mexican</th>                                           <td>   -0.7101</td> <td>    0.870</td> <td>   -0.816</td> <td> 0.414</td> <td>   -2.415</td> <td>    0.995</td>\n",
       "</tr>\n",
       "<tr>\n",
       "  <th>nationality_Norwegian</th>                                         <td>   -1.0593</td> <td>    1.125</td> <td>   -0.941</td> <td> 0.347</td> <td>   -3.265</td> <td>    1.146</td>\n",
       "</tr>\n",
       "<tr>\n",
       "  <th>nationality_Russian</th>                                           <td>   -0.4682</td> <td>    0.709</td> <td>   -0.660</td> <td> 0.509</td> <td>   -1.859</td> <td>    0.922</td>\n",
       "</tr>\n",
       "</table>"
      ],
      "text/plain": [
       "<class 'statsmodels.iolib.summary.Summary'>\n",
       "\"\"\"\n",
       "                 Generalized Linear Model Regression Results                  \n",
       "==============================================================================\n",
       "Dep. Variable:              paintings   No. Observations:                   50\n",
       "Model:                            GLM   Df Residuals:                       36\n",
       "Model Family:        NegativeBinomial   Df Model:                           13\n",
       "Link Function:                    log   Scale:                          1.0000\n",
       "Method:                          IRLS   Log-Likelihood:                -303.12\n",
       "Date:                Mon, 14 Sep 2020   Deviance:                       21.414\n",
       "Time:                        14:24:51   Pearson chi2:                     25.3\n",
       "No. Iterations:                     5                                         \n",
       "Covariance Type:            nonrobust                                         \n",
       "=================================================================================================================================\n",
       "                                                                    coef    std err          z      P>|z|      [0.025      0.975]\n",
       "---------------------------------------------------------------------------------------------------------------------------------\n",
       "Intercept                                                         5.2640      0.501     10.501      0.000       4.281       6.246\n",
       "nationality_Greek                                              1.175e-15      7e-16      1.680      0.093   -1.96e-16    2.55e-15\n",
       "nationality_Spanish                                               0.1287      0.672      0.191      0.848      -1.189       1.447\n",
       "nationality_Greek:nationality_Spanish                         -2.273e-17   1.22e-16     -0.186      0.853   -2.62e-16    2.17e-16\n",
       "nationality_German                                                0.5290      1.120      0.472      0.637      -1.666       2.724\n",
       "nationality_Swiss                                              -5.36e-16   4.17e-16     -1.285      0.199   -1.35e-15    2.81e-16\n",
       "nationality_German:nationality_Swiss                          -8.141e-17   3.65e-16     -0.223      0.824   -7.97e-16    6.34e-16\n",
       "nationality_Jewish                                            -1.488e-16   1.62e-16     -0.918      0.359   -4.66e-16    1.69e-16\n",
       "nationality_French                                               -0.1698      0.573     -0.296      0.767      -1.293       0.954\n",
       "nationality_Jewish:nationality_French                          8.265e-17   1.26e-16      0.654      0.513   -1.65e-16     3.3e-16\n",
       "nationality_Belarussian                                       -4.833e-17   1.66e-16     -0.291      0.771   -3.74e-16    2.78e-16\n",
       "nationality_Jewish:nationality_Belarussian                     -3.68e-17   1.72e-16     -0.213      0.831   -3.75e-16    3.01e-16\n",
       "nationality_French:nationality_Belarussian                     5.843e-17   1.28e-16      0.457      0.647   -1.92e-16    3.09e-16\n",
       "nationality_Jewish:nationality_French:nationality_Belarussian  1.378e-17   2.29e-16      0.060      0.952   -4.35e-16    4.62e-16\n",
       "nationality_British                                              -1.0743      1.125     -0.955      0.340      -3.280       1.131\n",
       "nationality_French:nationality_British                                 0          0        nan        nan           0           0\n",
       "nationality_American                                             -0.6341      0.870     -0.729      0.466      -2.338       1.070\n",
       "nationality_Austrian                                             -0.5018      1.122     -0.447      0.655      -2.702       1.698\n",
       "nationality_Belgian                                               0.0039      1.121      0.003      0.997      -2.193       2.201\n",
       "nationality_Dutch                                                 0.5650      0.709      0.797      0.425      -0.824       1.954\n",
       "nationality_Flemish                                              -0.4877      0.766     -0.636      0.525      -1.990       1.015\n",
       "nationality_Italian                                              -0.3522      0.614     -0.574      0.566      -1.556       0.852\n",
       "nationality_Mexican                                              -0.7101      0.870     -0.816      0.414      -2.415       0.995\n",
       "nationality_Norwegian                                            -1.0593      1.125     -0.941      0.347      -3.265       1.146\n",
       "nationality_Russian                                              -0.4682      0.709     -0.660      0.509      -1.859       0.922\n",
       "=================================================================================================================================\n",
       "\"\"\""
      ]
     },
     "execution_count": 284,
     "metadata": {},
     "output_type": "execute_result"
    }
   ],
   "source": [
    "model = smf.glm(formula = reg, data = newdata, family = sm.families.NegativeBinomial()).fit()\n",
    "model.summary()"
   ]
  },
  {
   "cell_type": "code",
   "execution_count": 285,
   "metadata": {},
   "outputs": [
    {
     "data": {
      "text/plain": [
       "140.50355972313224"
      ]
     },
     "execution_count": 285,
     "metadata": {},
     "output_type": "execute_result"
    }
   ],
   "source": [
    "pred_val = model.fittedvalues.copy()\n",
    "obs_val = newdata['paintings'].values.copy()\n",
    "sqrt(mean_squared_error(obs_val, pred_val))"
   ]
  },
  {
   "cell_type": "markdown",
   "metadata": {},
   "source": [
    "In these two last models, there is a regressor that presents multicollinearity and thus we have not been able to compute its coefficient. Moreover, looking at the high RMSE we can state that this is not a reliable model.\n",
    "\n",
    "From this section we learn that an artist's nationality has not a significant impact on the amount of paintings this artist authors, maybe more information is needed to draw reliable conclusions."
   ]
  },
  {
   "cell_type": "markdown",
   "metadata": {},
   "source": [
    "### Relationship between Nationality and Genre <a name=\"correlation\"></a>"
   ]
  },
  {
   "cell_type": "markdown",
   "metadata": {},
   "source": [
    "One may expect that artists would belong to different genres according to their nationality. In this section we explore the relationship between these two variables."
   ]
  },
  {
   "cell_type": "code",
   "execution_count": 286,
   "metadata": {},
   "outputs": [
    {
     "data": {
      "text/html": [
       "<div>\n",
       "<style scoped>\n",
       "    .dataframe tbody tr th:only-of-type {\n",
       "        vertical-align: middle;\n",
       "    }\n",
       "\n",
       "    .dataframe tbody tr th {\n",
       "        vertical-align: top;\n",
       "    }\n",
       "\n",
       "    .dataframe thead th {\n",
       "        text-align: right;\n",
       "    }\n",
       "</style>\n",
       "<table border=\"1\" class=\"dataframe\">\n",
       "  <thead>\n",
       "    <tr style=\"text-align: right;\">\n",
       "      <th></th>\n",
       "      <th></th>\n",
       "    </tr>\n",
       "    <tr>\n",
       "      <th>nationality</th>\n",
       "      <th>genre</th>\n",
       "    </tr>\n",
       "  </thead>\n",
       "  <tbody>\n",
       "    <tr>\n",
       "      <th rowspan=\"2\" valign=\"top\">American</th>\n",
       "      <th>AbstractExpressionism</th>\n",
       "    </tr>\n",
       "    <tr>\n",
       "      <th>PopArt</th>\n",
       "    </tr>\n",
       "    <tr>\n",
       "      <th>Austrian</th>\n",
       "      <th>Symbolism, ArtNouveau</th>\n",
       "    </tr>\n",
       "    <tr>\n",
       "      <th>Belgian</th>\n",
       "      <th>Surrealism, Impressionism</th>\n",
       "    </tr>\n",
       "    <tr>\n",
       "      <th>British</th>\n",
       "      <th>Romanticism</th>\n",
       "    </tr>\n",
       "    <tr>\n",
       "      <th rowspan=\"4\" valign=\"top\">Dutch</th>\n",
       "      <th>Baroque</th>\n",
       "    </tr>\n",
       "    <tr>\n",
       "      <th>Neoplasticism</th>\n",
       "    </tr>\n",
       "    <tr>\n",
       "      <th>NorthernRenaissance</th>\n",
       "    </tr>\n",
       "    <tr>\n",
       "      <th>PostImpressionism</th>\n",
       "    </tr>\n",
       "    <tr>\n",
       "      <th rowspan=\"2\" valign=\"top\">Flemish</th>\n",
       "      <th>Baroque</th>\n",
       "    </tr>\n",
       "    <tr>\n",
       "      <th>NorthernRenaissance</th>\n",
       "    </tr>\n",
       "    <tr>\n",
       "      <th rowspan=\"8\" valign=\"top\">French</th>\n",
       "      <th>Impressionism</th>\n",
       "    </tr>\n",
       "    <tr>\n",
       "      <th>Impressionism, PostImpressionism</th>\n",
       "    </tr>\n",
       "    <tr>\n",
       "      <th>PostImpressionism</th>\n",
       "    </tr>\n",
       "    <tr>\n",
       "      <th>Primitivism</th>\n",
       "    </tr>\n",
       "    <tr>\n",
       "      <th>Realism</th>\n",
       "    </tr>\n",
       "    <tr>\n",
       "      <th>Realism, Impressionism</th>\n",
       "    </tr>\n",
       "    <tr>\n",
       "      <th>Romanticism</th>\n",
       "    </tr>\n",
       "    <tr>\n",
       "      <th>Symbolism, PostImpressionism</th>\n",
       "    </tr>\n",
       "    <tr>\n",
       "      <th>French, British</th>\n",
       "      <th>Impressionism</th>\n",
       "    </tr>\n",
       "    <tr>\n",
       "      <th>French, Jewish, Belarusian</th>\n",
       "      <th>Primitivism</th>\n",
       "    </tr>\n",
       "    <tr>\n",
       "      <th>German</th>\n",
       "      <th>NorthernRenaissance</th>\n",
       "    </tr>\n",
       "    <tr>\n",
       "      <th>German, Swiss</th>\n",
       "      <th>Expressionism, Abstractionism, Surrealism</th>\n",
       "    </tr>\n",
       "    <tr>\n",
       "      <th rowspan=\"6\" valign=\"top\">Italian</th>\n",
       "      <th>Baroque</th>\n",
       "    </tr>\n",
       "    <tr>\n",
       "      <th>EarlyRenaissance</th>\n",
       "    </tr>\n",
       "    <tr>\n",
       "      <th>Expressionism</th>\n",
       "    </tr>\n",
       "    <tr>\n",
       "      <th>HighRenaissance</th>\n",
       "    </tr>\n",
       "    <tr>\n",
       "      <th>HighRenaissance, Mannerism</th>\n",
       "    </tr>\n",
       "    <tr>\n",
       "      <th>ProtoRenaissance</th>\n",
       "    </tr>\n",
       "    <tr>\n",
       "      <th rowspan=\"2\" valign=\"top\">Mexican</th>\n",
       "      <th>Primitivism, Surrealism</th>\n",
       "    </tr>\n",
       "    <tr>\n",
       "      <th>SocialRealism, Muralism</th>\n",
       "    </tr>\n",
       "    <tr>\n",
       "      <th>Norwegian</th>\n",
       "      <th>Symbolism, Expressionism</th>\n",
       "    </tr>\n",
       "    <tr>\n",
       "      <th rowspan=\"4\" valign=\"top\">Russian</th>\n",
       "      <th>ByzantineArt</th>\n",
       "    </tr>\n",
       "    <tr>\n",
       "      <th>Expressionism, Abstractionism</th>\n",
       "    </tr>\n",
       "    <tr>\n",
       "      <th>Suprematism</th>\n",
       "    </tr>\n",
       "    <tr>\n",
       "      <th>Symbolism</th>\n",
       "    </tr>\n",
       "    <tr>\n",
       "      <th rowspan=\"4\" valign=\"top\">Spanish</th>\n",
       "      <th>Baroque</th>\n",
       "    </tr>\n",
       "    <tr>\n",
       "      <th>Cubism</th>\n",
       "    </tr>\n",
       "    <tr>\n",
       "      <th>Romanticism</th>\n",
       "    </tr>\n",
       "    <tr>\n",
       "      <th>Surrealism</th>\n",
       "    </tr>\n",
       "    <tr>\n",
       "      <th>Spanish, Greek</th>\n",
       "      <th>Mannerism</th>\n",
       "    </tr>\n",
       "  </tbody>\n",
       "</table>\n",
       "</div>"
      ],
      "text/plain": [
       "Empty DataFrame\n",
       "Columns: []\n",
       "Index: [(American, AbstractExpressionism), (American, PopArt), (Austrian, Symbolism, ArtNouveau), (Belgian, Surrealism, Impressionism), (British, Romanticism), (Dutch, Baroque), (Dutch, Neoplasticism), (Dutch, NorthernRenaissance), (Dutch, PostImpressionism), (Flemish, Baroque), (Flemish, NorthernRenaissance), (French, Impressionism), (French, Impressionism, PostImpressionism), (French, PostImpressionism), (French, Primitivism), (French, Realism), (French, Realism, Impressionism), (French, Romanticism), (French, Symbolism, PostImpressionism), (French, British, Impressionism), (French, Jewish, Belarusian, Primitivism), (German, NorthernRenaissance), (German, Swiss, Expressionism, Abstractionism, Surrealism), (Italian, Baroque), (Italian, EarlyRenaissance), (Italian, Expressionism), (Italian, HighRenaissance), (Italian, HighRenaissance, Mannerism), (Italian, ProtoRenaissance), (Mexican, Primitivism, Surrealism), (Mexican, SocialRealism, Muralism), (Norwegian, Symbolism, Expressionism), (Russian, ByzantineArt), (Russian, Expressionism, Abstractionism), (Russian, Suprematism), (Russian, Symbolism), (Spanish, Baroque), (Spanish, Cubism), (Spanish, Romanticism), (Spanish, Surrealism), (Spanish, Greek, Mannerism)]"
      ]
     },
     "execution_count": 286,
     "metadata": {},
     "output_type": "execute_result"
    }
   ],
   "source": [
    "nat_gen_df = artists.drop(['id','name','years','paintings','bio','wikipedia'], axis=1)\n",
    "nat_gen_df['nationality'] = nat_gen_df['nationality'].str.replace(\",\", \", \")\n",
    "nat_gen_df['genre'] = nat_gen_df['genre'].str.replace(\",\", \", \")\n",
    "classif = nat_gen_df.groupby(['nationality', 'genre']).count()\n",
    "classif"
   ]
  },
  {
   "cell_type": "markdown",
   "metadata": {},
   "source": [
    "The above table shows the genres corresponding to each nationality but it is not very informative and does not allow us to see if there is some dependence between both variables. We now build a contingency table that collects the number of artists corresponding to a given genre and nationality. To the resulting contingency table we run a Chi-Squared independence test:"
   ]
  },
  {
   "cell_type": "code",
   "execution_count": 303,
   "metadata": {},
   "outputs": [
    {
     "data": {
      "text/plain": [
       "0.005"
      ]
     },
     "execution_count": 303,
     "metadata": {},
     "output_type": "execute_result"
    }
   ],
   "source": [
    "contingency_table = pd.crosstab(artists['genre'], artists['nationality'], margins = True)\n",
    "contingency_table = contingency_table.drop(contingency_table.columns[-1],axis=1) \n",
    "# We drop the last column, which counts all nationalities for a given genre\n",
    "\n",
    "round(st.stats.chi2_contingency(contingency_table)[1],3) # This will print the p-value"
   ]
  },
  {
   "cell_type": "markdown",
   "metadata": {},
   "source": [
    "Since the p-value obtained is smaller than 0.05, we reject the null hypothesis of independence at a 5% significance level. Hence, the genre (or genres) to which an artist belongs is not independent from the artist's nationality. In other words, depending on where an artist is from they have more or less chances to belong to a given genre or another."
   ]
  },
  {
   "cell_type": "markdown",
   "metadata": {},
   "source": [
    "## Artist Prediction Model <a name=\"prediction\"></a>"
   ]
  },
  {
   "cell_type": "markdown",
   "metadata": {},
   "source": [
    "WORK IN PROGRESS"
   ]
  }
 ],
 "metadata": {
  "kernelspec": {
   "display_name": "Python 3",
   "language": "python",
   "name": "python3"
  },
  "language_info": {
   "codemirror_mode": {
    "name": "ipython",
    "version": 3
   },
   "file_extension": ".py",
   "mimetype": "text/x-python",
   "name": "python",
   "nbconvert_exporter": "python",
   "pygments_lexer": "ipython3",
   "version": "3.8.2"
  }
 },
 "nbformat": 4,
 "nbformat_minor": 2
}
