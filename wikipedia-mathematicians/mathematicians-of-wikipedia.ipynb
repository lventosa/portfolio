{
 "cells": [
  {
   "cell_type": "markdown",
   "metadata": {},
   "source": [
    "# Mathematicians of Wikipedia"
   ]
  },
  {
   "cell_type": "markdown",
   "metadata": {},
   "source": [
    "INTRODUCTION"
   ]
  },
  {
   "cell_type": "markdown",
   "metadata": {},
   "source": [
    "## Table of Contents"
   ]
  },
  {
   "cell_type": "markdown",
   "metadata": {},
   "source": [
    "## Importing Dataset and Libraries"
   ]
  },
  {
   "cell_type": "code",
   "execution_count": 65,
   "metadata": {},
   "outputs": [],
   "source": [
    "using Suppressor #buscar alternativa que funcioni\n",
    "using CSV\n",
    "using DataFrames\n",
    "using StatsPlots"
   ]
  },
  {
   "cell_type": "code",
   "execution_count": 74,
   "metadata": {},
   "outputs": [
    {
     "name": "stderr",
     "output_type": "stream",
     "text": [
      "┌ Warning: `getindex(df::DataFrame, col_inds::Union{AbstractVector, Regex, Not})` is deprecated, use `df[:, col_inds]` instead.\n",
      "│   caller = top-level scope at In[74]:2\n",
      "└ @ Core In[74]:2\n"
     ]
    },
    {
     "data": {
      "text/html": [
       "<table class=\"data-frame\"><thead><tr><th></th><th>variable</th><th>eltype</th><th>nmissing</th></tr><tr><th></th><th>Symbol</th><th>Type</th><th>Union…</th></tr></thead><tbody><p>29 rows × 3 columns</p><tr><th>1</th><td>mathematicians</td><td>String</td><td></td></tr><tr><th>2</th><td>occupation</td><td>String</td><td></td></tr><tr><th>3</th><td>country of citizenship</td><td>Union{Missing, String}</td><td>1721</td></tr><tr><th>4</th><td>place of birth</td><td>Union{Missing, String}</td><td>3026</td></tr><tr><th>5</th><td>date of death</td><td>Union{Missing, String}</td><td>3702</td></tr><tr><th>6</th><td>educated at</td><td>Union{Missing, String}</td><td>3869</td></tr><tr><th>7</th><td>employer</td><td>Union{Missing, String}</td><td>5086</td></tr><tr><th>8</th><td>place of death</td><td>Union{Missing, String}</td><td>5436</td></tr><tr><th>9</th><td>member of</td><td>Union{Missing, String}</td><td>5505</td></tr><tr><th>10</th><td>employer_1</td><td>Union{Missing, String}</td><td>5086</td></tr><tr><th>11</th><td>doctoral advisor</td><td>Union{Missing, String}</td><td>6145</td></tr><tr><th>12</th><td>languages spoken, written or signed</td><td>Union{Missing, String}</td><td>6269</td></tr><tr><th>13</th><td>academic degree</td><td>Union{Missing, String}</td><td>8097</td></tr><tr><th>14</th><td>doctoral student</td><td>Union{Missing, String}</td><td>8292</td></tr><tr><th>15</th><td>manner of death</td><td>Union{Missing, String}</td><td>8373</td></tr><tr><th>16</th><td>position held</td><td>Union{Missing, String}</td><td>8377</td></tr><tr><th>17</th><td>field of work</td><td>Union{Missing, String}</td><td>6163</td></tr><tr><th>18</th><td>award received</td><td>Union{Missing, String}</td><td>6249</td></tr><tr><th>19</th><td>Erdős number</td><td>Union{Missing, String}</td><td>7122</td></tr><tr><th>20</th><td>instance of</td><td>String</td><td></td></tr><tr><th>21</th><td>sex or gender</td><td>Union{Missing, String}</td><td>28</td></tr><tr><th>22</th><td>approx. date of birth</td><td>Bool</td><td></td></tr><tr><th>23</th><td>day of birth</td><td>Union{Missing, Int64}</td><td>2826</td></tr><tr><th>24</th><td>month of birth</td><td>Union{Missing, String}</td><td>2791</td></tr><tr><th>25</th><td>year of birth</td><td>Union{Missing, String}</td><td>971</td></tr><tr><th>26</th><td>approx. date of death</td><td>Bool</td><td></td></tr><tr><th>27</th><td>day of death</td><td>Union{Missing, Int64}</td><td>4610</td></tr><tr><th>28</th><td>month of death</td><td>Union{Missing, String}</td><td>4570</td></tr><tr><th>29</th><td>year of death</td><td>Union{Missing, String}</td><td>3703</td></tr></tbody></table>"
      ],
      "text/latex": [
       "\\begin{tabular}{r|ccc}\n",
       "\t& variable & eltype & nmissing\\\\\n",
       "\t\\hline\n",
       "\t& Symbol & Type & Union…\\\\\n",
       "\t\\hline\n",
       "\t1 & mathematicians & String &  \\\\\n",
       "\t2 & occupation & String &  \\\\\n",
       "\t3 & country of citizenship & Union\\{Missing, String\\} & 1721 \\\\\n",
       "\t4 & place of birth & Union\\{Missing, String\\} & 3026 \\\\\n",
       "\t5 & date of death & Union\\{Missing, String\\} & 3702 \\\\\n",
       "\t6 & educated at & Union\\{Missing, String\\} & 3869 \\\\\n",
       "\t7 & employer & Union\\{Missing, String\\} & 5086 \\\\\n",
       "\t8 & place of death & Union\\{Missing, String\\} & 5436 \\\\\n",
       "\t9 & member of & Union\\{Missing, String\\} & 5505 \\\\\n",
       "\t10 & employer\\_1 & Union\\{Missing, String\\} & 5086 \\\\\n",
       "\t11 & doctoral advisor & Union\\{Missing, String\\} & 6145 \\\\\n",
       "\t12 & languages spoken, written or signed & Union\\{Missing, String\\} & 6269 \\\\\n",
       "\t13 & academic degree & Union\\{Missing, String\\} & 8097 \\\\\n",
       "\t14 & doctoral student & Union\\{Missing, String\\} & 8292 \\\\\n",
       "\t15 & manner of death & Union\\{Missing, String\\} & 8373 \\\\\n",
       "\t16 & position held & Union\\{Missing, String\\} & 8377 \\\\\n",
       "\t17 & field of work & Union\\{Missing, String\\} & 6163 \\\\\n",
       "\t18 & award received & Union\\{Missing, String\\} & 6249 \\\\\n",
       "\t19 & Erdős number & Union\\{Missing, String\\} & 7122 \\\\\n",
       "\t20 & instance of & String &  \\\\\n",
       "\t21 & sex or gender & Union\\{Missing, String\\} & 28 \\\\\n",
       "\t22 & approx. date of birth & Bool &  \\\\\n",
       "\t23 & day of birth & Union\\{Missing, Int64\\} & 2826 \\\\\n",
       "\t24 & month of birth & Union\\{Missing, String\\} & 2791 \\\\\n",
       "\t25 & year of birth & Union\\{Missing, String\\} & 971 \\\\\n",
       "\t26 & approx. date of death & Bool &  \\\\\n",
       "\t27 & day of death & Union\\{Missing, Int64\\} & 4610 \\\\\n",
       "\t28 & month of death & Union\\{Missing, String\\} & 4570 \\\\\n",
       "\t29 & year of death & Union\\{Missing, String\\} & 3703 \\\\\n",
       "\\end{tabular}\n"
      ],
      "text/plain": [
       "29×3 DataFrame\n",
       "│ Row │ variable               │ eltype                 │ nmissing │\n",
       "│     │ \u001b[90mSymbol\u001b[39m                 │ \u001b[90mType\u001b[39m                   │ \u001b[90mUnion…\u001b[39m   │\n",
       "├─────┼────────────────────────┼────────────────────────┼──────────┤\n",
       "│ 1   │ mathematicians         │ String                 │          │\n",
       "│ 2   │ occupation             │ String                 │          │\n",
       "│ 3   │ country of citizenship │ Union{Missing, String} │ 1721     │\n",
       "│ 4   │ place of birth         │ Union{Missing, String} │ 3026     │\n",
       "│ 5   │ date of death          │ Union{Missing, String} │ 3702     │\n",
       "│ 6   │ educated at            │ Union{Missing, String} │ 3869     │\n",
       "│ 7   │ employer               │ Union{Missing, String} │ 5086     │\n",
       "│ 8   │ place of death         │ Union{Missing, String} │ 5436     │\n",
       "│ 9   │ member of              │ Union{Missing, String} │ 5505     │\n",
       "│ 10  │ employer_1             │ Union{Missing, String} │ 5086     │\n",
       "⋮\n",
       "│ 19  │ Erdős number           │ Union{Missing, String} │ 7122     │\n",
       "│ 20  │ instance of            │ String                 │          │\n",
       "│ 21  │ sex or gender          │ Union{Missing, String} │ 28       │\n",
       "│ 22  │ approx. date of birth  │ Bool                   │          │\n",
       "│ 23  │ day of birth           │ Union{Missing, Int64}  │ 2826     │\n",
       "│ 24  │ month of birth         │ Union{Missing, String} │ 2791     │\n",
       "│ 25  │ year of birth          │ Union{Missing, String} │ 971      │\n",
       "│ 26  │ approx. date of death  │ Bool                   │          │\n",
       "│ 27  │ day of death           │ Union{Missing, Int64}  │ 4610     │\n",
       "│ 28  │ month of death         │ Union{Missing, String} │ 4570     │\n",
       "│ 29  │ year of death          │ Union{Missing, String} │ 3703     │"
      ]
     },
     "execution_count": 74,
     "metadata": {},
     "output_type": "execute_result"
    }
   ],
   "source": [
    "data = CSV.read(\"../wikipedia-mathematicians/data_cleaned.csv\");\n",
    "describe(data)[[:variable, :eltype, :nmissing]]"
   ]
  },
  {
   "cell_type": "markdown",
   "metadata": {},
   "source": [
    "The above table shows the names of the variables (columns) in our dataset. It also displays the type of each variable and the amount of missing values. Before we start working with these variables, we will rename the columns so they are easier to handle:"
   ]
  },
  {
   "cell_type": "code",
   "execution_count": 68,
   "metadata": {},
   "outputs": [
    {
     "name": "stdout",
     "output_type": "stream",
     "text": [
      "names(data) = [\"mathematicians\", \"occupation\", \"citizenship\", \"birth_place\", \"death_date\", \"education\", \"employer\", \"death_place\", \"member\", \"employer_1\", \"doctoral_advisor\", \"languages\", \"academic_degree\", \"doctoral_student\", \"death_manner\", \"position\", \"field\", \"award\", \"erdos_number\", \"instance_of\", \"sex_or_gender\", \"approx_birth_date\", \"birth_day\", \"birth_month\", \"birth_year\", \"approx_death_date\", \"death_day\", \"death_month\", \"death_year\"]\n"
     ]
    }
   ],
   "source": [
    "newcols = [\"mathematicians\", \"occupation\", \"citizenship\", \"birth_place\", \"death_date\", \"education\", \"employer\", \n",
    "    \"death_place\", \"member\", \"employer_1\", \"doctoral_advisor\", \"languages\", \"academic_degree\", \"doctoral_student\", \n",
    "    \"death_manner\", \"position\", \"field\", \"award\", \"erdos_number\", \"instance_of\", \"sex_or_gender\", \"approx_birth_date\",\n",
    "    \"birth_day\", \"birth_month\", \"birth_year\", \"approx_death_date\", \"death_day\", \"death_month\", \"death_year\"]\n",
    "rename!(data, newcols)\n",
    "@show names(data);"
   ]
  },
  {
   "cell_type": "code",
   "execution_count": 69,
   "metadata": {},
   "outputs": [
    {
     "data": {
      "text/plain": [
       "8596"
      ]
     },
     "execution_count": 69,
     "metadata": {},
     "output_type": "execute_result"
    }
   ],
   "source": [
    "# Number of rows in our dataset:\n",
    "nrow(data)"
   ]
  },
  {
   "cell_type": "code",
   "execution_count": 70,
   "metadata": {},
   "outputs": [
    {
     "ename": "TypeError",
     "evalue": "TypeError: non-boolean (PooledArrays.PooledArray{Union{Missing, String},UInt32,1,Array{UInt32,1}}) used in boolean context",
     "output_type": "error",
     "traceback": [
      "TypeError: non-boolean (PooledArrays.PooledArray{Union{Missing, String},UInt32,1,Array{UInt32,1}}) used in boolean context",
      "",
      "Stacktrace:",
      " [1] count_gender(::DataFrame, ::String) at ./In[70]:3",
      " [2] top-level scope at In[70]:8"
     ]
    }
   ],
   "source": [
    "# Count how many mathematicians in our data are women\n",
    "function count_gender(data,gender::String)\n",
    "    if data[:,21] !is.missing\n",
    "        count = length(findall(!is.missing(data[:,21]) && data[:,21] .== gender))\n",
    "        return count\n",
    "    end\n",
    "end\n",
    "\n",
    "count_gender(data,\"['male']\")"
   ]
  },
  {
   "cell_type": "markdown",
   "metadata": {},
   "source": [
    "EXPLICAR QUÈ ÉS L'ERDÖS NUMBER"
   ]
  },
  {
   "cell_type": "code",
   "execution_count": 73,
   "metadata": {},
   "outputs": [
    {
     "ename": "ErrorException",
     "evalue": "Cannot convert String to series data for plotting",
     "output_type": "error",
     "traceback": [
      "Cannot convert String to series data for plotting",
      "",
      "Stacktrace:",
      " [1] error(::String) at ./error.jl:33",
      " [2] _prepare_series_data(::String) at /home/laura/.julia/packages/RecipesPipeline/tkFmN/src/series.jl:8",
      " [3] _series_data_vector(::String, ::Dict{Symbol,Any}) at /home/laura/.julia/packages/RecipesPipeline/tkFmN/src/series.jl:27",
      " [4] macro expansion at /home/laura/.julia/packages/RecipesPipeline/tkFmN/src/series.jl:138 [inlined]",
      " [5] apply_recipe(::Dict{Symbol,Any}, ::Type{RecipesPipeline.SliceIt}, ::String, ::PooledArrays.PooledArray{Union{Missing, String},UInt32,1,Array{UInt32,1}}, ::Nothing) at /home/laura/.julia/packages/RecipesBase/aQmWx/src/RecipesBase.jl:281",
      " [6] _process_userrecipes!(::Plots.Plot{Plots.GRBackend}, ::Dict{Symbol,Any}, ::Tuple{String,PooledArrays.PooledArray{Union{Missing, String},UInt32,1,Array{UInt32,1}}}) at /home/laura/.julia/packages/RecipesPipeline/tkFmN/src/user_recipe.jl:35",
      " [7] recipe_pipeline!(::Plots.Plot{Plots.GRBackend}, ::Dict{Symbol,Any}, ::Tuple{String,PooledArrays.PooledArray{Union{Missing, String},UInt32,1,Array{UInt32,1}}}) at /home/laura/.julia/packages/RecipesPipeline/tkFmN/src/RecipesPipeline.jl:69",
      " [8] _plot!(::Plots.Plot{Plots.GRBackend}, ::Dict{Symbol,Any}, ::Tuple{String,PooledArrays.PooledArray{Union{Missing, String},UInt32,1,Array{UInt32,1}}}) at /home/laura/.julia/packages/Plots/fewot/src/plot.jl:167",
      " [9] plot(::String, ::Vararg{Any,N} where N; kw::Base.Iterators.Pairs{Symbol,Any,NTuple{4,Symbol},NamedTuple{(:legend, :size, :whisker_width, :seriestype),Tuple{Bool,Tuple{Int64,Int64},Int64,Symbol}}}) at /home/laura/.julia/packages/Plots/fewot/src/plot.jl:57",
      " [10] boxplot(::String, ::Vararg{Any,N} where N; kw::Base.Iterators.Pairs{Symbol,Any,Tuple{Symbol,Symbol,Symbol},NamedTuple{(:legend, :size, :whisker_width),Tuple{Bool,Tuple{Int64,Int64},Int64}}}) at /home/laura/.julia/packages/RecipesBase/aQmWx/src/RecipesBase.jl:402",
      " [11] top-level scope at In[73]:1"
     ]
    }
   ],
   "source": [
    "#boxplot(\"Erdős number\", data[!,:erdos_number], legend=false, size=(200,400), whisker_width=1)"
   ]
  },
  {
   "cell_type": "code",
   "execution_count": null,
   "metadata": {},
   "outputs": [],
   "source": []
  }
 ],
 "metadata": {
  "kernelspec": {
   "display_name": "Julia 1.4.1",
   "language": "julia",
   "name": "julia-1.4"
  },
  "language_info": {
   "file_extension": ".jl",
   "mimetype": "application/julia",
   "name": "julia",
   "version": "1.4.1"
  }
 },
 "nbformat": 4,
 "nbformat_minor": 4
}
