{
 "cells": [
  {
   "cell_type": "markdown",
   "metadata": {},
   "source": [
    "# Mathematicians of Wikipedia"
   ]
  },
  {
   "cell_type": "markdown",
   "metadata": {},
   "source": [
    "This project analyzes a dataset of more than 8,500 famous mathematicians."
   ]
  },
  {
   "cell_type": "markdown",
   "metadata": {},
   "source": [
    "## Table of Contents\n",
    "- [Importing Dataset and Libraries](#import)\n",
    "- [Exploratory Data Analysis](#exploration)"
   ]
  },
  {
   "cell_type": "markdown",
   "metadata": {},
   "source": [
    "## Importing Dataset and Libraries <a name=\"importing\"></a>"
   ]
  },
  {
   "cell_type": "code",
   "execution_count": 143,
   "metadata": {},
   "outputs": [],
   "source": [
    "using Suppressor #buscar alternativa que funcioni\n",
    "using CSV\n",
    "using DataFrames\n",
    "using StatsPlots"
   ]
  },
  {
   "cell_type": "code",
   "execution_count": 144,
   "metadata": {},
   "outputs": [],
   "source": [
    "data = CSV.read(\"../wikipedia-mathematicians/data_cleaned.csv\");"
   ]
  },
  {
   "cell_type": "markdown",
   "metadata": {},
   "source": [
    "## Exploratory Data Analysis <a name=\"exploration\"></a>"
   ]
  },
  {
   "cell_type": "code",
   "execution_count": 145,
   "metadata": {},
   "outputs": [
    {
     "name": "stderr",
     "output_type": "stream",
     "text": [
      "┌ Warning: `getindex(df::DataFrame, col_inds::Union{AbstractVector, Regex, Not})` is deprecated, use `df[:, col_inds]` instead.\n",
      "│   caller = top-level scope at In[145]:1\n",
      "└ @ Core In[145]:1\n"
     ]
    },
    {
     "data": {
      "text/html": [
       "<table class=\"data-frame\"><thead><tr><th></th><th>variable</th><th>eltype</th><th>nmissing</th></tr><tr><th></th><th>Symbol</th><th>Type</th><th>Union…</th></tr></thead><tbody><p>29 rows × 3 columns</p><tr><th>1</th><td>mathematicians</td><td>String</td><td></td></tr><tr><th>2</th><td>occupation</td><td>String</td><td></td></tr><tr><th>3</th><td>country of citizenship</td><td>Union{Missing, String}</td><td>1721</td></tr><tr><th>4</th><td>place of birth</td><td>Union{Missing, String}</td><td>3026</td></tr><tr><th>5</th><td>date of death</td><td>Union{Missing, String}</td><td>3702</td></tr><tr><th>6</th><td>educated at</td><td>Union{Missing, String}</td><td>3869</td></tr><tr><th>7</th><td>employer</td><td>Union{Missing, String}</td><td>5086</td></tr><tr><th>8</th><td>place of death</td><td>Union{Missing, String}</td><td>5436</td></tr><tr><th>9</th><td>member of</td><td>Union{Missing, String}</td><td>5505</td></tr><tr><th>10</th><td>employer_1</td><td>Union{Missing, String}</td><td>5086</td></tr><tr><th>11</th><td>doctoral advisor</td><td>Union{Missing, String}</td><td>6145</td></tr><tr><th>12</th><td>languages spoken, written or signed</td><td>Union{Missing, String}</td><td>6269</td></tr><tr><th>13</th><td>academic degree</td><td>Union{Missing, String}</td><td>8097</td></tr><tr><th>14</th><td>doctoral student</td><td>Union{Missing, String}</td><td>8292</td></tr><tr><th>15</th><td>manner of death</td><td>Union{Missing, String}</td><td>8373</td></tr><tr><th>16</th><td>position held</td><td>Union{Missing, String}</td><td>8377</td></tr><tr><th>17</th><td>field of work</td><td>Union{Missing, String}</td><td>6163</td></tr><tr><th>18</th><td>award received</td><td>Union{Missing, String}</td><td>6249</td></tr><tr><th>19</th><td>Erdős number</td><td>Union{Missing, String}</td><td>7122</td></tr><tr><th>20</th><td>instance of</td><td>String</td><td></td></tr><tr><th>21</th><td>sex or gender</td><td>Union{Missing, String}</td><td>28</td></tr><tr><th>22</th><td>approx. date of birth</td><td>Bool</td><td></td></tr><tr><th>23</th><td>day of birth</td><td>Union{Missing, Int64}</td><td>2826</td></tr><tr><th>24</th><td>month of birth</td><td>Union{Missing, String}</td><td>2791</td></tr><tr><th>25</th><td>year of birth</td><td>Union{Missing, String}</td><td>971</td></tr><tr><th>26</th><td>approx. date of death</td><td>Bool</td><td></td></tr><tr><th>27</th><td>day of death</td><td>Union{Missing, Int64}</td><td>4610</td></tr><tr><th>28</th><td>month of death</td><td>Union{Missing, String}</td><td>4570</td></tr><tr><th>29</th><td>year of death</td><td>Union{Missing, String}</td><td>3703</td></tr></tbody></table>"
      ],
      "text/latex": [
       "\\begin{tabular}{r|ccc}\n",
       "\t& variable & eltype & nmissing\\\\\n",
       "\t\\hline\n",
       "\t& Symbol & Type & Union…\\\\\n",
       "\t\\hline\n",
       "\t1 & mathematicians & String &  \\\\\n",
       "\t2 & occupation & String &  \\\\\n",
       "\t3 & country of citizenship & Union\\{Missing, String\\} & 1721 \\\\\n",
       "\t4 & place of birth & Union\\{Missing, String\\} & 3026 \\\\\n",
       "\t5 & date of death & Union\\{Missing, String\\} & 3702 \\\\\n",
       "\t6 & educated at & Union\\{Missing, String\\} & 3869 \\\\\n",
       "\t7 & employer & Union\\{Missing, String\\} & 5086 \\\\\n",
       "\t8 & place of death & Union\\{Missing, String\\} & 5436 \\\\\n",
       "\t9 & member of & Union\\{Missing, String\\} & 5505 \\\\\n",
       "\t10 & employer\\_1 & Union\\{Missing, String\\} & 5086 \\\\\n",
       "\t11 & doctoral advisor & Union\\{Missing, String\\} & 6145 \\\\\n",
       "\t12 & languages spoken, written or signed & Union\\{Missing, String\\} & 6269 \\\\\n",
       "\t13 & academic degree & Union\\{Missing, String\\} & 8097 \\\\\n",
       "\t14 & doctoral student & Union\\{Missing, String\\} & 8292 \\\\\n",
       "\t15 & manner of death & Union\\{Missing, String\\} & 8373 \\\\\n",
       "\t16 & position held & Union\\{Missing, String\\} & 8377 \\\\\n",
       "\t17 & field of work & Union\\{Missing, String\\} & 6163 \\\\\n",
       "\t18 & award received & Union\\{Missing, String\\} & 6249 \\\\\n",
       "\t19 & Erdős number & Union\\{Missing, String\\} & 7122 \\\\\n",
       "\t20 & instance of & String &  \\\\\n",
       "\t21 & sex or gender & Union\\{Missing, String\\} & 28 \\\\\n",
       "\t22 & approx. date of birth & Bool &  \\\\\n",
       "\t23 & day of birth & Union\\{Missing, Int64\\} & 2826 \\\\\n",
       "\t24 & month of birth & Union\\{Missing, String\\} & 2791 \\\\\n",
       "\t25 & year of birth & Union\\{Missing, String\\} & 971 \\\\\n",
       "\t26 & approx. date of death & Bool &  \\\\\n",
       "\t27 & day of death & Union\\{Missing, Int64\\} & 4610 \\\\\n",
       "\t28 & month of death & Union\\{Missing, String\\} & 4570 \\\\\n",
       "\t29 & year of death & Union\\{Missing, String\\} & 3703 \\\\\n",
       "\\end{tabular}\n"
      ],
      "text/plain": [
       "29×3 DataFrame\n",
       "│ Row │ variable               │ eltype                 │ nmissing │\n",
       "│     │ \u001b[90mSymbol\u001b[39m                 │ \u001b[90mType\u001b[39m                   │ \u001b[90mUnion…\u001b[39m   │\n",
       "├─────┼────────────────────────┼────────────────────────┼──────────┤\n",
       "│ 1   │ mathematicians         │ String                 │          │\n",
       "│ 2   │ occupation             │ String                 │          │\n",
       "│ 3   │ country of citizenship │ Union{Missing, String} │ 1721     │\n",
       "│ 4   │ place of birth         │ Union{Missing, String} │ 3026     │\n",
       "│ 5   │ date of death          │ Union{Missing, String} │ 3702     │\n",
       "│ 6   │ educated at            │ Union{Missing, String} │ 3869     │\n",
       "│ 7   │ employer               │ Union{Missing, String} │ 5086     │\n",
       "│ 8   │ place of death         │ Union{Missing, String} │ 5436     │\n",
       "│ 9   │ member of              │ Union{Missing, String} │ 5505     │\n",
       "│ 10  │ employer_1             │ Union{Missing, String} │ 5086     │\n",
       "⋮\n",
       "│ 19  │ Erdős number           │ Union{Missing, String} │ 7122     │\n",
       "│ 20  │ instance of            │ String                 │          │\n",
       "│ 21  │ sex or gender          │ Union{Missing, String} │ 28       │\n",
       "│ 22  │ approx. date of birth  │ Bool                   │          │\n",
       "│ 23  │ day of birth           │ Union{Missing, Int64}  │ 2826     │\n",
       "│ 24  │ month of birth         │ Union{Missing, String} │ 2791     │\n",
       "│ 25  │ year of birth          │ Union{Missing, String} │ 971      │\n",
       "│ 26  │ approx. date of death  │ Bool                   │          │\n",
       "│ 27  │ day of death           │ Union{Missing, Int64}  │ 4610     │\n",
       "│ 28  │ month of death         │ Union{Missing, String} │ 4570     │\n",
       "│ 29  │ year of death          │ Union{Missing, String} │ 3703     │"
      ]
     },
     "execution_count": 145,
     "metadata": {},
     "output_type": "execute_result"
    }
   ],
   "source": [
    "describe(data)[[:variable, :eltype, :nmissing]]"
   ]
  },
  {
   "cell_type": "markdown",
   "metadata": {},
   "source": [
    "The above table shows the names of the variables (columns) in our dataset. It also displays the type of each variable and the amount of missing values. Before we start working with these variables, we will rename the columns so they are easier to handle:"
   ]
  },
  {
   "cell_type": "code",
   "execution_count": 146,
   "metadata": {},
   "outputs": [
    {
     "name": "stdout",
     "output_type": "stream",
     "text": [
      "names(data) = [\"mathematicians\", \"occupation\", \"citizenship\", \"birth_place\", \"death_date\", \"education\", \"employer\", \"death_place\", \"member\", \"employer_1\", \"doctoral_advisor\", \"languages\", \"academic_degree\", \"doctoral_student\", \"death_manner\", \"position\", \"field\", \"award\", \"erdos_number\", \"instance_of\", \"sex_or_gender\", \"approx_birth_date\", \"birth_day\", \"birth_month\", \"birth_year\", \"approx_death_date\", \"death_day\", \"death_month\", \"death_year\"]\n"
     ]
    }
   ],
   "source": [
    "newcols = [\"mathematicians\", \"occupation\", \"citizenship\", \"birth_place\", \"death_date\", \"education\", \"employer\", \n",
    "    \"death_place\", \"member\", \"employer_1\", \"doctoral_advisor\", \"languages\", \"academic_degree\", \"doctoral_student\", \n",
    "    \"death_manner\", \"position\", \"field\", \"award\", \"erdos_number\", \"instance_of\", \"sex_or_gender\", \"approx_birth_date\",\n",
    "    \"birth_day\", \"birth_month\", \"birth_year\", \"approx_death_date\", \"death_day\", \"death_month\", \"death_year\"]\n",
    "rename!(data, newcols)\n",
    "@show names(data);"
   ]
  },
  {
   "cell_type": "code",
   "execution_count": 147,
   "metadata": {},
   "outputs": [
    {
     "data": {
      "text/plain": [
       "8596"
      ]
     },
     "execution_count": 147,
     "metadata": {},
     "output_type": "execute_result"
    }
   ],
   "source": [
    "# Number of rows in our dataset:\n",
    "nrow(data)"
   ]
  },
  {
   "cell_type": "markdown",
   "metadata": {},
   "source": [
    "We will need to check if there are any missing values in some columns:"
   ]
  },
  {
   "cell_type": "code",
   "execution_count": 148,
   "metadata": {},
   "outputs": [],
   "source": [
    "function missing_values(col)\n",
    "    if (ismissing.(data[:, col]) == 1) == true\n",
    "        println(\"Column number $col has missing values\")\n",
    "    end\n",
    "end\n",
    "\n",
    "for i in 1:29\n",
    "    missing_values(i)\n",
    "end\n",
    "\n",
    "# TODO"
   ]
  },
  {
   "cell_type": "markdown",
   "metadata": {},
   "source": [
    "One interesting thing to measure is the proportion of women with respect to men:"
   ]
  },
  {
   "cell_type": "code",
   "execution_count": 149,
   "metadata": {},
   "outputs": [
    {
     "name": "stdout",
     "output_type": "stream",
     "text": [
      "There are 7774 men and 787 women in our dataset. In 35 cases, gender is not specified.\n"
     ]
    }
   ],
   "source": [
    "function count_gender(data, gender::String)\n",
    "        count = length(findall(skipmissing(data[:,21] .== gender)))\n",
    "        return count\n",
    "end\n",
    "\n",
    "male = count_gender(data,\"['male']\")\n",
    "female = count_gender(data, \"['female']\")\n",
    "\n",
    "println(\"There are $male men and $female women in our dataset. In $(nrow(data)-male-female) cases, gender is not specified.\")"
   ]
  },
  {
   "cell_type": "code",
   "execution_count": 150,
   "metadata": {},
   "outputs": [
    {
     "name": "stdout",
     "output_type": "stream",
     "text": [
      "Only 0.092% of mathematicians from whom we have data are women, the remaining 0.908% are men.\n"
     ]
    }
   ],
   "source": [
    "prop_w = round((female/(male+female)); digits=3)\n",
    "prop_m = round((male/(male+female)); digits=3)\n",
    "\n",
    "println(\"Only $prop_w% of mathematicians from whom we have data are women, the remaining $prop_m% are men.\")"
   ]
  },
  {
   "cell_type": "markdown",
   "metadata": {},
   "source": [
    "The **Erdős number** is the *collaborative distance* between a given person and the famous mathematician Paul Erdős. This distance is measured in terms of authorship of mathematical papers. \n",
    "\n",
    "We now analyze the Erdős numbers corresponding to the different mathematicians in our dataset:"
   ]
  },
  {
   "cell_type": "code",
   "execution_count": 151,
   "metadata": {},
   "outputs": [],
   "source": [
    "# TODO"
   ]
  },
  {
   "cell_type": "markdown",
   "metadata": {},
   "source": [
    "The variable named \"instance of\" shows fun or curious occurrences in the life of these mathematicians. Let's explore this column:"
   ]
  },
  {
   "cell_type": "code",
   "execution_count": 161,
   "metadata": {},
   "outputs": [
    {
     "name": "stdout",
     "output_type": "stream",
     "text": [
      "['human', 'Russian Wikipedia']\n",
      "['human', 'twin']\n",
      "['Q5']\n",
      "['human', 'twin']\n",
      "['Q5']\n",
      "['Q5']\n",
      "['twin', 'human']\n",
      "['Q5']\n",
      "['human', 'English Wikipedia']\n",
      "['Q5']\n",
      "['Q5']\n",
      "['human', 'Russian Wikipedia']\n",
      "['human', 'data.bnf.fr', '10 October 2015', 'http://data.bnf.fr/ark:/12148/cb119176085']\n",
      "['human', 'Russian Wikipedia', 'data.bnf.fr', '10 October 2015', 'http://data.bnf.fr/ark:/12148/cb118976048']\n",
      "['Q5']\n",
      "['Q5']\n",
      "['Q5']\n",
      "['Q5']\n",
      "['Q5']\n",
      "['eunuch', 'human']\n",
      "['Q5']\n",
      "['human', 'male']\n",
      "['Q5']\n",
      "['human', 'twin']\n",
      "['Q5']\n",
      "['human', 'Russian Wikipedia']\n",
      "['human', 'emeritus']\n",
      "['Q5']\n"
     ]
    }
   ],
   "source": [
    "for i in 1:nrow(data)\n",
    "    if (data[i, \"instance_of\"] != \"['human']\") \n",
    "        println(data[i, \"instance_of\"]);\n",
    "    end\n",
    "end"
   ]
  },
  {
   "cell_type": "markdown",
   "metadata": {},
   "source": [
    "The most interesting cases from the ones displayed above are the cases where the mathematician in question had a twin sibling or was castrated:"
   ]
  },
  {
   "cell_type": "code",
   "execution_count": 183,
   "metadata": {},
   "outputs": [
    {
     "name": "stdout",
     "output_type": "stream",
     "text": [
      "Leon O. Chua had a twin sibling\n",
      "Carl Gustav Axel Harnack had a twin sibling\n",
      "Nathan D'Laryea had a twin sibling\n",
      "Jia Xian was castrated!\n",
      "Milutin Milanković had a twin sibling\n"
     ]
    }
   ],
   "source": [
    "for i in 1:nrow(data)\n",
    "    if(data[i, \"instance_of\"] == \"['human', 'twin']\" || data[i, \"instance_of\"] == \"['twin', 'human']\")\n",
    "        println(\"$(data[i, \"mathematicians\"]) had a twin sibling\")\n",
    "    end\n",
    "    if(data[i, \"instance_of\"] == \"['eunuch', 'human']\")\n",
    "        println(\"$(data[i, \"mathematicians\"]) was castrated!\")\n",
    "    end\n",
    "end"
   ]
  }
 ],
 "metadata": {
  "kernelspec": {
   "display_name": "Julia 1.4.1",
   "language": "julia",
   "name": "julia-1.4"
  },
  "language_info": {
   "file_extension": ".jl",
   "mimetype": "application/julia",
   "name": "julia",
   "version": "1.4.1"
  }
 },
 "nbformat": 4,
 "nbformat_minor": 4
}
