{
 "cells": [
  {
   "cell_type": "markdown",
   "metadata": {},
   "source": [
    "# US Breweries Analysis"
   ]
  },
  {
   "cell_type": "markdown",
   "metadata": {},
   "source": [
    "This project analyzes the geographical location and the different types of breweries in the United States."
   ]
  },
  {
   "cell_type": "code",
   "execution_count": 1,
   "metadata": {},
   "outputs": [],
   "source": [
    "import pandas as pd\n",
    "import numpy as np\n",
    "import seaborn as sns\n",
    "import matplotlib.pyplot as plt"
   ]
  },
  {
   "cell_type": "code",
   "execution_count": 2,
   "metadata": {
    "scrolled": true
   },
   "outputs": [
    {
     "data": {
      "text/html": [
       "<div>\n",
       "<style scoped>\n",
       "    .dataframe tbody tr th:only-of-type {\n",
       "        vertical-align: middle;\n",
       "    }\n",
       "\n",
       "    .dataframe tbody tr th {\n",
       "        vertical-align: top;\n",
       "    }\n",
       "\n",
       "    .dataframe thead th {\n",
       "        text-align: right;\n",
       "    }\n",
       "</style>\n",
       "<table border=\"1\" class=\"dataframe\">\n",
       "  <thead>\n",
       "    <tr style=\"text-align: right;\">\n",
       "      <th></th>\n",
       "      <th>brewery_name</th>\n",
       "      <th>type</th>\n",
       "      <th>address</th>\n",
       "      <th>website</th>\n",
       "      <th>state</th>\n",
       "      <th>state_breweries</th>\n",
       "    </tr>\n",
       "  </thead>\n",
       "  <tbody>\n",
       "    <tr>\n",
       "      <th>0</th>\n",
       "      <td>Valley Brewing Co.</td>\n",
       "      <td>Brewpub</td>\n",
       "      <td>PO Box 4653, Stockton, California, 95204</td>\n",
       "      <td>http://www.valleybrew.com/</td>\n",
       "      <td>california</td>\n",
       "      <td>284</td>\n",
       "    </tr>\n",
       "    <tr>\n",
       "      <th>1</th>\n",
       "      <td>Valley Brewing Co.</td>\n",
       "      <td>Brewpub</td>\n",
       "      <td>157 Adams St., Stockton, California, 95204</td>\n",
       "      <td>http://www.valleybrew.com/</td>\n",
       "      <td>california</td>\n",
       "      <td>284</td>\n",
       "    </tr>\n",
       "    <tr>\n",
       "      <th>2</th>\n",
       "      <td>Valley Brewing Co</td>\n",
       "      <td>Microbrewery</td>\n",
       "      <td>1950 W Freemont, Stockton, California, 95203</td>\n",
       "      <td>http://www.valleybrew.com/</td>\n",
       "      <td>california</td>\n",
       "      <td>284</td>\n",
       "    </tr>\n",
       "    <tr>\n",
       "      <th>3</th>\n",
       "      <td>Ukiah Brewing Company</td>\n",
       "      <td>Brewpub</td>\n",
       "      <td>102 S. State St., Ukiah, California, 95482</td>\n",
       "      <td>http://www.ukiahbrewingco.com/</td>\n",
       "      <td>california</td>\n",
       "      <td>284</td>\n",
       "    </tr>\n",
       "    <tr>\n",
       "      <th>4</th>\n",
       "      <td>Tustin Brewing Co.</td>\n",
       "      <td>Brewpub</td>\n",
       "      <td>13011 Newport Ave. #100, Tustin, California, 9...</td>\n",
       "      <td>http://www.tustinbrewery.com/</td>\n",
       "      <td>california</td>\n",
       "      <td>284</td>\n",
       "    </tr>\n",
       "    <tr>\n",
       "      <th>...</th>\n",
       "      <td>...</td>\n",
       "      <td>...</td>\n",
       "      <td>...</td>\n",
       "      <td>...</td>\n",
       "      <td>...</td>\n",
       "      <td>...</td>\n",
       "    </tr>\n",
       "    <tr>\n",
       "      <th>2402</th>\n",
       "      <td>Capitol City Brewing Company (Capitol Hill)</td>\n",
       "      <td>Brewpub</td>\n",
       "      <td>2 Massachusetts Ave., Washington, DC, Washingt...</td>\n",
       "      <td>http://www.capcitybrew.com/</td>\n",
       "      <td>washington-dc</td>\n",
       "      <td>9</td>\n",
       "    </tr>\n",
       "    <tr>\n",
       "      <th>2403</th>\n",
       "      <td>Capitol City Brewing Company</td>\n",
       "      <td>Brewpub</td>\n",
       "      <td>1100 New York Ave. NW, Washington, DC, Washing...</td>\n",
       "      <td>http://www.capcitybrew.com/</td>\n",
       "      <td>washington-dc</td>\n",
       "      <td>9</td>\n",
       "    </tr>\n",
       "    <tr>\n",
       "      <th>2404</th>\n",
       "      <td>Old Harbor Brewery</td>\n",
       "      <td>Brewpub</td>\n",
       "      <td>Gen del Valle 1021 Urb Delicias, San Juan, PR,...</td>\n",
       "      <td>http://oldharborbrewery.com/</td>\n",
       "      <td>puerto-rico</td>\n",
       "      <td>3</td>\n",
       "    </tr>\n",
       "    <tr>\n",
       "      <th>2405</th>\n",
       "      <td>Isla Verde Brewing Co.</td>\n",
       "      <td>Microbrewery</td>\n",
       "      <td>Condiminum Torrimar Plaza # 14B, Guaynabo , PR...</td>\n",
       "      <td>...</td>\n",
       "      <td>puerto-rico</td>\n",
       "      <td>3</td>\n",
       "    </tr>\n",
       "    <tr>\n",
       "      <th>2406</th>\n",
       "      <td>Cerveceria India Inc</td>\n",
       "      <td>RegionalBrewery</td>\n",
       "      <td>PO Box 1690, Mayaguez, PR, 681</td>\n",
       "      <td>...</td>\n",
       "      <td>puerto-rico</td>\n",
       "      <td>3</td>\n",
       "    </tr>\n",
       "  </tbody>\n",
       "</table>\n",
       "<p>2407 rows × 6 columns</p>\n",
       "</div>"
      ],
      "text/plain": [
       "                                     brewery_name             type  \\\n",
       "0                              Valley Brewing Co.          Brewpub   \n",
       "1                              Valley Brewing Co.          Brewpub   \n",
       "2                               Valley Brewing Co     Microbrewery   \n",
       "3                           Ukiah Brewing Company          Brewpub   \n",
       "4                              Tustin Brewing Co.          Brewpub   \n",
       "...                                           ...              ...   \n",
       "2402  Capitol City Brewing Company (Capitol Hill)          Brewpub   \n",
       "2403                 Capitol City Brewing Company          Brewpub   \n",
       "2404                           Old Harbor Brewery          Brewpub   \n",
       "2405                       Isla Verde Brewing Co.     Microbrewery   \n",
       "2406                         Cerveceria India Inc  RegionalBrewery   \n",
       "\n",
       "                                                address  \\\n",
       "0              PO Box 4653, Stockton, California, 95204   \n",
       "1            157 Adams St., Stockton, California, 95204   \n",
       "2          1950 W Freemont, Stockton, California, 95203   \n",
       "3            102 S. State St., Ukiah, California, 95482   \n",
       "4     13011 Newport Ave. #100, Tustin, California, 9...   \n",
       "...                                                 ...   \n",
       "2402  2 Massachusetts Ave., Washington, DC, Washingt...   \n",
       "2403  1100 New York Ave. NW, Washington, DC, Washing...   \n",
       "2404  Gen del Valle 1021 Urb Delicias, San Juan, PR,...   \n",
       "2405  Condiminum Torrimar Plaza # 14B, Guaynabo , PR...   \n",
       "2406                     PO Box 1690, Mayaguez, PR, 681   \n",
       "\n",
       "                                                website          state  \\\n",
       "0                            http://www.valleybrew.com/     california   \n",
       "1                            http://www.valleybrew.com/     california   \n",
       "2                            http://www.valleybrew.com/     california   \n",
       "3                        http://www.ukiahbrewingco.com/     california   \n",
       "4                         http://www.tustinbrewery.com/     california   \n",
       "...                                                 ...            ...   \n",
       "2402                        http://www.capcitybrew.com/  washington-dc   \n",
       "2403                        http://www.capcitybrew.com/  washington-dc   \n",
       "2404                       http://oldharborbrewery.com/    puerto-rico   \n",
       "2405                                                ...    puerto-rico   \n",
       "2406                                                ...    puerto-rico   \n",
       "\n",
       "      state_breweries  \n",
       "0                 284  \n",
       "1                 284  \n",
       "2                 284  \n",
       "3                 284  \n",
       "4                 284  \n",
       "...               ...  \n",
       "2402                9  \n",
       "2403                9  \n",
       "2404                3  \n",
       "2405                3  \n",
       "2406                3  \n",
       "\n",
       "[2407 rows x 6 columns]"
      ]
     },
     "execution_count": 2,
     "metadata": {},
     "output_type": "execute_result"
    }
   ],
   "source": [
    "data = pd.read_csv('../us-breweries/datasets_367098_716040_breweries_us.csv')\n",
    "data"
   ]
  },
  {
   "cell_type": "code",
   "execution_count": 3,
   "metadata": {},
   "outputs": [
    {
     "data": {
      "text/plain": [
       "(2407, 6)"
      ]
     },
     "execution_count": 3,
     "metadata": {},
     "output_type": "execute_result"
    }
   ],
   "source": [
    "data.shape"
   ]
  },
  {
   "cell_type": "markdown",
   "metadata": {},
   "source": [
    "## Data Exploration"
   ]
  },
  {
   "cell_type": "code",
   "execution_count": 4,
   "metadata": {},
   "outputs": [
    {
     "data": {
      "text/plain": [
       "Index(['brewery_name', 'type', 'address', 'website', 'state',\n",
       "       'state_breweries'],\n",
       "      dtype='object')"
      ]
     },
     "execution_count": 4,
     "metadata": {},
     "output_type": "execute_result"
    }
   ],
   "source": [
    "data.columns"
   ]
  },
  {
   "cell_type": "code",
   "execution_count": 5,
   "metadata": {
    "scrolled": true
   },
   "outputs": [
    {
     "data": {
      "text/plain": [
       "['BOP-BrewOnPremise',\n",
       " 'BOP-BrewOnPremise-Closed',\n",
       " 'Brewpub',\n",
       " 'Brewpub-Closed',\n",
       " 'Contract',\n",
       " 'ContractBrewery',\n",
       " 'ContractBrewery-Closed',\n",
       " 'Microbrewery',\n",
       " 'Microbrewery-Closed',\n",
       " 'Mircobrewery',\n",
       " 'MultitapBar',\n",
       " 'RegionalBrewery']"
      ]
     },
     "execution_count": 5,
     "metadata": {},
     "output_type": "execute_result"
    }
   ],
   "source": [
    "labels = data['type'].astype('category').cat.categories.tolist()\n",
    "labels"
   ]
  },
  {
   "cell_type": "markdown",
   "metadata": {},
   "source": [
    "The above list shows the different types of breweries that exist in the US. We will correct the typo existing in 'Mircobrewery' and merge the categories 'Contract' and 'ContractBrewery'. Moreover, we will ignore the breweries that are closed at the moment. Hence, we need to subset our data to work with the breweries that are currently active."
   ]
  },
  {
   "cell_type": "code",
   "execution_count": 6,
   "metadata": {},
   "outputs": [],
   "source": [
    "data['type']= data['type'].str.replace('Mircobrewery', 'Microbrewery', case = False) "
   ]
  },
  {
   "cell_type": "code",
   "execution_count": 7,
   "metadata": {},
   "outputs": [
    {
     "data": {
      "text/html": [
       "<div>\n",
       "<style scoped>\n",
       "    .dataframe tbody tr th:only-of-type {\n",
       "        vertical-align: middle;\n",
       "    }\n",
       "\n",
       "    .dataframe tbody tr th {\n",
       "        vertical-align: top;\n",
       "    }\n",
       "\n",
       "    .dataframe thead th {\n",
       "        text-align: right;\n",
       "    }\n",
       "</style>\n",
       "<table border=\"1\" class=\"dataframe\">\n",
       "  <thead>\n",
       "    <tr style=\"text-align: right;\">\n",
       "      <th></th>\n",
       "      <th>brewery_name</th>\n",
       "      <th>type</th>\n",
       "      <th>address</th>\n",
       "      <th>website</th>\n",
       "      <th>state</th>\n",
       "      <th>state_breweries</th>\n",
       "    </tr>\n",
       "  </thead>\n",
       "  <tbody>\n",
       "    <tr>\n",
       "      <th>315</th>\n",
       "      <td>Back Forty Beer Co</td>\n",
       "      <td>Contract</td>\n",
       "      <td>200 N. 6th St., Gadsden, Alabama, 35901</td>\n",
       "      <td>http://backfortybeer.com/</td>\n",
       "      <td>alabama</td>\n",
       "      <td>6</td>\n",
       "    </tr>\n",
       "    <tr>\n",
       "      <th>503</th>\n",
       "      <td>New Planet Beer Co</td>\n",
       "      <td>Contract</td>\n",
       "      <td>P.O. Box 116 / 3980 Broadway Suites 103-116, B...</td>\n",
       "      <td>http://www.newplanetbeer.net/</td>\n",
       "      <td>colorado</td>\n",
       "      <td>182</td>\n",
       "    </tr>\n",
       "    <tr>\n",
       "      <th>863</th>\n",
       "      <td>Galena Beer Co</td>\n",
       "      <td>Contract</td>\n",
       "      <td>404 S Dodge St, Galena, Illinois, ???</td>\n",
       "      <td>NaN</td>\n",
       "      <td>illinois</td>\n",
       "      <td>74</td>\n",
       "    </tr>\n",
       "    <tr>\n",
       "      <th>1330</th>\n",
       "      <td>Hometown Beverages</td>\n",
       "      <td>Contract</td>\n",
       "      <td>23 Taylor Ave, Manasquan, New Jersey, 8857</td>\n",
       "      <td>...</td>\n",
       "      <td>new-jersey</td>\n",
       "      <td>41</td>\n",
       "    </tr>\n",
       "    <tr>\n",
       "      <th>1820</th>\n",
       "      <td>Pennsylvania Brewing Company</td>\n",
       "      <td>Contract</td>\n",
       "      <td>800 Vinial St., Pittsburgh, Pennsylvania, 15212</td>\n",
       "      <td>http://www.pennbrew.com/</td>\n",
       "      <td>pennsylvania</td>\n",
       "      <td>107</td>\n",
       "    </tr>\n",
       "    <tr>\n",
       "      <th>1848</th>\n",
       "      <td>Iron City Brewing Co.</td>\n",
       "      <td>Contract</td>\n",
       "      <td>3340 Liberty Ave., Pittsburgh, Pennsylvania, 1...</td>\n",
       "      <td>http://pittsburghbrewing.com/</td>\n",
       "      <td>pennsylvania</td>\n",
       "      <td>107</td>\n",
       "    </tr>\n",
       "    <tr>\n",
       "      <th>1849</th>\n",
       "      <td>Intercourse Brewing Co</td>\n",
       "      <td>Contract</td>\n",
       "      <td>4166 Ironbridge Drive, Creamery, Pennsylvania,...</td>\n",
       "      <td>www.intercoursebrewingcompany.com</td>\n",
       "      <td>pennsylvania</td>\n",
       "      <td>107</td>\n",
       "    </tr>\n",
       "  </tbody>\n",
       "</table>\n",
       "</div>"
      ],
      "text/plain": [
       "                      brewery_name      type  \\\n",
       "315             Back Forty Beer Co  Contract   \n",
       "503             New Planet Beer Co  Contract   \n",
       "863                 Galena Beer Co  Contract   \n",
       "1330            Hometown Beverages  Contract   \n",
       "1820  Pennsylvania Brewing Company  Contract   \n",
       "1848         Iron City Brewing Co.  Contract   \n",
       "1849        Intercourse Brewing Co  Contract   \n",
       "\n",
       "                                                address  \\\n",
       "315             200 N. 6th St., Gadsden, Alabama, 35901   \n",
       "503   P.O. Box 116 / 3980 Broadway Suites 103-116, B...   \n",
       "863               404 S Dodge St, Galena, Illinois, ???   \n",
       "1330         23 Taylor Ave, Manasquan, New Jersey, 8857   \n",
       "1820    800 Vinial St., Pittsburgh, Pennsylvania, 15212   \n",
       "1848  3340 Liberty Ave., Pittsburgh, Pennsylvania, 1...   \n",
       "1849  4166 Ironbridge Drive, Creamery, Pennsylvania,...   \n",
       "\n",
       "                                                website         state  \\\n",
       "315                           http://backfortybeer.com/       alabama   \n",
       "503                       http://www.newplanetbeer.net/      colorado   \n",
       "863                                                 NaN      illinois   \n",
       "1330                                                ...    new-jersey   \n",
       "1820                           http://www.pennbrew.com/  pennsylvania   \n",
       "1848                      http://pittsburghbrewing.com/  pennsylvania   \n",
       "1849                  www.intercoursebrewingcompany.com  pennsylvania   \n",
       "\n",
       "      state_breweries  \n",
       "315                 6  \n",
       "503               182  \n",
       "863                74  \n",
       "1330               41  \n",
       "1820              107  \n",
       "1848              107  \n",
       "1849              107  "
      ]
     },
     "execution_count": 7,
     "metadata": {},
     "output_type": "execute_result"
    }
   ],
   "source": [
    "data.loc[data['type'] == 'Contract']"
   ]
  },
  {
   "cell_type": "markdown",
   "metadata": {},
   "source": [
    "The above table shows the rows in which we need to modify the content of the cell."
   ]
  },
  {
   "cell_type": "code",
   "execution_count": 8,
   "metadata": {},
   "outputs": [],
   "source": [
    "list_merge = [315, 503, 863, 1330, 1820, 1848, 1849]\n",
    "for i in range(0,len(list_merge)):\n",
    "    data.at[list_merge[i], 'type'] = 'ContractBrewery'"
   ]
  },
  {
   "cell_type": "code",
   "execution_count": 9,
   "metadata": {},
   "outputs": [
    {
     "data": {
      "text/plain": [
       "(2245, 6)"
      ]
     },
     "execution_count": 9,
     "metadata": {},
     "output_type": "execute_result"
    }
   ],
   "source": [
    "newdata = data[(data.type != 'BOP-BrewOnPremise-Closed') & (data.type != 'Brewpub-Closed') & (data.type != 'ContractBrewery-Closed') & (data.type != 'Microbrewery-Closed')]\n",
    "newdata.shape"
   ]
  },
  {
   "cell_type": "code",
   "execution_count": 10,
   "metadata": {
    "scrolled": true
   },
   "outputs": [
    {
     "data": {
      "text/plain": [
       "['BOP-BrewOnPremise',\n",
       " 'Brewpub',\n",
       " 'ContractBrewery',\n",
       " 'Microbrewery',\n",
       " 'MultitapBar',\n",
       " 'RegionalBrewery']"
      ]
     },
     "execution_count": 10,
     "metadata": {},
     "output_type": "execute_result"
    }
   ],
   "source": [
    "newlabels = newdata['type'].astype('category').cat.categories.tolist()\n",
    "newlabels"
   ]
  },
  {
   "cell_type": "markdown",
   "metadata": {},
   "source": [
    "After subsetting the breweries that we will work with, the dataframe has downsized, as expected. The brewery types we will consider for this analysis are the following:\n",
    "  \n",
    "- **BOP - Brew On Premise**: Homebrew laboratories where people can sign up to brew a batch of beer. It allows you to brew your own beer but without having to incur all the costs associated with purchasing the necessary equipment. Some BOP businesses are also used for leisure purposes where people can go there for a day to experiment a beer brewing workshop.\n",
    "\n",
    "\n",
    "- **Brewpub**: Pub where the beer served is brewed on the premises.\n",
    "\n",
    "\n",
    "- **Contract Brewery**: Arrangement between breweries where one brewery produces the beer for the another brewery. The responsibilities of each party may vary depending on the contract. \n",
    "\n",
    "\n",
    "- **Microbrewery**: Brewery that produces small amounts of beer (15,000 barrels or less of beer per year). Some of them generally ley emphasis on quality, flavor and technique and are also known as *craft breweries*.\n",
    "\n",
    "\n",
    "- **Multitap Bar**: Bar that serves different craft beers from all over the world and of different brewers, type and quality level. \n",
    "\n",
    "\n",
    "- **Regional Brewery**: Brewery that supplies beer in a fixed geographical location. Their annual production tends to be between 15,000 and 6,000,000 barrels."
   ]
  },
  {
   "cell_type": "code",
   "execution_count": 11,
   "metadata": {},
   "outputs": [
    {
     "data": {
      "text/plain": [
       "count        2245\n",
       "unique          6\n",
       "top       Brewpub\n",
       "freq         1320\n",
       "Name: type, dtype: object"
      ]
     },
     "execution_count": 11,
     "metadata": {},
     "output_type": "execute_result"
    }
   ],
   "source": [
    "newdata['type'].describe()"
   ]
  },
  {
   "cell_type": "code",
   "execution_count": 12,
   "metadata": {
    "scrolled": true
   },
   "outputs": [
    {
     "data": {
      "image/png": "[encoded data removed]",
      "text/plain": [
       "<Figure size 432x288 with 1 Axes>"
      ]
     },
     "metadata": {},
     "output_type": "display_data"
    }
   ],
   "source": [
    "counts = data['type'].value_counts()\n",
    "sizes = [counts[var_cat] for var_cat in newlabels]\n",
    "fig1, ax1 = plt.subplots()\n",
    "ax1.pie(sizes, labels=newlabels, autopct='%1.2f%%', shadow=True) #autopct is show the % on plot\n",
    "ax1.axis('equal')\n",
    "plt.show()"
   ]
  },
  {
   "cell_type": "markdown",
   "metadata": {},
   "source": [
    "The majority of breweries are Brewpubs (58.8%), followed by Microbreweries (32.25%) and Contract Breweries (6.64%). The rest of brewery types amount to 2,31% of the breweries in the US."
   ]
  },
  {
   "cell_type": "code",
   "execution_count": 13,
   "metadata": {},
   "outputs": [
    {
     "data": {
      "text/plain": [
       "count           2245\n",
       "unique            51\n",
       "top       california\n",
       "freq             280\n",
       "Name: state, dtype: object"
      ]
     },
     "execution_count": 13,
     "metadata": {},
     "output_type": "execute_result"
    }
   ],
   "source": [
    "newdata['state'].describe()"
   ]
  },
  {
   "cell_type": "code",
   "execution_count": 14,
   "metadata": {},
   "outputs": [
    {
     "data": {
      "text/plain": [
       "state\n",
       "california        280\n",
       "colorado          166\n",
       "oregon            146\n",
       "washington        133\n",
       "pennsylvania      100\n",
       "new-york           98\n",
       "michigan           88\n",
       "florida            82\n",
       "texas              77\n",
       "wisconsin          73\n",
       "illinois           68\n",
       "massachusetts      64\n",
       "ohio               56\n",
       "north-carolina     56\n",
       "georgia            45\n",
       "maryland           41\n",
       "maine              41\n",
       "new-jersey         40\n",
       "minnesota          38\n",
       "virginia           38\n",
       "new-mexico         36\n",
       "arizona            33\n",
       "south-carolina     31\n",
       "montana            31\n",
       "indiana            28\n",
       "vermont            27\n",
       "idaho              25\n",
       "kansas             24\n",
       "tennessee          24\n",
       "missouri           21\n",
       "utah               20\n",
       "nevada             18\n",
       "new-hampshire      17\n",
       "nebraska           15\n",
       "oklahoma           15\n",
       "louisiana          14\n",
       "alaska             14\n",
       "delaware           14\n",
       "iowa               13\n",
       "rhode-island       12\n",
       "connecticut        11\n",
       "kentucky           10\n",
       "hawaii             10\n",
       "south-dakota        9\n",
       "washington-dc       9\n",
       "wyoming             8\n",
       "arkansas            7\n",
       "alabama             6\n",
       "north-dakota        5\n",
       "west-virginia       5\n",
       "puerto-rico         3\n",
       "dtype: int64"
      ]
     },
     "execution_count": 14,
     "metadata": {},
     "output_type": "execute_result"
    }
   ],
   "source": [
    "freq = data.groupby(newdata['state']).size()\n",
    "freq.sort_values(ascending = False) "
   ]
  },
  {
   "cell_type": "markdown",
   "metadata": {},
   "source": [
    "The above table shows the different US states and ther amount of breweries sorted in descending order. California is the state with the largest amount of breweries whereas Puerto Rico is the state with the fewest breweries."
   ]
  },
  {
   "cell_type": "code",
   "execution_count": 15,
   "metadata": {
    "scrolled": true
   },
   "outputs": [
    {
     "data": {
      "image/png": "[encoded data removed]",
      "text/plain": [
       "<Figure size 432x288 with 1 Axes>"
      ]
     },
     "metadata": {
      "needs_background": "light"
     },
     "output_type": "display_data"
    }
   ],
   "source": [
    "sns.boxplot(y=data['state_breweries'], color='darkturquoise');\n",
    "plt.show()"
   ]
  },
  {
   "cell_type": "code",
   "execution_count": 16,
   "metadata": {},
   "outputs": [
    {
     "data": {
      "text/plain": [
       "count    2245.000000\n",
       "mean      107.340757\n",
       "std        83.236649\n",
       "min         3.000000\n",
       "25%        41.000000\n",
       "50%        90.000000\n",
       "75%       156.000000\n",
       "max       284.000000\n",
       "Name: state_breweries, dtype: float64"
      ]
     },
     "execution_count": 16,
     "metadata": {},
     "output_type": "execute_result"
    }
   ],
   "source": [
    "newdata['state_breweries'].describe()"
   ]
  },
  {
   "cell_type": "markdown",
   "metadata": {},
   "source": [
    "Looking at the boxplot and the summary above, we can state that the average number of breweries across states is, approximately, 107. "
   ]
  },
  {
   "cell_type": "code",
   "execution_count": 17,
   "metadata": {},
   "outputs": [
    {
     "data": {
      "image/png": "[encoded data removed]",
      "text/plain": [
       "<Figure size 432x288 with 1 Axes>"
      ]
     },
     "metadata": {
      "needs_background": "light"
     },
     "output_type": "display_data"
    }
   ],
   "source": [
    "sns.distplot(newdata['state_breweries'])\n",
    "plt.xlim(0, None);"
   ]
  },
  {
   "cell_type": "code",
   "execution_count": 18,
   "metadata": {},
   "outputs": [],
   "source": [
    "#freq = data.groupby(['state','type']).size()\n",
    "#freq "
   ]
  },
  {
   "cell_type": "code",
   "execution_count": null,
   "metadata": {},
   "outputs": [],
   "source": []
  },
  {
   "cell_type": "code",
   "execution_count": null,
   "metadata": {},
   "outputs": [],
   "source": []
  }
 ],
 "metadata": {
  "kernelspec": {
   "display_name": "Python 3",
   "language": "python",
   "name": "python3"
  },
  "language_info": {
   "codemirror_mode": {
    "name": "ipython",
    "version": 3
   },
   "file_extension": ".py",
   "mimetype": "text/x-python",
   "name": "python",
   "nbconvert_exporter": "python",
   "pygments_lexer": "ipython3",
   "version": "3.7.3"
  }
 },
 "nbformat": 4,
 "nbformat_minor": 2
}
