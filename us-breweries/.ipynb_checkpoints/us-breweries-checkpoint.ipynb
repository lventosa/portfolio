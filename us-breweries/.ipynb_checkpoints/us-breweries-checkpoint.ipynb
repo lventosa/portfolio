{
 "cells": [
  {
   "cell_type": "markdown",
   "metadata": {},
   "source": [
    "# US Breweries Analysis"
   ]
  },
  {
   "cell_type": "markdown",
   "metadata": {},
   "source": [
    "This project analyzes the geographical location and the different types of breweries in the United States."
   ]
  },
  {
   "cell_type": "markdown",
   "metadata": {},
   "source": [
    "## Table of Contents\n",
    "\n",
    "- [Importing Dataset and Libraries](#importing)\n",
    "- [Basic Data Exploration](#exploration)\n",
    "- [Feature Engineering](#feature)\n",
    "- [Data Visualization](#viz)\n",
    "    - [Prevalence of BOP's (Brew On Premise)](#bop)\n",
    "    - [Prevalence of Brewpubs](#brewpubs)\n",
    "    - [Prevalence of Contract Breweries](#contract)\n",
    "    - [Prevalence of Microbreweries](#micro)\n",
    "    - [Prevalence of Multitap Bars](#multitap)\n",
    "    - [Prevalence of Regional Breweries](#regional) \n",
    "- [Brewery Name Analysis](#name)"
   ]
  },
  {
   "cell_type": "markdown",
   "metadata": {},
   "source": [
    "## Importing Dataset and Libraries <a name=\"exploration\"></a>"
   ]
  },
  {
   "cell_type": "code",
   "execution_count": 49,
   "metadata": {},
   "outputs": [],
   "source": [
    "import pandas as pd\n",
    "import numpy as np\n",
    "import seaborn as sns\n",
    "import matplotlib.pyplot as plt\n",
    "import plotly.express as px\n",
    "import plotly.graph_objects as go"
   ]
  },
  {
   "cell_type": "code",
   "execution_count": 1,
   "metadata": {
    "scrolled": true
   },
   "outputs": [
    {
     "data": {
      "application/javascript": [
       "\n",
       "        if (window._pyforest_update_imports_cell) { window._pyforest_update_imports_cell('import pandas as pd'); }\n",
       "    "
      ],
      "text/plain": [
       "<IPython.core.display.Javascript object>"
      ]
     },
     "metadata": {},
     "output_type": "display_data"
    }
   ],
   "source": [
    "data = pd.read_csv('../us-breweries/datasets_367098_716040_breweries_us.csv')"
   ]
  },
  {
   "cell_type": "markdown",
   "metadata": {},
   "source": [
    "## Basic Data Exploration <a name=\"exploration\"></a>"
   ]
  },
  {
   "cell_type": "code",
   "execution_count": 2,
   "metadata": {},
   "outputs": [
    {
     "data": {
      "text/html": [
       "<div>\n",
       "<style scoped>\n",
       "    .dataframe tbody tr th:only-of-type {\n",
       "        vertical-align: middle;\n",
       "    }\n",
       "\n",
       "    .dataframe tbody tr th {\n",
       "        vertical-align: top;\n",
       "    }\n",
       "\n",
       "    .dataframe thead th {\n",
       "        text-align: right;\n",
       "    }\n",
       "</style>\n",
       "<table border=\"1\" class=\"dataframe\">\n",
       "  <thead>\n",
       "    <tr style=\"text-align: right;\">\n",
       "      <th></th>\n",
       "      <th>brewery_name</th>\n",
       "      <th>type</th>\n",
       "      <th>address</th>\n",
       "      <th>website</th>\n",
       "      <th>state</th>\n",
       "      <th>state_breweries</th>\n",
       "    </tr>\n",
       "  </thead>\n",
       "  <tbody>\n",
       "    <tr>\n",
       "      <th>0</th>\n",
       "      <td>Valley Brewing Co.</td>\n",
       "      <td>Brewpub</td>\n",
       "      <td>PO Box 4653, Stockton, California, 95204</td>\n",
       "      <td>http://www.valleybrew.com/</td>\n",
       "      <td>california</td>\n",
       "      <td>284</td>\n",
       "    </tr>\n",
       "    <tr>\n",
       "      <th>1</th>\n",
       "      <td>Valley Brewing Co.</td>\n",
       "      <td>Brewpub</td>\n",
       "      <td>157 Adams St., Stockton, California, 95204</td>\n",
       "      <td>http://www.valleybrew.com/</td>\n",
       "      <td>california</td>\n",
       "      <td>284</td>\n",
       "    </tr>\n",
       "    <tr>\n",
       "      <th>2</th>\n",
       "      <td>Valley Brewing Co</td>\n",
       "      <td>Microbrewery</td>\n",
       "      <td>1950 W Freemont, Stockton, California, 95203</td>\n",
       "      <td>http://www.valleybrew.com/</td>\n",
       "      <td>california</td>\n",
       "      <td>284</td>\n",
       "    </tr>\n",
       "    <tr>\n",
       "      <th>3</th>\n",
       "      <td>Ukiah Brewing Company</td>\n",
       "      <td>Brewpub</td>\n",
       "      <td>102 S. State St., Ukiah, California, 95482</td>\n",
       "      <td>http://www.ukiahbrewingco.com/</td>\n",
       "      <td>california</td>\n",
       "      <td>284</td>\n",
       "    </tr>\n",
       "    <tr>\n",
       "      <th>4</th>\n",
       "      <td>Tustin Brewing Co.</td>\n",
       "      <td>Brewpub</td>\n",
       "      <td>13011 Newport Ave. #100, Tustin, California, 9...</td>\n",
       "      <td>http://www.tustinbrewery.com/</td>\n",
       "      <td>california</td>\n",
       "      <td>284</td>\n",
       "    </tr>\n",
       "  </tbody>\n",
       "</table>\n",
       "</div>"
      ],
      "text/plain": [
       "            brewery_name          type  \\\n",
       "0     Valley Brewing Co.       Brewpub   \n",
       "1     Valley Brewing Co.       Brewpub   \n",
       "2      Valley Brewing Co  Microbrewery   \n",
       "3  Ukiah Brewing Company       Brewpub   \n",
       "4     Tustin Brewing Co.       Brewpub   \n",
       "\n",
       "                                             address  \\\n",
       "0           PO Box 4653, Stockton, California, 95204   \n",
       "1         157 Adams St., Stockton, California, 95204   \n",
       "2       1950 W Freemont, Stockton, California, 95203   \n",
       "3         102 S. State St., Ukiah, California, 95482   \n",
       "4  13011 Newport Ave. #100, Tustin, California, 9...   \n",
       "\n",
       "                          website       state  state_breweries  \n",
       "0      http://www.valleybrew.com/  california              284  \n",
       "1      http://www.valleybrew.com/  california              284  \n",
       "2      http://www.valleybrew.com/  california              284  \n",
       "3  http://www.ukiahbrewingco.com/  california              284  \n",
       "4   http://www.tustinbrewery.com/  california              284  "
      ]
     },
     "execution_count": 2,
     "metadata": {},
     "output_type": "execute_result"
    }
   ],
   "source": [
    "data.head()"
   ]
  },
  {
   "cell_type": "code",
   "execution_count": 3,
   "metadata": {},
   "outputs": [
    {
     "data": {
      "text/plain": [
       "(2407, 6)"
      ]
     },
     "execution_count": 3,
     "metadata": {},
     "output_type": "execute_result"
    }
   ],
   "source": [
    "data.shape"
   ]
  },
  {
   "cell_type": "code",
   "execution_count": 14,
   "metadata": {},
   "outputs": [
    {
     "data": {
      "text/plain": [
       "brewery_name       object\n",
       "type               object\n",
       "address            object\n",
       "website            object\n",
       "state              object\n",
       "state_breweries     int64\n",
       "dtype: object"
      ]
     },
     "execution_count": 14,
     "metadata": {},
     "output_type": "execute_result"
    }
   ],
   "source": [
    "data.dtypes"
   ]
  },
  {
   "cell_type": "markdown",
   "metadata": {},
   "source": [
    "The original dataframe has dimension 2407x6 (i.e. 2407 rows and 6 columns). As for the columns, all of them are objects except for state_breweries, the number of breweries established in a given state, which is an integer."
   ]
  },
  {
   "cell_type": "code",
   "execution_count": 15,
   "metadata": {},
   "outputs": [
    {
     "data": {
      "text/plain": [
       "Index(['brewery_name', 'type', 'address', 'website', 'state',\n",
       "       'state_breweries'],\n",
       "      dtype='object')"
      ]
     },
     "execution_count": 15,
     "metadata": {},
     "output_type": "execute_result"
    }
   ],
   "source": [
    "data.columns"
   ]
  },
  {
   "cell_type": "code",
   "execution_count": 16,
   "metadata": {},
   "outputs": [
    {
     "data": {
      "text/plain": [
       "count        2407\n",
       "unique         12\n",
       "top       Brewpub\n",
       "freq         1320\n",
       "Name: type, dtype: object"
      ]
     },
     "execution_count": 16,
     "metadata": {},
     "output_type": "execute_result"
    }
   ],
   "source": [
    "data['type'].describe()"
   ]
  },
  {
   "cell_type": "code",
   "execution_count": 17,
   "metadata": {
    "scrolled": false
   },
   "outputs": [
    {
     "data": {
      "text/plain": [
       "['BOP-BrewOnPremise',\n",
       " 'BOP-BrewOnPremise-Closed',\n",
       " 'Brewpub',\n",
       " 'Brewpub-Closed',\n",
       " 'Contract',\n",
       " 'ContractBrewery',\n",
       " 'ContractBrewery-Closed',\n",
       " 'Microbrewery',\n",
       " 'Microbrewery-Closed',\n",
       " 'Mircobrewery',\n",
       " 'MultitapBar',\n",
       " 'RegionalBrewery']"
      ]
     },
     "execution_count": 17,
     "metadata": {},
     "output_type": "execute_result"
    }
   ],
   "source": [
    "labels = data['type'].astype('category').cat.categories.tolist()\n",
    "labels"
   ]
  },
  {
   "cell_type": "markdown",
   "metadata": {},
   "source": [
    "## Feature Engineering <a name=\"feature\"></a>"
   ]
  },
  {
   "cell_type": "markdown",
   "metadata": {},
   "source": [
    "The above list shows the different types of breweries that exist in the US. We will correct the typo existing in 'Mircobrewery' and merge the categories 'Contract' and 'ContractBrewery'. Moreover, we will ignore the breweries that are closed at the moment. Hence, we need to subset our data to work with the breweries that are currently active."
   ]
  },
  {
   "cell_type": "code",
   "execution_count": 18,
   "metadata": {},
   "outputs": [],
   "source": [
    "data['type']= data['type'].str.replace('Mircobrewery', 'Microbrewery', case = False) "
   ]
  },
  {
   "cell_type": "code",
   "execution_count": 19,
   "metadata": {},
   "outputs": [
    {
     "data": {
      "text/html": [
       "<div>\n",
       "<style scoped>\n",
       "    .dataframe tbody tr th:only-of-type {\n",
       "        vertical-align: middle;\n",
       "    }\n",
       "\n",
       "    .dataframe tbody tr th {\n",
       "        vertical-align: top;\n",
       "    }\n",
       "\n",
       "    .dataframe thead th {\n",
       "        text-align: right;\n",
       "    }\n",
       "</style>\n",
       "<table border=\"1\" class=\"dataframe\">\n",
       "  <thead>\n",
       "    <tr style=\"text-align: right;\">\n",
       "      <th></th>\n",
       "      <th>brewery_name</th>\n",
       "      <th>type</th>\n",
       "      <th>address</th>\n",
       "      <th>website</th>\n",
       "      <th>state</th>\n",
       "      <th>state_breweries</th>\n",
       "    </tr>\n",
       "  </thead>\n",
       "  <tbody>\n",
       "    <tr>\n",
       "      <th>315</th>\n",
       "      <td>Back Forty Beer Co</td>\n",
       "      <td>Contract</td>\n",
       "      <td>200 N. 6th St., Gadsden, Alabama, 35901</td>\n",
       "      <td>http://backfortybeer.com/</td>\n",
       "      <td>alabama</td>\n",
       "      <td>6</td>\n",
       "    </tr>\n",
       "    <tr>\n",
       "      <th>503</th>\n",
       "      <td>New Planet Beer Co</td>\n",
       "      <td>Contract</td>\n",
       "      <td>P.O. Box 116 / 3980 Broadway Suites 103-116, B...</td>\n",
       "      <td>http://www.newplanetbeer.net/</td>\n",
       "      <td>colorado</td>\n",
       "      <td>182</td>\n",
       "    </tr>\n",
       "    <tr>\n",
       "      <th>863</th>\n",
       "      <td>Galena Beer Co</td>\n",
       "      <td>Contract</td>\n",
       "      <td>404 S Dodge St, Galena, Illinois, ???</td>\n",
       "      <td>NaN</td>\n",
       "      <td>illinois</td>\n",
       "      <td>74</td>\n",
       "    </tr>\n",
       "    <tr>\n",
       "      <th>1330</th>\n",
       "      <td>Hometown Beverages</td>\n",
       "      <td>Contract</td>\n",
       "      <td>23 Taylor Ave, Manasquan, New Jersey, 8857</td>\n",
       "      <td>...</td>\n",
       "      <td>new-jersey</td>\n",
       "      <td>41</td>\n",
       "    </tr>\n",
       "    <tr>\n",
       "      <th>1820</th>\n",
       "      <td>Pennsylvania Brewing Company</td>\n",
       "      <td>Contract</td>\n",
       "      <td>800 Vinial St., Pittsburgh, Pennsylvania, 15212</td>\n",
       "      <td>http://www.pennbrew.com/</td>\n",
       "      <td>pennsylvania</td>\n",
       "      <td>107</td>\n",
       "    </tr>\n",
       "    <tr>\n",
       "      <th>1848</th>\n",
       "      <td>Iron City Brewing Co.</td>\n",
       "      <td>Contract</td>\n",
       "      <td>3340 Liberty Ave., Pittsburgh, Pennsylvania, 1...</td>\n",
       "      <td>http://pittsburghbrewing.com/</td>\n",
       "      <td>pennsylvania</td>\n",
       "      <td>107</td>\n",
       "    </tr>\n",
       "    <tr>\n",
       "      <th>1849</th>\n",
       "      <td>Intercourse Brewing Co</td>\n",
       "      <td>Contract</td>\n",
       "      <td>4166 Ironbridge Drive, Creamery, Pennsylvania,...</td>\n",
       "      <td>www.intercoursebrewingcompany.com</td>\n",
       "      <td>pennsylvania</td>\n",
       "      <td>107</td>\n",
       "    </tr>\n",
       "  </tbody>\n",
       "</table>\n",
       "</div>"
      ],
      "text/plain": [
       "                      brewery_name      type  \\\n",
       "315             Back Forty Beer Co  Contract   \n",
       "503             New Planet Beer Co  Contract   \n",
       "863                 Galena Beer Co  Contract   \n",
       "1330            Hometown Beverages  Contract   \n",
       "1820  Pennsylvania Brewing Company  Contract   \n",
       "1848         Iron City Brewing Co.  Contract   \n",
       "1849        Intercourse Brewing Co  Contract   \n",
       "\n",
       "                                                address  \\\n",
       "315             200 N. 6th St., Gadsden, Alabama, 35901   \n",
       "503   P.O. Box 116 / 3980 Broadway Suites 103-116, B...   \n",
       "863               404 S Dodge St, Galena, Illinois, ???   \n",
       "1330         23 Taylor Ave, Manasquan, New Jersey, 8857   \n",
       "1820    800 Vinial St., Pittsburgh, Pennsylvania, 15212   \n",
       "1848  3340 Liberty Ave., Pittsburgh, Pennsylvania, 1...   \n",
       "1849  4166 Ironbridge Drive, Creamery, Pennsylvania,...   \n",
       "\n",
       "                                                website         state  \\\n",
       "315                           http://backfortybeer.com/       alabama   \n",
       "503                       http://www.newplanetbeer.net/      colorado   \n",
       "863                                                 NaN      illinois   \n",
       "1330                                                ...    new-jersey   \n",
       "1820                           http://www.pennbrew.com/  pennsylvania   \n",
       "1848                      http://pittsburghbrewing.com/  pennsylvania   \n",
       "1849                  www.intercoursebrewingcompany.com  pennsylvania   \n",
       "\n",
       "      state_breweries  \n",
       "315                 6  \n",
       "503               182  \n",
       "863                74  \n",
       "1330               41  \n",
       "1820              107  \n",
       "1848              107  \n",
       "1849              107  "
      ]
     },
     "execution_count": 19,
     "metadata": {},
     "output_type": "execute_result"
    }
   ],
   "source": [
    "data.loc[data['type'] == 'Contract']"
   ]
  },
  {
   "cell_type": "markdown",
   "metadata": {},
   "source": [
    "The above table shows the rows in which we need to modify the content of the cell."
   ]
  },
  {
   "cell_type": "code",
   "execution_count": 20,
   "metadata": {},
   "outputs": [],
   "source": [
    "list_merge = [315, 503, 863, 1330, 1820, 1848, 1849]\n",
    "for i in range(0,len(list_merge)):\n",
    "    data.at[list_merge[i], 'type'] = 'ContractBrewery'"
   ]
  },
  {
   "cell_type": "code",
   "execution_count": 21,
   "metadata": {},
   "outputs": [
    {
     "data": {
      "text/plain": [
       "(2245, 6)"
      ]
     },
     "execution_count": 21,
     "metadata": {},
     "output_type": "execute_result"
    }
   ],
   "source": [
    "newdata = data[(data.type != 'BOP-BrewOnPremise-Closed') & (data.type != 'Brewpub-Closed') & (data.type != 'ContractBrewery-Closed') & (data.type != 'Microbrewery-Closed')]\n",
    "newdata.shape"
   ]
  },
  {
   "cell_type": "markdown",
   "metadata": {},
   "source": [
    "After subsetting the breweries that we will work with, the dataframe has downsized, as expected."
   ]
  },
  {
   "cell_type": "code",
   "execution_count": 22,
   "metadata": {
    "scrolled": true
   },
   "outputs": [
    {
     "data": {
      "text/plain": [
       "['BOP-BrewOnPremise',\n",
       " 'Brewpub',\n",
       " 'ContractBrewery',\n",
       " 'Microbrewery',\n",
       " 'MultitapBar',\n",
       " 'RegionalBrewery']"
      ]
     },
     "execution_count": 22,
     "metadata": {},
     "output_type": "execute_result"
    }
   ],
   "source": [
    "newlabels = newdata['type'].astype('category').cat.categories.tolist()\n",
    "newlabels"
   ]
  },
  {
   "cell_type": "markdown",
   "metadata": {},
   "source": [
    "The brewery types considered for this analysis are the following:\n",
    "  \n",
    "- **BOP - Brew On Premise**: Homebrew laboratories where people can sign up to brew a batch of beer. It allows you to brew your own beer but without having to incur all the costs associated with purchasing the necessary equipment. Some BOP businesses are also used for leisure purposes where people can go there for a day to experiment a beer brewing workshop.\n",
    "\n",
    "\n",
    "- **Brewpub**: Pub where the beer served is brewed on the premises.\n",
    "\n",
    "\n",
    "- **Contract Brewery**: Arrangement between breweries where one brewery produces the beer for the another brewery. The responsibilities of each party may vary depending on the contract. \n",
    "\n",
    "\n",
    "- **Microbrewery**: Brewery that produces small amounts of beer (15,000 barrels or less of beer per year). Some of them generally ley emphasis on quality, flavor and technique and are also known as *craft breweries*.\n",
    "\n",
    "\n",
    "- **Multitap Bar**: Bar that serves different craft beers from all over the world and of different brewers, type and quality level. \n",
    "\n",
    "\n",
    "- **Regional Brewery**: Brewery that supplies beer in a fixed geographical location. Their annual production tends to be between 15,000 and 6,000,000 barrels."
   ]
  },
  {
   "cell_type": "markdown",
   "metadata": {},
   "source": [
    "## Data Visualization <a name=\"viz\"></a>"
   ]
  },
  {
   "cell_type": "markdown",
   "metadata": {},
   "source": [
    "We first start this section by examining the frequency of each brewery type across the country."
   ]
  },
  {
   "cell_type": "code",
   "execution_count": 37,
   "metadata": {},
   "outputs": [
    {
     "data": {
      "text/html": [
       "<div>\n",
       "<style scoped>\n",
       "    .dataframe tbody tr th:only-of-type {\n",
       "        vertical-align: middle;\n",
       "    }\n",
       "\n",
       "    .dataframe tbody tr th {\n",
       "        vertical-align: top;\n",
       "    }\n",
       "\n",
       "    .dataframe thead th {\n",
       "        text-align: right;\n",
       "    }\n",
       "</style>\n",
       "<table border=\"1\" class=\"dataframe\">\n",
       "  <thead>\n",
       "    <tr style=\"text-align: right;\">\n",
       "      <th></th>\n",
       "      <th>Count of brewery type</th>\n",
       "    </tr>\n",
       "    <tr>\n",
       "      <th>type</th>\n",
       "      <th></th>\n",
       "    </tr>\n",
       "  </thead>\n",
       "  <tbody>\n",
       "    <tr>\n",
       "      <th>Brewpub</th>\n",
       "      <td>1320</td>\n",
       "    </tr>\n",
       "    <tr>\n",
       "      <th>Microbrewery</th>\n",
       "      <td>724</td>\n",
       "    </tr>\n",
       "    <tr>\n",
       "      <th>ContractBrewery</th>\n",
       "      <td>149</td>\n",
       "    </tr>\n",
       "    <tr>\n",
       "      <th>RegionalBrewery</th>\n",
       "      <td>44</td>\n",
       "    </tr>\n",
       "    <tr>\n",
       "      <th>BOP-BrewOnPremise</th>\n",
       "      <td>6</td>\n",
       "    </tr>\n",
       "    <tr>\n",
       "      <th>MultitapBar</th>\n",
       "      <td>2</td>\n",
       "    </tr>\n",
       "  </tbody>\n",
       "</table>\n",
       "</div>"
      ],
      "text/plain": [
       "                   Count of brewery type\n",
       "type                                    \n",
       "Brewpub                             1320\n",
       "Microbrewery                         724\n",
       "ContractBrewery                      149\n",
       "RegionalBrewery                       44\n",
       "BOP-BrewOnPremise                      6\n",
       "MultitapBar                            2"
      ]
     },
     "execution_count": 37,
     "metadata": {},
     "output_type": "execute_result"
    }
   ],
   "source": [
    "types_df = newdata.drop(['brewery_name', 'address', 'website', 'state_breweries'], axis=1)\n",
    "types_df1 = types_df.groupby('type').count()\n",
    "types_df1.columns = ['Count of brewery type']\n",
    "brewery_types = types_df1.sort_values('Count of brewery type', ascending=False)\n",
    "brewery_types"
   ]
  },
  {
   "cell_type": "markdown",
   "metadata": {},
   "source": [
    "Brewpubs are the most frequent among the different types of breweries in the United States. To help us get a sense of how much more popular brewpubs are with respect to other brewery types, the following plot can be constructed:"
   ]
  },
  {
   "cell_type": "code",
   "execution_count": 38,
   "metadata": {},
   "outputs": [
    {
     "data": {
      "image/png": "[encoded data removed]",
      "text/plain": [
       "<Figure size 432x432 with 1 Axes>"
      ]
     },
     "metadata": {},
     "output_type": "display_data"
    }
   ],
   "source": [
    "plt.figure(figsize=(6,6))\n",
    "counts = newdata['type'].value_counts()\n",
    "size = [counts[var_cat] for var_cat in newlabels]\n",
    "circle=plt.Circle( (0,0), 0.6, color='white')\n",
    "plt.pie(size, labels=newlabels, colors=['lightgreen','khaki','cornflowerblue','lightcoral','palevioletred','grey'])\n",
    "p=plt.gcf()\n",
    "p.gca().add_artist(circle)\n",
    "plt.show()"
   ]
  },
  {
   "cell_type": "code",
   "execution_count": 14,
   "metadata": {},
   "outputs": [
    {
     "data": {
      "text/plain": [
       "array([ 0.26726058, 58.79732739,  6.63697105, 32.24944321,  0.08908686,\n",
       "        1.95991091])"
      ]
     },
     "execution_count": 14,
     "metadata": {},
     "output_type": "execute_result"
    }
   ],
   "source": [
    "(size/np.sum(size))*100"
   ]
  },
  {
   "cell_type": "markdown",
   "metadata": {},
   "source": [
    "The majority of breweries are brewpubs (58.8%), followed by microbreweries (32.25%) and contract breweries (6.64%). The rest of brewery types amount to 2,31% of the breweries in the US."
   ]
  },
  {
   "cell_type": "code",
   "execution_count": 15,
   "metadata": {},
   "outputs": [
    {
     "data": {
      "text/plain": [
       "count           2245\n",
       "unique            51\n",
       "top       california\n",
       "freq             280\n",
       "Name: state, dtype: object"
      ]
     },
     "execution_count": 15,
     "metadata": {},
     "output_type": "execute_result"
    }
   ],
   "source": [
    "newdata['state'].describe()"
   ]
  },
  {
   "cell_type": "code",
   "execution_count": 16,
   "metadata": {},
   "outputs": [
    {
     "data": {
      "text/plain": [
       "state\n",
       "california        280\n",
       "colorado          166\n",
       "oregon            146\n",
       "washington        133\n",
       "pennsylvania      100\n",
       "new-york           98\n",
       "michigan           88\n",
       "florida            82\n",
       "texas              77\n",
       "wisconsin          73\n",
       "illinois           68\n",
       "massachusetts      64\n",
       "ohio               56\n",
       "north-carolina     56\n",
       "georgia            45\n",
       "maryland           41\n",
       "maine              41\n",
       "new-jersey         40\n",
       "minnesota          38\n",
       "virginia           38\n",
       "new-mexico         36\n",
       "arizona            33\n",
       "south-carolina     31\n",
       "montana            31\n",
       "indiana            28\n",
       "vermont            27\n",
       "idaho              25\n",
       "kansas             24\n",
       "tennessee          24\n",
       "missouri           21\n",
       "utah               20\n",
       "nevada             18\n",
       "new-hampshire      17\n",
       "nebraska           15\n",
       "oklahoma           15\n",
       "louisiana          14\n",
       "alaska             14\n",
       "delaware           14\n",
       "iowa               13\n",
       "rhode-island       12\n",
       "connecticut        11\n",
       "kentucky           10\n",
       "hawaii             10\n",
       "south-dakota        9\n",
       "washington-dc       9\n",
       "wyoming             8\n",
       "arkansas            7\n",
       "alabama             6\n",
       "north-dakota        5\n",
       "west-virginia       5\n",
       "puerto-rico         3\n",
       "dtype: int64"
      ]
     },
     "execution_count": 16,
     "metadata": {},
     "output_type": "execute_result"
    }
   ],
   "source": [
    "freq = newdata.groupby(newdata['state']).size()\n",
    "freq.sort_values(ascending = False) "
   ]
  },
  {
   "cell_type": "markdown",
   "metadata": {},
   "source": [
    "This table shows the different US states and ther amount of breweries sorted in descending order. California, followed by Colorado, is the state with the largest amount of breweries whereas Puerto Rico is the state with the fewest breweries. The ranking in the above table can also be represented more visually:"
   ]
  },
  {
   "cell_type": "code",
   "execution_count": 17,
   "metadata": {},
   "outputs": [
    {
     "data": {
      "image/png": "[encoded data removed]",
      "text/plain": [
       "<Figure size 1080x720 with 1 Axes>"
      ]
     },
     "metadata": {
      "needs_background": "light"
     },
     "output_type": "display_data"
    }
   ],
   "source": [
    "plt.figure(figsize=(15,10))\n",
    "newdata['state'].value_counts().plot(kind='bar', color='CadetBlue', title='Breweries across states');"
   ]
  },
  {
   "cell_type": "code",
   "execution_count": 18,
   "metadata": {
    "scrolled": true
   },
   "outputs": [
    {
     "data": {
      "image/png": "[encoded data removed]",
      "text/plain": [
       "<Figure size 432x288 with 1 Axes>"
      ]
     },
     "metadata": {
      "needs_background": "light"
     },
     "output_type": "display_data"
    }
   ],
   "source": [
    "sns.boxplot(y=newdata['state_breweries'], color='bisque');\n",
    "plt.show()"
   ]
  },
  {
   "cell_type": "code",
   "execution_count": 19,
   "metadata": {},
   "outputs": [
    {
     "data": {
      "text/plain": [
       "count    2245.000000\n",
       "mean      107.340757\n",
       "std        83.236649\n",
       "min         3.000000\n",
       "25%        41.000000\n",
       "50%        90.000000\n",
       "75%       156.000000\n",
       "max       284.000000\n",
       "Name: state_breweries, dtype: float64"
      ]
     },
     "execution_count": 19,
     "metadata": {},
     "output_type": "execute_result"
    }
   ],
   "source": [
    "newdata['state_breweries'].describe()"
   ]
  },
  {
   "cell_type": "markdown",
   "metadata": {},
   "source": [
    "Looking at the boxplot and the summary above, we can state that the average number of breweries across states is, approximately, 107. Most of the states have within their borders between 50 and 150 breweries, with some extreme cases (i.e. states that have over 200 breweries or under 50 breweries)."
   ]
  },
  {
   "cell_type": "markdown",
   "metadata": {},
   "source": [
    "We can also study the prevalence of the different types of breweries across states. This is done in the following sections:"
   ]
  },
  {
   "cell_type": "markdown",
   "metadata": {},
   "source": [
    "### Prevalence of BOP's (Brew On Premise) <a name=\"bop\"></a>"
   ]
  },
  {
   "cell_type": "code",
   "execution_count": 20,
   "metadata": {},
   "outputs": [
    {
     "data": {
      "text/plain": [
       "(6, 6)"
      ]
     },
     "execution_count": 20,
     "metadata": {},
     "output_type": "execute_result"
    }
   ],
   "source": [
    "data_bop = newdata[newdata.type == 'BOP-BrewOnPremise']\n",
    "data_bop.shape"
   ]
  },
  {
   "cell_type": "code",
   "execution_count": 21,
   "metadata": {},
   "outputs": [
    {
     "data": {
      "text/plain": [
       "state\n",
       "california      2\n",
       "virginia        1\n",
       "pennsylvania    1\n",
       "oregon          1\n",
       "illinois        1\n",
       "dtype: int64"
      ]
     },
     "execution_count": 21,
     "metadata": {},
     "output_type": "execute_result"
    }
   ],
   "source": [
    "freq_bop = data_bop.groupby(newdata['state']).size()\n",
    "table_bop = freq_bop.sort_values(ascending = False)\n",
    "table_bop"
   ]
  },
  {
   "cell_type": "markdown",
   "metadata": {},
   "source": [
    "BOP's (Brew On Premise) are not very popular in the US since they can only be found in California, Virgina, Pennsylvania, Oregon and Illinois. Of all these states, California is the only state that has more than one BOP brewery. A graphic representation may not provide a relevant and useful insight in this case."
   ]
  },
  {
   "cell_type": "markdown",
   "metadata": {},
   "source": [
    "### Prevalence of Brewpubs <a name=\"brewpubs\"></a>"
   ]
  },
  {
   "cell_type": "code",
   "execution_count": 23,
   "metadata": {},
   "outputs": [
    {
     "data": {
      "text/plain": [
       "(1320, 6)"
      ]
     },
     "execution_count": 23,
     "metadata": {},
     "output_type": "execute_result"
    }
   ],
   "source": [
    "data_brewpub = newdata[newdata.type == 'Brewpub']\n",
    "data_brewpub.shape"
   ]
  },
  {
   "cell_type": "code",
   "execution_count": 24,
   "metadata": {},
   "outputs": [
    {
     "data": {
      "text/plain": [
       "state\n",
       "california        182\n",
       "oregon            116\n",
       "colorado           92\n",
       "washington         74\n",
       "pennsylvania       61\n",
       "florida            53\n",
       "michigan           49\n",
       "new-york           48\n",
       "illinois           42\n",
       "texas              41\n",
       "wisconsin          40\n",
       "ohio               31\n",
       "massachusetts      29\n",
       "maryland           25\n",
       "virginia           25\n",
       "georgia            25\n",
       "new-mexico         24\n",
       "maine              23\n",
       "north-carolina     23\n",
       "minnesota          22\n",
       "south-carolina     21\n",
       "new-jersey         21\n",
       "arizona            20\n",
       "indiana            19\n",
       "tennessee          18\n",
       "kansas             17\n",
       "utah               16\n",
       "nevada             14\n",
       "vermont            12\n",
       "idaho              12\n",
       "nebraska           11\n",
       "missouri           10\n",
       "iowa               10\n",
       "new-hampshire       9\n",
       "delaware            7\n",
       "montana             7\n",
       "connecticut         7\n",
       "oklahoma            7\n",
       "arkansas            6\n",
       "wyoming             6\n",
       "south-dakota        6\n",
       "washington-dc       6\n",
       "kentucky            5\n",
       "alaska              5\n",
       "hawaii              4\n",
       "louisiana           4\n",
       "north-dakota        4\n",
       "rhode-island        4\n",
       "west-virginia       4\n",
       "alabama             2\n",
       "puerto-rico         1\n",
       "dtype: int64"
      ]
     },
     "execution_count": 24,
     "metadata": {},
     "output_type": "execute_result"
    }
   ],
   "source": [
    "freq_brewpub = data_brewpub.groupby(newdata['state']).size()\n",
    "freq_brewpub.sort_values(ascending = False)"
   ]
  },
  {
   "cell_type": "code",
   "execution_count": 25,
   "metadata": {},
   "outputs": [
    {
     "data": {
      "image/png": "[encoded data removed]",
      "text/plain": [
       "<Figure size 1080x720 with 1 Axes>"
      ]
     },
     "metadata": {
      "needs_background": "light"
     },
     "output_type": "display_data"
    }
   ],
   "source": [
    "plt.figure(figsize=(15,10))\n",
    "data_brewpub['state'].value_counts().plot(kind='bar', color='coral', title='Brewpubs across states');"
   ]
  },
  {
   "cell_type": "markdown",
   "metadata": {},
   "source": [
    "Brewpubs, as we have already seen, are the most popular kind of breweries. Californa, Oregon and Colorado, in this order, are the three states with the largest number of breweries that fall within the category 'brewpub'. Alabama and Puerto Rico are last on this list."
   ]
  },
  {
   "cell_type": "markdown",
   "metadata": {},
   "source": [
    "### Prevalence of Contract Breweries <a name=\"contract\"></a>"
   ]
  },
  {
   "cell_type": "code",
   "execution_count": 26,
   "metadata": {},
   "outputs": [
    {
     "data": {
      "text/plain": [
       "(149, 6)"
      ]
     },
     "execution_count": 26,
     "metadata": {},
     "output_type": "execute_result"
    }
   ],
   "source": [
    "data_contract = newdata[newdata.type == 'ContractBrewery']\n",
    "data_contract.shape"
   ]
  },
  {
   "cell_type": "code",
   "execution_count": 27,
   "metadata": {},
   "outputs": [
    {
     "data": {
      "text/plain": [
       "state\n",
       "colorado          19\n",
       "pennsylvania      12\n",
       "california        11\n",
       "new-york           9\n",
       "michigan           9\n",
       "illinois           8\n",
       "florida            8\n",
       "massachusetts      6\n",
       "minnesota          6\n",
       "new-jersey         5\n",
       "ohio               5\n",
       "georgia            5\n",
       "texas              5\n",
       "maryland           4\n",
       "louisiana          3\n",
       "washington-dc      3\n",
       "wisconsin          2\n",
       "alabama            2\n",
       "washington         2\n",
       "north-carolina     2\n",
       "oklahoma           2\n",
       "oregon             2\n",
       "tennessee          2\n",
       "new-hampshire      1\n",
       "south-carolina     1\n",
       "arizona            1\n",
       "virginia           1\n",
       "delaware           1\n",
       "utah               1\n",
       "hawaii             1\n",
       "kansas             1\n",
       "indiana            1\n",
       "nevada             1\n",
       "kentucky           1\n",
       "north-dakota       1\n",
       "new-mexico         1\n",
       "missouri           1\n",
       "montana            1\n",
       "west-virginia      1\n",
       "nebraska           1\n",
       "dtype: int64"
      ]
     },
     "execution_count": 27,
     "metadata": {},
     "output_type": "execute_result"
    }
   ],
   "source": [
    "freq_contract = data_contract.groupby(newdata['state']).size()\n",
    "freq_contract.sort_values(ascending = False)"
   ]
  },
  {
   "cell_type": "code",
   "execution_count": 28,
   "metadata": {},
   "outputs": [
    {
     "data": {
      "image/png": "[encoded data removed]",
      "text/plain": [
       "<Figure size 1080x720 with 1 Axes>"
      ]
     },
     "metadata": {
      "needs_background": "light"
     },
     "output_type": "display_data"
    }
   ],
   "source": [
    "plt.figure(figsize=(15,10))\n",
    "data_contract['state'].value_counts().plot(kind='bar', color='skyblue', title='Contract breweries across states');"
   ]
  },
  {
   "cell_type": "markdown",
   "metadata": {},
   "source": [
    "The states where more contract breweries can be found are Colorado, Pennsylvania and California. The overall numbers are not very high but this type of breweries can be found across the whole country."
   ]
  },
  {
   "cell_type": "markdown",
   "metadata": {},
   "source": [
    "### Prevalence of Microbreweries <a name=\"micro\"></a>"
   ]
  },
  {
   "cell_type": "code",
   "execution_count": 29,
   "metadata": {},
   "outputs": [
    {
     "data": {
      "text/plain": [
       "(724, 6)"
      ]
     },
     "execution_count": 29,
     "metadata": {},
     "output_type": "execute_result"
    }
   ],
   "source": [
    "data_microbrew = newdata[newdata.type == 'Microbrewery']\n",
    "data_microbrew.shape"
   ]
  },
  {
   "cell_type": "code",
   "execution_count": 30,
   "metadata": {},
   "outputs": [
    {
     "data": {
      "text/plain": [
       "state\n",
       "california        75\n",
       "washington        56\n",
       "colorado          53\n",
       "new-york          38\n",
       "north-carolina    31\n",
       "texas             30\n",
       "michigan          29\n",
       "massachusetts     28\n",
       "wisconsin         27\n",
       "oregon            26\n",
       "pennsylvania      23\n",
       "montana           22\n",
       "florida           19\n",
       "maine             18\n",
       "ohio              18\n",
       "illinois          16\n",
       "georgia           14\n",
       "new-jersey        14\n",
       "idaho             13\n",
       "arizona           12\n",
       "vermont           12\n",
       "maryland          11\n",
       "new-mexico        11\n",
       "virginia          11\n",
       "missouri          10\n",
       "alaska             9\n",
       "south-carolina     9\n",
       "minnesota          8\n",
       "rhode-island       8\n",
       "indiana            8\n",
       "louisiana          7\n",
       "kansas             6\n",
       "oklahoma           6\n",
       "new-hampshire      6\n",
       "hawaii             5\n",
       "kentucky           4\n",
       "tennessee          4\n",
       "delaware           4\n",
       "connecticut        4\n",
       "iowa               3\n",
       "nebraska           3\n",
       "south-dakota       3\n",
       "nevada             3\n",
       "wyoming            2\n",
       "alabama            2\n",
       "arkansas           1\n",
       "puerto-rico        1\n",
       "utah               1\n",
       "dtype: int64"
      ]
     },
     "execution_count": 30,
     "metadata": {},
     "output_type": "execute_result"
    }
   ],
   "source": [
    "freq_microbrew = data_microbrew.groupby(newdata['state']).size()\n",
    "freq_microbrew.sort_values(ascending = False)"
   ]
  },
  {
   "cell_type": "code",
   "execution_count": 31,
   "metadata": {},
   "outputs": [
    {
     "data": {
      "image/png": "[encoded data removed]",
      "text/plain": [
       "<Figure size 1080x720 with 1 Axes>"
      ]
     },
     "metadata": {
      "needs_background": "light"
     },
     "output_type": "display_data"
    }
   ],
   "source": [
    "plt.figure(figsize=(15,10))\n",
    "data_microbrew['state'].value_counts().plot(kind='bar', color='purple', title='Microbreweries across states');"
   ]
  },
  {
   "cell_type": "markdown",
   "metadata": {},
   "source": [
    "California, Washington, Colorado and New York are the states with a larger number of microbreweries."
   ]
  },
  {
   "cell_type": "markdown",
   "metadata": {},
   "source": [
    "### Prevalence of Multitap Bars <a name=\"multitap\"></a>"
   ]
  },
  {
   "cell_type": "code",
   "execution_count": 32,
   "metadata": {},
   "outputs": [
    {
     "data": {
      "text/plain": [
       "(2, 6)"
      ]
     },
     "execution_count": 32,
     "metadata": {},
     "output_type": "execute_result"
    }
   ],
   "source": [
    "data_multitap = newdata[newdata.type == 'MultitapBar']\n",
    "data_multitap.shape"
   ]
  },
  {
   "cell_type": "code",
   "execution_count": 33,
   "metadata": {},
   "outputs": [
    {
     "data": {
      "text/plain": [
       "state\n",
       "california    2\n",
       "dtype: int64"
      ]
     },
     "execution_count": 33,
     "metadata": {},
     "output_type": "execute_result"
    }
   ],
   "source": [
    "freq_multitap = data_multitap.groupby(newdata['state']).size()\n",
    "freq_multitap.sort_values(ascending = False)"
   ]
  },
  {
   "cell_type": "markdown",
   "metadata": {},
   "source": [
    "The only state with multitap bars is California, with these amounting up to two. A graphic representation may not provide a relevant and useful insight in this case."
   ]
  },
  {
   "cell_type": "markdown",
   "metadata": {},
   "source": [
    "### Prevalence of Regional Breweries <a name=\"regional\"></a>"
   ]
  },
  {
   "cell_type": "code",
   "execution_count": 40,
   "metadata": {},
   "outputs": [
    {
     "data": {
      "text/plain": [
       "(44, 6)"
      ]
     },
     "execution_count": 40,
     "metadata": {},
     "output_type": "execute_result"
    }
   ],
   "source": [
    "data_regional = newdata[newdata.type == 'RegionalBrewery']\n",
    "data_regional.shape"
   ]
  },
  {
   "cell_type": "code",
   "execution_count": 41,
   "metadata": {},
   "outputs": [
    {
     "data": {
      "text/plain": [
       "state\n",
       "california       8\n",
       "wisconsin        4\n",
       "vermont          3\n",
       "new-york         3\n",
       "pennsylvania     3\n",
       "colorado         2\n",
       "delaware         2\n",
       "florida          2\n",
       "utah             2\n",
       "minnesota        2\n",
       "ohio             2\n",
       "new-hampshire    1\n",
       "washington       1\n",
       "michigan         1\n",
       "massachusetts    1\n",
       "maryland         1\n",
       "illinois         1\n",
       "georgia          1\n",
       "oregon           1\n",
       "puerto-rico      1\n",
       "texas            1\n",
       "montana          1\n",
       "dtype: int64"
      ]
     },
     "execution_count": 41,
     "metadata": {},
     "output_type": "execute_result"
    }
   ],
   "source": [
    "freq_regional = data_regional.groupby(newdata['state']).size()\n",
    "freq_regional.sort_values(ascending = False)"
   ]
  },
  {
   "cell_type": "code",
   "execution_count": 42,
   "metadata": {},
   "outputs": [
    {
     "data": {
      "image/png": "[encoded data removed]",
      "text/plain": [
       "<Figure size 1080x720 with 1 Axes>"
      ]
     },
     "metadata": {
      "needs_background": "light"
     },
     "output_type": "display_data"
    }
   ],
   "source": [
    "plt.figure(figsize=(15,10))\n",
    "data_regional['state'].value_counts().plot(kind='bar', color='indianred', title='Regional breweries across states');"
   ]
  },
  {
   "cell_type": "markdown",
   "metadata": {},
   "source": [
    "California is the state with the highest number of regional breweries, more than doubling the amount of such breweries in the most of the other states that also have regional breweries within their borders. "
   ]
  },
  {
   "cell_type": "markdown",
   "metadata": {},
   "source": [
    "## Brewery Name Analysis <a name=\"name\"></a>"
   ]
  },
  {
   "cell_type": "markdown",
   "metadata": {},
   "source": [
    "We may expect a large proportion of breweries to contain words such as 'brewery', 'brewing', 'beer', etc in their names. These patterns in the names can be checked in the following manner:"
   ]
  },
  {
   "cell_type": "code",
   "execution_count": 37,
   "metadata": {},
   "outputs": [
    {
     "name": "stdout",
     "output_type": "stream",
     "text": [
      "615\n"
     ]
    }
   ],
   "source": [
    "print(newdata.brewery_name.str.count('Brewery').sum())"
   ]
  },
  {
   "cell_type": "markdown",
   "metadata": {},
   "source": [
    "A total of 615 active breweries (about 27.4%) contain 'brewery' in their name."
   ]
  },
  {
   "cell_type": "code",
   "execution_count": 38,
   "metadata": {},
   "outputs": [
    {
     "name": "stdout",
     "output_type": "stream",
     "text": [
      "1086\n"
     ]
    }
   ],
   "source": [
    "print(newdata.brewery_name.str.count('Brewing').sum())"
   ]
  },
  {
   "cell_type": "markdown",
   "metadata": {},
   "source": [
    "When it comes to breweries containing 'brewing' in their name, this is true for 1086 of them (about 48.4%)."
   ]
  },
  {
   "cell_type": "code",
   "execution_count": 39,
   "metadata": {},
   "outputs": [
    {
     "name": "stdout",
     "output_type": "stream",
     "text": [
      "50\n"
     ]
    }
   ],
   "source": [
    "print(newdata.brewery_name.str.count('Brew ').sum())"
   ]
  },
  {
   "cell_type": "markdown",
   "metadata": {},
   "source": [
    "'Brew' is not as popular as 'brewing' or 'brewery' as it is contained in only 2.23% of the names."
   ]
  },
  {
   "cell_type": "code",
   "execution_count": 40,
   "metadata": {},
   "outputs": [
    {
     "name": "stdout",
     "output_type": "stream",
     "text": [
      "48\n"
     ]
    }
   ],
   "source": [
    "print(newdata.brewery_name.str.count('Beer').sum())"
   ]
  },
  {
   "cell_type": "markdown",
   "metadata": {},
   "source": [
    "Surprisingly enough, 'beer' is not common to appear in US breweries names. This is true only in 2.14% of the cases."
   ]
  },
  {
   "cell_type": "code",
   "execution_count": 41,
   "metadata": {},
   "outputs": [
    {
     "name": "stdout",
     "output_type": "stream",
     "text": [
      "8\n"
     ]
    }
   ],
   "source": [
    "print(newdata.brewery_name.str.count('Craft').sum())"
   ]
  },
  {
   "cell_type": "markdown",
   "metadata": {},
   "source": [
    "Moreover, the word 'craft' (as in craft beer) is not a common word to appear in a brewery name in the US."
   ]
  }
 ],
 "metadata": {
  "kernelspec": {
   "display_name": "Python 3",
   "language": "python",
   "name": "python3"
  },
  "language_info": {
   "codemirror_mode": {
    "name": "ipython",
    "version": 3
   },
   "file_extension": ".py",
   "mimetype": "text/x-python",
   "name": "python",
   "nbconvert_exporter": "python",
   "pygments_lexer": "ipython3",
   "version": "3.8.2"
  }
 },
 "nbformat": 4,
 "nbformat_minor": 2
}
