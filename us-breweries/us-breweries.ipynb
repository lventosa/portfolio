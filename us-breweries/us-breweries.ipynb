{
 "cells": [
  {
   "cell_type": "markdown",
   "metadata": {},
   "source": [
    "# US Breweries Analysis"
   ]
  },
  {
   "cell_type": "code",
   "execution_count": 10,
   "metadata": {},
   "outputs": [],
   "source": [
    "import pandas as pd\n",
    "import seaborn as sns"
   ]
  },
  {
   "cell_type": "code",
   "execution_count": 12,
   "metadata": {},
   "outputs": [
    {
     "data": {
      "text/html": [
       "<div>\n",
       "<style scoped>\n",
       "    .dataframe tbody tr th:only-of-type {\n",
       "        vertical-align: middle;\n",
       "    }\n",
       "\n",
       "    .dataframe tbody tr th {\n",
       "        vertical-align: top;\n",
       "    }\n",
       "\n",
       "    .dataframe thead th {\n",
       "        text-align: right;\n",
       "    }\n",
       "</style>\n",
       "<table border=\"1\" class=\"dataframe\">\n",
       "  <thead>\n",
       "    <tr style=\"text-align: right;\">\n",
       "      <th></th>\n",
       "      <th>brewery_name</th>\n",
       "      <th>type</th>\n",
       "      <th>address</th>\n",
       "      <th>website</th>\n",
       "      <th>state</th>\n",
       "      <th>state_breweries</th>\n",
       "    </tr>\n",
       "  </thead>\n",
       "  <tbody>\n",
       "    <tr>\n",
       "      <th>0</th>\n",
       "      <td>Valley Brewing Co.</td>\n",
       "      <td>Brewpub</td>\n",
       "      <td>PO Box 4653, Stockton, California, 95204</td>\n",
       "      <td>http://www.valleybrew.com/</td>\n",
       "      <td>california</td>\n",
       "      <td>284</td>\n",
       "    </tr>\n",
       "    <tr>\n",
       "      <th>1</th>\n",
       "      <td>Valley Brewing Co.</td>\n",
       "      <td>Brewpub</td>\n",
       "      <td>157 Adams St., Stockton, California, 95204</td>\n",
       "      <td>http://www.valleybrew.com/</td>\n",
       "      <td>california</td>\n",
       "      <td>284</td>\n",
       "    </tr>\n",
       "    <tr>\n",
       "      <th>2</th>\n",
       "      <td>Valley Brewing Co</td>\n",
       "      <td>Microbrewery</td>\n",
       "      <td>1950 W Freemont, Stockton, California, 95203</td>\n",
       "      <td>http://www.valleybrew.com/</td>\n",
       "      <td>california</td>\n",
       "      <td>284</td>\n",
       "    </tr>\n",
       "    <tr>\n",
       "      <th>3</th>\n",
       "      <td>Ukiah Brewing Company</td>\n",
       "      <td>Brewpub</td>\n",
       "      <td>102 S. State St., Ukiah, California, 95482</td>\n",
       "      <td>http://www.ukiahbrewingco.com/</td>\n",
       "      <td>california</td>\n",
       "      <td>284</td>\n",
       "    </tr>\n",
       "    <tr>\n",
       "      <th>4</th>\n",
       "      <td>Tustin Brewing Co.</td>\n",
       "      <td>Brewpub</td>\n",
       "      <td>13011 Newport Ave. #100, Tustin, California, 9...</td>\n",
       "      <td>http://www.tustinbrewery.com/</td>\n",
       "      <td>california</td>\n",
       "      <td>284</td>\n",
       "    </tr>\n",
       "    <tr>\n",
       "      <th>...</th>\n",
       "      <td>...</td>\n",
       "      <td>...</td>\n",
       "      <td>...</td>\n",
       "      <td>...</td>\n",
       "      <td>...</td>\n",
       "      <td>...</td>\n",
       "    </tr>\n",
       "    <tr>\n",
       "      <th>2402</th>\n",
       "      <td>Capitol City Brewing Company (Capitol Hill)</td>\n",
       "      <td>Brewpub</td>\n",
       "      <td>2 Massachusetts Ave., Washington, DC, Washingt...</td>\n",
       "      <td>http://www.capcitybrew.com/</td>\n",
       "      <td>washington-dc</td>\n",
       "      <td>9</td>\n",
       "    </tr>\n",
       "    <tr>\n",
       "      <th>2403</th>\n",
       "      <td>Capitol City Brewing Company</td>\n",
       "      <td>Brewpub</td>\n",
       "      <td>1100 New York Ave. NW, Washington, DC, Washing...</td>\n",
       "      <td>http://www.capcitybrew.com/</td>\n",
       "      <td>washington-dc</td>\n",
       "      <td>9</td>\n",
       "    </tr>\n",
       "    <tr>\n",
       "      <th>2404</th>\n",
       "      <td>Old Harbor Brewery</td>\n",
       "      <td>Brewpub</td>\n",
       "      <td>Gen del Valle 1021 Urb Delicias, San Juan, PR,...</td>\n",
       "      <td>http://oldharborbrewery.com/</td>\n",
       "      <td>puerto-rico</td>\n",
       "      <td>3</td>\n",
       "    </tr>\n",
       "    <tr>\n",
       "      <th>2405</th>\n",
       "      <td>Isla Verde Brewing Co.</td>\n",
       "      <td>Microbrewery</td>\n",
       "      <td>Condiminum Torrimar Plaza # 14B, Guaynabo , PR...</td>\n",
       "      <td>...</td>\n",
       "      <td>puerto-rico</td>\n",
       "      <td>3</td>\n",
       "    </tr>\n",
       "    <tr>\n",
       "      <th>2406</th>\n",
       "      <td>Cerveceria India Inc</td>\n",
       "      <td>RegionalBrewery</td>\n",
       "      <td>PO Box 1690, Mayaguez, PR, 681</td>\n",
       "      <td>...</td>\n",
       "      <td>puerto-rico</td>\n",
       "      <td>3</td>\n",
       "    </tr>\n",
       "  </tbody>\n",
       "</table>\n",
       "<p>2407 rows × 6 columns</p>\n",
       "</div>"
      ],
      "text/plain": [
       "                                     brewery_name             type  \\\n",
       "0                              Valley Brewing Co.          Brewpub   \n",
       "1                              Valley Brewing Co.          Brewpub   \n",
       "2                               Valley Brewing Co     Microbrewery   \n",
       "3                           Ukiah Brewing Company          Brewpub   \n",
       "4                              Tustin Brewing Co.          Brewpub   \n",
       "...                                           ...              ...   \n",
       "2402  Capitol City Brewing Company (Capitol Hill)          Brewpub   \n",
       "2403                 Capitol City Brewing Company          Brewpub   \n",
       "2404                           Old Harbor Brewery          Brewpub   \n",
       "2405                       Isla Verde Brewing Co.     Microbrewery   \n",
       "2406                         Cerveceria India Inc  RegionalBrewery   \n",
       "\n",
       "                                                address  \\\n",
       "0              PO Box 4653, Stockton, California, 95204   \n",
       "1            157 Adams St., Stockton, California, 95204   \n",
       "2          1950 W Freemont, Stockton, California, 95203   \n",
       "3            102 S. State St., Ukiah, California, 95482   \n",
       "4     13011 Newport Ave. #100, Tustin, California, 9...   \n",
       "...                                                 ...   \n",
       "2402  2 Massachusetts Ave., Washington, DC, Washingt...   \n",
       "2403  1100 New York Ave. NW, Washington, DC, Washing...   \n",
       "2404  Gen del Valle 1021 Urb Delicias, San Juan, PR,...   \n",
       "2405  Condiminum Torrimar Plaza # 14B, Guaynabo , PR...   \n",
       "2406                     PO Box 1690, Mayaguez, PR, 681   \n",
       "\n",
       "                                                website          state  \\\n",
       "0                            http://www.valleybrew.com/     california   \n",
       "1                            http://www.valleybrew.com/     california   \n",
       "2                            http://www.valleybrew.com/     california   \n",
       "3                        http://www.ukiahbrewingco.com/     california   \n",
       "4                         http://www.tustinbrewery.com/     california   \n",
       "...                                                 ...            ...   \n",
       "2402                        http://www.capcitybrew.com/  washington-dc   \n",
       "2403                        http://www.capcitybrew.com/  washington-dc   \n",
       "2404                       http://oldharborbrewery.com/    puerto-rico   \n",
       "2405                                                ...    puerto-rico   \n",
       "2406                                                ...    puerto-rico   \n",
       "\n",
       "      state_breweries  \n",
       "0                 284  \n",
       "1                 284  \n",
       "2                 284  \n",
       "3                 284  \n",
       "4                 284  \n",
       "...               ...  \n",
       "2402                9  \n",
       "2403                9  \n",
       "2404                3  \n",
       "2405                3  \n",
       "2406                3  \n",
       "\n",
       "[2407 rows x 6 columns]"
      ]
     },
     "execution_count": 12,
     "metadata": {},
     "output_type": "execute_result"
    }
   ],
   "source": [
    "data = pd.read_csv('../us-breweries/datasets_367098_716040_breweries_us.csv')\n",
    "data"
   ]
  },
  {
   "cell_type": "markdown",
   "metadata": {},
   "source": [
    "## Data Exploration"
   ]
  },
  {
   "cell_type": "code",
   "execution_count": 3,
   "metadata": {},
   "outputs": [
    {
     "data": {
      "text/plain": [
       "Index(['brewery_name', 'type', 'address', 'website', 'state',\n",
       "       'state_breweries'],\n",
       "      dtype='object')"
      ]
     },
     "execution_count": 3,
     "metadata": {},
     "output_type": "execute_result"
    }
   ],
   "source": [
    "data.columns"
   ]
  },
  {
   "cell_type": "code",
   "execution_count": 8,
   "metadata": {},
   "outputs": [
    {
     "data": {
      "text/plain": [
       "count           2407\n",
       "unique            51\n",
       "top       california\n",
       "freq             284\n",
       "Name: state, dtype: object"
      ]
     },
     "execution_count": 8,
     "metadata": {},
     "output_type": "execute_result"
    }
   ],
   "source": [
    "data['state'].describe()"
   ]
  },
  {
   "cell_type": "code",
   "execution_count": 43,
   "metadata": {},
   "outputs": [
    {
     "data": {
      "text/plain": [
       "state\n",
       "alabama             6\n",
       "alaska             14\n",
       "arizona            34\n",
       "arkansas            7\n",
       "california        284\n",
       "colorado          182\n",
       "connecticut        11\n",
       "delaware           14\n",
       "florida            99\n",
       "georgia            47\n",
       "hawaii             10\n",
       "idaho              28\n",
       "illinois           74\n",
       "indiana            31\n",
       "iowa               13\n",
       "kansas             26\n",
       "kentucky           12\n",
       "louisiana          15\n",
       "maine              44\n",
       "maryland           43\n",
       "massachusetts      71\n",
       "michigan           94\n",
       "minnesota          40\n",
       "missouri           21\n",
       "montana            32\n",
       "nebraska           15\n",
       "nevada             18\n",
       "new-hampshire      18\n",
       "new-jersey         41\n",
       "new-mexico         37\n",
       "new-york          107\n",
       "north-carolina     61\n",
       "north-dakota        5\n",
       "ohio               56\n",
       "oklahoma           16\n",
       "oregon            156\n",
       "pennsylvania      107\n",
       "puerto-rico         3\n",
       "rhode-island       12\n",
       "south-carolina     32\n",
       "south-dakota       11\n",
       "tennessee          28\n",
       "texas              90\n",
       "utah               21\n",
       "vermont            28\n",
       "virginia           43\n",
       "washington        151\n",
       "washington-dc       9\n",
       "west-virginia       5\n",
       "wisconsin          77\n",
       "wyoming             8\n",
       "dtype: int64"
      ]
     },
     "execution_count": 43,
     "metadata": {},
     "output_type": "execute_result"
    }
   ],
   "source": [
    "freq = data.groupby(data['state']).size()\n",
    "freq"
   ]
  },
  {
   "cell_type": "code",
   "execution_count": 9,
   "metadata": {},
   "outputs": [
    {
     "data": {
      "text/plain": [
       "count    2407.000000\n",
       "mean      106.878687\n",
       "std        81.773648\n",
       "min         3.000000\n",
       "25%        41.000000\n",
       "50%        90.000000\n",
       "75%       156.000000\n",
       "max       284.000000\n",
       "Name: state_breweries, dtype: float64"
      ]
     },
     "execution_count": 9,
     "metadata": {},
     "output_type": "execute_result"
    }
   ],
   "source": [
    "data['state_breweries'].describe()"
   ]
  },
  {
   "cell_type": "code",
   "execution_count": 13,
   "metadata": {},
   "outputs": [
    {
     "data": {
      "text/plain": [
       "<matplotlib.axes._subplots.AxesSubplot at 0x7fa3de33e5e0>"
      ]
     },
     "execution_count": 13,
     "metadata": {},
     "output_type": "execute_result"
    },
    {
     "data": {
      "image/png": "[encoded data removed]",
      "text/plain": [
       "<Figure size 432x288 with 1 Axes>"
      ]
     },
     "metadata": {
      "needs_background": "light"
     },
     "output_type": "display_data"
    }
   ],
   "source": [
    "sns.distplot(data['state_breweries'])"
   ]
  },
  {
   "cell_type": "code",
   "execution_count": 44,
   "metadata": {},
   "outputs": [
    {
     "data": {
      "text/plain": [
       "count        2407\n",
       "unique         12\n",
       "top       Brewpub\n",
       "freq         1320\n",
       "Name: type, dtype: object"
      ]
     },
     "execution_count": 44,
     "metadata": {},
     "output_type": "execute_result"
    }
   ],
   "source": [
    "data['type'].describe()"
   ]
  },
  {
   "cell_type": "code",
   "execution_count": 48,
   "metadata": {},
   "outputs": [
    {
     "data": {
      "text/plain": [
       "state      type           \n",
       "alabama    Brewpub             2\n",
       "           Contract            1\n",
       "           ContractBrewery     1\n",
       "           Microbrewery        2\n",
       "alaska     Brewpub             5\n",
       "                              ..\n",
       "wisconsin  ContractBrewery     2\n",
       "           Microbrewery       27\n",
       "           RegionalBrewery     4\n",
       "wyoming    Brewpub             6\n",
       "           Microbrewery        2\n",
       "Length: 234, dtype: int64"
      ]
     },
     "execution_count": 48,
     "metadata": {},
     "output_type": "execute_result"
    }
   ],
   "source": [
    "freq = data.groupby(['state','type']).size()\n",
    "freq "
   ]
  },
  {
   "cell_type": "code",
   "execution_count": null,
   "metadata": {},
   "outputs": [],
   "source": []
  }
 ],
 "metadata": {
  "kernelspec": {
   "display_name": "Python 3",
   "language": "python",
   "name": "python3"
  },
  "language_info": {
   "codemirror_mode": {
    "name": "ipython",
    "version": 3
   },
   "file_extension": ".py",
   "mimetype": "text/x-python",
   "name": "python",
   "nbconvert_exporter": "python",
   "pygments_lexer": "ipython3",
   "version": "3.7.3"
  }
 },
 "nbformat": 4,
 "nbformat_minor": 2
}
